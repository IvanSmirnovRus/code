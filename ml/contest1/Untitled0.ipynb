{
 "metadata": {
  "name": "",
  "signature": "sha256:a9e6ca217887469f2fea45c5505f1c43f9435b582fab6a9260240161ba9fa13a"
 },
 "nbformat": 3,
 "nbformat_minor": 0,
 "worksheets": [
  {
   "cells": [
    {
     "cell_type": "code",
     "collapsed": false,
     "input": [
      "%pylab inline\n",
      "import numpy as np\n",
      "import matplotlib.pyplot as plt\n",
      "from sklearn.metrics import roc_auc_score"
     ],
     "language": "python",
     "metadata": {},
     "outputs": [
      {
       "output_type": "stream",
       "stream": "stdout",
       "text": [
        "Populating the interactive namespace from numpy and matplotlib\n"
       ]
      },
      {
       "output_type": "stream",
       "stream": "stderr",
       "text": [
        "WARNING: pylab import has clobbered these variables: ['product', 'vectorize', 'random', 'test']\n",
        "`%matplotlib` prevents importing * from pylab and numpy\n"
       ]
      }
     ],
     "prompt_number": 67
    },
    {
     "cell_type": "code",
     "collapsed": false,
     "input": [
      "def read_X(filename):\n",
      "    X = list()\n",
      "    with open(filename) as f:\n",
      "        while True:\n",
      "            line = f.readline()\n",
      "            if not line:\n",
      "                break\n",
      "            amplitudes = [int(x) for x in line.strip().split(',')]\n",
      "            intervals = [int(x) for x in f.readline().strip().split(',')]\n",
      "            \n",
      "            f.readline() # skip an empty line\n",
      "            X.append((amplitudes, intervals))\n",
      "    return X"
     ],
     "language": "python",
     "metadata": {},
     "outputs": [],
     "prompt_number": 68
    },
    {
     "cell_type": "code",
     "collapsed": false,
     "input": [
      "X_train_ecg = read_X('X.train.csv')\n",
      "X_test_ecg = read_X('X.test.csv')\n",
      "print len(X_train_ecg), len(X_test_ecg)"
     ],
     "language": "python",
     "metadata": {},
     "outputs": [
      {
       "output_type": "stream",
       "stream": "stdout",
       "text": [
        "900 903\n"
       ]
      }
     ],
     "prompt_number": 69
    },
    {
     "cell_type": "code",
     "collapsed": false,
     "input": [
      "y_train = list()\n",
      "for line in open('y.train.csv'):\n",
      "    y_train.append(int(line))\n",
      "print len(y_train)"
     ],
     "language": "python",
     "metadata": {},
     "outputs": [
      {
       "output_type": "stream",
       "stream": "stdout",
       "text": [
        "900\n"
       ]
      }
     ],
     "prompt_number": 70
    },
    {
     "cell_type": "code",
     "collapsed": false,
     "input": [
      "def discretize(X):\n",
      "    discrete = list()\n",
      "    for amps, ints in X:\n",
      "        amps = np.array(amps).astype(float)\n",
      "        ints = np.array(ints).astype(float)\n",
      "        alphas = np.arctan(amps / ints)\n",
      "\n",
      "        amps = np.diff(amps)\n",
      "        ints = np.diff(ints)\n",
      "        alphas = np.diff(alphas)\n",
      "\n",
      "        s = list()\n",
      "        for ind, r, t, a in zip(range(600), amps, ints, alphas):\n",
      "            c = 'x'\n",
      "            if r > 0 and t > 0 and a > 0:\n",
      "                c = 'a'\n",
      "            if r <= 0 and t <= 0 and a > 0:\n",
      "                c = 'b'\n",
      "            if r > 0 and t <= 0 and a > 0:\n",
      "                c = 'c'\n",
      "            if r <= 0 and t > 0 and a <= 0:\n",
      "                c = 'd'\n",
      "            if r > 0 and t > 0 and a <= 0:\n",
      "                c = 'e'\n",
      "            if r <= 0 and t <= 0 and a <= 0:\n",
      "                c = 'f'\n",
      "            if c == 'x':\n",
      "                print 'Very strange!!!', ind, r, t, a\n",
      "            s.append(c)\n",
      "\n",
      "        discrete.append(s)\n",
      "    return discrete"
     ],
     "language": "python",
     "metadata": {},
     "outputs": [],
     "prompt_number": 71
    },
    {
     "cell_type": "code",
     "collapsed": false,
     "input": [
      "X_train_discrete = discretize(X_train_ecg)\n",
      "X_test_discrete = discretize(X_test_ecg)\n",
      "print len(X_train_discrete), len(X_test_discrete)\n"
     ],
     "language": "python",
     "metadata": {},
     "outputs": [
      {
       "output_type": "stream",
       "stream": "stdout",
       "text": [
        "900 903\n"
       ]
      }
     ],
     "prompt_number": 72
    },
    {
     "cell_type": "code",
     "collapsed": false,
     "input": [
      "from collections import defaultdict\n",
      "from itertools import product\n",
      "\n",
      "def vectorize(discrete):\n",
      "    vectorized = list()\n",
      "    for element in discrete:\n",
      "        current = defaultdict(int)\n",
      "        for j in range(597):\n",
      "            current[tuple(element[j:j+3])] += 1\n",
      "\n",
      "        vect = list()\n",
      "        for a, b, c in product('abcdef', 'abcdef', 'abcdef'):\n",
      "            vect.append(current[(a, b, c)])\n",
      "        vectorized.append(vect)\n",
      "    return np.array(vectorized).astype(float)"
     ],
     "language": "python",
     "metadata": {},
     "outputs": [],
     "prompt_number": 73
    },
    {
     "cell_type": "code",
     "collapsed": false,
     "input": [
      "X_train = vectorize(X_train_discrete)\n",
      "X_test = vectorize(X_test_discrete)\n",
      "print X_train.shape, X_test.shape"
     ],
     "language": "python",
     "metadata": {},
     "outputs": [
      {
       "output_type": "stream",
       "stream": "stdout",
       "text": [
        "(900, 216) (903, 216)\n"
       ]
      }
     ],
     "prompt_number": 74
    },
    {
     "cell_type": "code",
     "collapsed": false,
     "input": [
      "X = np.zeros((X_train.shape[0] + X_test.shape[0], X_train.shape[1]), dtype='float')\n",
      "X[0:X_train.shape[0]] = X_train\n",
      "X[X_train.shape[0]:] = X_test\n",
      "print X_train.shape, X_test.shape, X.shape"
     ],
     "language": "python",
     "metadata": {},
     "outputs": [
      {
       "output_type": "stream",
       "stream": "stdout",
       "text": [
        "(900, 216) (903, 216) (1803, 216)\n"
       ]
      }
     ],
     "prompt_number": 75
    },
    {
     "cell_type": "code",
     "collapsed": false,
     "input": [
      "from sklearn import preprocessing\n",
      "X_preprocessed = preprocessing.scale(X)\n",
      "print X_preprocessed.shape\n",
      "X_train_preprocessed = X_preprocessed[0:X_train.shape[0]]\n",
      "X_test_preprocessed = X_preprocessed[X_train.shape[0]:]\n",
      "print X_train_preprocessed.shape, X_test_preprocessed.shape"
     ],
     "language": "python",
     "metadata": {},
     "outputs": [
      {
       "output_type": "stream",
       "stream": "stdout",
       "text": [
        "(1803, 216)\n",
        "(900, 216) (903, 216)\n"
       ]
      }
     ],
     "prompt_number": 76
    },
    {
     "cell_type": "code",
     "collapsed": false,
     "input": [
      "from sklearn.grid_search import GridSearchCV\n",
      "from sklearn.neighbors import KNeighborsClassifier as KNN\n",
      "from sklearn.metrics import roc_auc_score\n",
      "\n",
      "import time\n",
      "\n",
      "params = {'n_neighbors': np.arange(1, 200, 5), 'p': [2]}\n",
      "grid_searcher = GridSearchCV(KNN(),\\\n",
      "                             params, cv=5, scoring='roc_auc', n_jobs=4)\n",
      "start = time.time()\n",
      "grid_searcher.fit(X_train_preprocessed, y_train)\n",
      "print \"Fit is completed. Time: %f\" % (time.time() - start)\n",
      "\n",
      "print grid_searcher.best_score_\n",
      "print grid_searcher.best_estimator_"
     ],
     "language": "python",
     "metadata": {},
     "outputs": [
      {
       "output_type": "stream",
       "stream": "stdout",
       "text": [
        "Fit is completed. Time: 6.980022\n",
        "0.955666762867\n",
        "KNeighborsClassifier(algorithm=auto, leaf_size=30, metric=minkowski,\n",
        "           n_neighbors=86, p=2, weights=uniform)\n"
       ]
      }
     ],
     "prompt_number": 77
    },
    {
     "cell_type": "code",
     "collapsed": false,
     "input": [
      "def plot_quality(grid_searcher, param_name):\n",
      "    means = []\n",
      "    stds = []\n",
      "    for elem in grid_searcher.grid_scores_:\n",
      "        means.append(np.mean(elem.cv_validation_scores))\n",
      "        stds.append(np.sqrt(np.var(elem.cv_validation_scores)))\n",
      "    means = np.array(means)\n",
      "    stds = np.array(stds)\n",
      "    \n",
      "    params = grid_searcher.param_grid\n",
      "    \n",
      "    plt.figure(figsize=(8, 6))\n",
      "    plt.plot(params[param_name], means)\n",
      "    fill_between(params[param_name], \\\n",
      "                 means + stds, means - stds, alpha = 0.3, facecolor='blue')\n",
      "    xlabel(param_name)\n",
      "    ylabel('AUC')"
     ],
     "language": "python",
     "metadata": {},
     "outputs": [],
     "prompt_number": 78
    },
    {
     "cell_type": "code",
     "collapsed": false,
     "input": [
      "plot_quality(grid_searcher, 'n_neighbors')"
     ],
     "language": "python",
     "metadata": {},
     "outputs": [
      {
       "metadata": {},
       "output_type": "display_data",
       "png": "[encoded data removed]",
       "text": [
        "<matplotlib.figure.Figure at 0x10a422210>"
       ]
      }
     ],
     "prompt_number": 79
    },
    {
     "cell_type": "code",
     "collapsed": false,
     "input": [
      "params = {'n_neighbors': np.arange(50, 100, 1), 'p': [2]}\n",
      "grid_searcher = GridSearchCV(KNN(),\\\n",
      "                             params, cv=5, scoring='roc_auc', n_jobs=4)\n",
      "start = time.time()\n",
      "grid_searcher.fit(X_train_preprocessed, y_train)\n",
      "print \"Fit is completed. Time: %f\" % (time.time() - start)\n",
      "\n",
      "print grid_searcher.best_score_\n",
      "print grid_searcher.best_estimator_\n",
      "KNN_SCALE = grid_searcher.best_estimator_"
     ],
     "language": "python",
     "metadata": {},
     "outputs": [
      {
       "output_type": "stream",
       "stream": "stdout",
       "text": [
        "Fit is completed. Time: 7.768553\n",
        "0.95581525306\n",
        "KNeighborsClassifier(algorithm=auto, leaf_size=30, metric=minkowski,\n",
        "           n_neighbors=88, p=2, weights=uniform)\n"
       ]
      }
     ],
     "prompt_number": 80
    },
    {
     "cell_type": "code",
     "collapsed": false,
     "input": [
      "clf = grid_searcher.best_estimator_.fit(X_train_preprocessed, y_train)\n",
      "results = clf.predict_proba(X_test_preprocessed)[:, 1]\n",
      "f = open('y.test.baseline.scaled.csv', 'w')\n",
      "print >> f, 'Id,Prediction'\n",
      "for i, result in enumerate(results):\n",
      "    print >> f, str(i+1) + ',' + str(result)\n",
      "f.close()"
     ],
     "language": "python",
     "metadata": {},
     "outputs": [],
     "prompt_number": 81
    },
    {
     "cell_type": "heading",
     "level": 2,
     "metadata": {},
     "source": [
      "\u0427\u0430\u0441\u0442\u043e\u0442\u044b"
     ]
    },
    {
     "cell_type": "code",
     "collapsed": false,
     "input": [
      "for column_counter in xrange(X.shape[1]):\n",
      "    X[:, column_counter] /= sum(X[:, column_counter])"
     ],
     "language": "python",
     "metadata": {},
     "outputs": [],
     "prompt_number": 19
    },
    {
     "cell_type": "code",
     "collapsed": false,
     "input": [
      "X_train = X[0:X_train.shape[0]]\n",
      "X_test = X[X_train.shape[0]:]"
     ],
     "language": "python",
     "metadata": {},
     "outputs": [],
     "prompt_number": 20
    },
    {
     "cell_type": "code",
     "collapsed": false,
     "input": [
      "params = {'n_neighbors': np.arange(1, 200, 5), 'p': [0.1, 1, 2]}\n",
      "grid_searcher = GridSearchCV(KNN(),\\\n",
      "                             params, cv=5, scoring='roc_auc', n_jobs=4)\n",
      "start = time.time()\n",
      "grid_searcher.fit(X_train, y_train)\n",
      "print \"Fit is completed. Time: %f\" % (time.time() - start)\n",
      "\n",
      "print grid_searcher.best_score_\n",
      "print grid_searcher.best_estimator_"
     ],
     "language": "python",
     "metadata": {},
     "outputs": [
      {
       "output_type": "stream",
       "stream": "stdout",
       "text": [
        "Fit is completed. Time: 24.762108\n",
        "0.951598512105\n",
        "KNeighborsClassifier(algorithm=auto, leaf_size=30, metric=minkowski,\n",
        "           n_neighbors=76, p=0.1, weights=uniform)\n"
       ]
      }
     ],
     "prompt_number": 21
    },
    {
     "cell_type": "code",
     "collapsed": false,
     "input": [],
     "language": "python",
     "metadata": {},
     "outputs": []
    },
    {
     "cell_type": "heading",
     "level": 2,
     "metadata": {},
     "source": [
      "RANDOM FOREST"
     ]
    },
    {
     "cell_type": "code",
     "collapsed": false,
     "input": [
      "from sklearn.tree import DecisionTreeClassifier"
     ],
     "language": "python",
     "metadata": {},
     "outputs": [],
     "prompt_number": 82
    },
    {
     "cell_type": "code",
     "collapsed": false,
     "input": [
      "params = {'criterion': ['gini','entropy'], 'max_depth': [6,10,15,20,None], 'min_samples_split': [2,4,8,16], 'min_samples_leaf': [1,2,4,8,16,32]}\n",
      "grid_searcher = GridSearchCV(DecisionTreeClassifier(),\\\n",
      "                             params, cv=5, scoring='roc_auc', n_jobs=4)\n",
      "start = time.time()\n",
      "grid_searcher.fit(X_train_preprocessed, y_train)\n",
      "print \"Fit is completed. Time: %f\" % (time.time() - start)\n",
      "\n",
      "print grid_searcher.best_score_\n",
      "print grid_searcher.best_estimator_\n"
     ],
     "language": "python",
     "metadata": {},
     "outputs": [
      {
       "output_type": "stream",
       "stream": "stdout",
       "text": [
        "Fit is completed. Time: 35.045672\n",
        "0.926965466303\n",
        "DecisionTreeClassifier(compute_importances=None, criterion=entropy,\n",
        "            max_depth=None, max_features=None, min_density=None,\n",
        "            min_samples_leaf=16, min_samples_split=8, random_state=None,\n",
        "            splitter=best)\n"
       ]
      }
     ],
     "prompt_number": 83
    },
    {
     "cell_type": "code",
     "collapsed": false,
     "input": [
      "good_features=np.argsort(grid_searcher.best_estimator_.feature_importances_)[::-1][0:18]"
     ],
     "language": "python",
     "metadata": {},
     "outputs": [],
     "prompt_number": 24
    },
    {
     "cell_type": "code",
     "collapsed": false,
     "input": [
      "sorted(grid_searcher.best_estimator_.feature_importances_)[::-1]"
     ],
     "language": "python",
     "metadata": {},
     "outputs": [
      {
       "metadata": {},
       "output_type": "pyout",
       "prompt_number": 25,
       "text": [
        "[0.5329878199885828,\n",
        " 0.14090882787980413,\n",
        " 0.074922950986454809,\n",
        " 0.046432602694791943,\n",
        " 0.023567215349057757,\n",
        " 0.020306329105292596,\n",
        " 0.019465986672237735,\n",
        " 0.01789592894077004,\n",
        " 0.016572192596089386,\n",
        " 0.016323620533991307,\n",
        " 0.014981339499894062,\n",
        " 0.012093674444032608,\n",
        " 0.012018290883416672,\n",
        " 0.011491812073772719,\n",
        " 0.010643290577455411,\n",
        " 0.010621380624925228,\n",
        " 0.0097972495117932927,\n",
        " 0.0089694876376376978,\n",
        " 0.0,\n",
        " 0.0,\n",
        " 0.0,\n",
        " 0.0,\n",
        " 0.0,\n",
        " 0.0,\n",
        " 0.0,\n",
        " 0.0,\n",
        " 0.0,\n",
        " 0.0,\n",
        " 0.0,\n",
        " 0.0,\n",
        " 0.0,\n",
        " 0.0,\n",
        " 0.0,\n",
        " 0.0,\n",
        " 0.0,\n",
        " 0.0,\n",
        " 0.0,\n",
        " 0.0,\n",
        " 0.0,\n",
        " 0.0,\n",
        " 0.0,\n",
        " 0.0,\n",
        " 0.0,\n",
        " 0.0,\n",
        " 0.0,\n",
        " 0.0,\n",
        " 0.0,\n",
        " 0.0,\n",
        " 0.0,\n",
        " 0.0,\n",
        " 0.0,\n",
        " 0.0,\n",
        " 0.0,\n",
        " 0.0,\n",
        " 0.0,\n",
        " 0.0,\n",
        " 0.0,\n",
        " 0.0,\n",
        " 0.0,\n",
        " 0.0,\n",
        " 0.0,\n",
        " 0.0,\n",
        " 0.0,\n",
        " 0.0,\n",
        " 0.0,\n",
        " 0.0,\n",
        " 0.0,\n",
        " 0.0,\n",
        " 0.0,\n",
        " 0.0,\n",
        " 0.0,\n",
        " 0.0,\n",
        " 0.0,\n",
        " 0.0,\n",
        " 0.0,\n",
        " 0.0,\n",
        " 0.0,\n",
        " 0.0,\n",
        " 0.0,\n",
        " 0.0,\n",
        " 0.0,\n",
        " 0.0,\n",
        " 0.0,\n",
        " 0.0,\n",
        " 0.0,\n",
        " 0.0,\n",
        " 0.0,\n",
        " 0.0,\n",
        " 0.0,\n",
        " 0.0,\n",
        " 0.0,\n",
        " 0.0,\n",
        " 0.0,\n",
        " 0.0,\n",
        " 0.0,\n",
        " 0.0,\n",
        " 0.0,\n",
        " 0.0,\n",
        " 0.0,\n",
        " 0.0,\n",
        " 0.0,\n",
        " 0.0,\n",
        " 0.0,\n",
        " 0.0,\n",
        " 0.0,\n",
        " 0.0,\n",
        " 0.0,\n",
        " 0.0,\n",
        " 0.0,\n",
        " 0.0,\n",
        " 0.0,\n",
        " 0.0,\n",
        " 0.0,\n",
        " 0.0,\n",
        " 0.0,\n",
        " 0.0,\n",
        " 0.0,\n",
        " 0.0,\n",
        " 0.0,\n",
        " 0.0,\n",
        " 0.0,\n",
        " 0.0,\n",
        " 0.0,\n",
        " 0.0,\n",
        " 0.0,\n",
        " 0.0,\n",
        " 0.0,\n",
        " 0.0,\n",
        " 0.0,\n",
        " 0.0,\n",
        " 0.0,\n",
        " 0.0,\n",
        " 0.0,\n",
        " 0.0,\n",
        " 0.0,\n",
        " 0.0,\n",
        " 0.0,\n",
        " 0.0,\n",
        " 0.0,\n",
        " 0.0,\n",
        " 0.0,\n",
        " 0.0,\n",
        " 0.0,\n",
        " 0.0,\n",
        " 0.0,\n",
        " 0.0,\n",
        " 0.0,\n",
        " 0.0,\n",
        " 0.0,\n",
        " 0.0,\n",
        " 0.0,\n",
        " 0.0,\n",
        " 0.0,\n",
        " 0.0,\n",
        " 0.0,\n",
        " 0.0,\n",
        " 0.0,\n",
        " 0.0,\n",
        " 0.0,\n",
        " 0.0,\n",
        " 0.0,\n",
        " 0.0,\n",
        " 0.0,\n",
        " 0.0,\n",
        " 0.0,\n",
        " 0.0,\n",
        " 0.0,\n",
        " 0.0,\n",
        " 0.0,\n",
        " 0.0,\n",
        " 0.0,\n",
        " 0.0,\n",
        " 0.0,\n",
        " 0.0,\n",
        " 0.0,\n",
        " 0.0,\n",
        " 0.0,\n",
        " 0.0,\n",
        " 0.0,\n",
        " 0.0,\n",
        " 0.0,\n",
        " 0.0,\n",
        " 0.0,\n",
        " 0.0,\n",
        " 0.0,\n",
        " 0.0,\n",
        " 0.0,\n",
        " 0.0,\n",
        " 0.0,\n",
        " 0.0,\n",
        " 0.0,\n",
        " 0.0,\n",
        " 0.0,\n",
        " 0.0,\n",
        " 0.0,\n",
        " 0.0,\n",
        " 0.0,\n",
        " 0.0,\n",
        " 0.0,\n",
        " 0.0,\n",
        " 0.0,\n",
        " 0.0,\n",
        " 0.0,\n",
        " 0.0,\n",
        " 0.0,\n",
        " 0.0,\n",
        " 0.0,\n",
        " 0.0,\n",
        " 0.0,\n",
        " 0.0,\n",
        " 0.0,\n",
        " 0.0,\n",
        " 0.0,\n",
        " 0.0,\n",
        " 0.0,\n",
        " 0.0]"
       ]
      }
     ],
     "prompt_number": 25
    },
    {
     "cell_type": "code",
     "collapsed": false,
     "input": [
      "grid_searcher.best_estimator_.feature_importances_[169]"
     ],
     "language": "python",
     "metadata": {},
     "outputs": [
      {
       "metadata": {},
       "output_type": "pyout",
       "prompt_number": 26,
       "text": [
        "0.0"
       ]
      }
     ],
     "prompt_number": 26
    },
    {
     "cell_type": "code",
     "collapsed": false,
     "input": [
      "from sklearn.cross_validation import train_test_split\n",
      "train, test, y, y_test = train_test_split(X_train, y_train, test_size=0.1)"
     ],
     "language": "python",
     "metadata": {},
     "outputs": [],
     "prompt_number": 86
    },
    {
     "cell_type": "code",
     "collapsed": false,
     "input": [
      "import random\n",
      "params = {'criterion': ['gini','entropy'], 'max_depth': [2, 3, 6, 8, 9, 12, 16, None], 'min_samples_split': [2,4,8, 9, 12, 16], 'min_samples_leaf': [1,2,4,8,9,12,16]}\n",
      "random_forest = []\n",
      "start = time.time()\n",
      "for random_counter in xrange(300):\n",
      "    criterion = 'gini' if random.random() < 0.5 else 'entropy'\n",
      "    max_depth = params['max_depth'][random.randint(0, len(params['max_depth']) - 1)]\n",
      "    min_samples_split = params['min_samples_split'][random.randint(0, len(params['min_samples_split']) - 1)]\n",
      "    min_samples_leaf = params['min_samples_leaf'][random.randint(0, len(params['min_samples_leaf']) - 1)]\n",
      "    tree = DecisionTreeClassifier(criterion=criterion, max_depth=max_depth, min_samples_split=min_samples_split, min_samples_leaf=min_samples_leaf)\n",
      "    tree.fit(train, y)\n",
      "    random_forest.append(tree)\n",
      "print \"Time: %f\" % (time.time() - start)"
     ],
     "language": "python",
     "metadata": {},
     "outputs": [
      {
       "output_type": "stream",
       "stream": "stdout",
       "text": [
        "Time: 15.777519\n"
       ]
      }
     ],
     "prompt_number": 88
    },
    {
     "cell_type": "code",
     "collapsed": false,
     "input": [
      "prediction = np.zeros(test.shape[0])\n",
      "qualities = []\n",
      "for tree_counter, tree in enumerate(random_forest):\n",
      "    prediction += tree.predict(test)\n",
      "    qualities.append(roc_auc_score(y_test, prediction / (tree_counter + 1)))\n",
      "prediction /= len(random_forest)\n",
      "prediction"
     ],
     "language": "python",
     "metadata": {},
     "outputs": [
      {
       "metadata": {},
       "output_type": "pyout",
       "prompt_number": 89,
       "text": [
        "array([ 0.98333333,  1.        ,  1.        ,  1.        ,  0.05333333,\n",
        "        0.        ,  1.        ,  1.        ,  0.98666667,  1.        ,\n",
        "        0.        ,  1.        ,  1.        ,  1.        ,  0.        ,\n",
        "        0.16      ,  1.        ,  0.06      ,  1.        ,  0.88333333,\n",
        "        1.        ,  1.        ,  1.        ,  0.99333333,  1.        ,\n",
        "        1.        ,  0.03666667,  0.76333333,  1.        ,  0.76333333,\n",
        "        0.14333333,  1.        ,  1.        ,  1.        ,  1.        ,\n",
        "        1.        ,  1.        ,  1.        ,  0.89333333,  1.        ,\n",
        "        1.        ,  0.33333333,  0.39      ,  0.25666667,  1.        ,\n",
        "        1.        ,  0.        ,  1.        ,  1.        ,  1.        ,\n",
        "        1.        ,  1.        ,  0.        ,  1.        ,  1.        ,\n",
        "        0.        ,  1.        ,  1.        ,  1.        ,  0.22      ,\n",
        "        0.27      ,  0.16666667,  1.        ,  1.        ,  1.        ,\n",
        "        1.        ,  0.32      ,  0.99666667,  1.        ,  0.        ,\n",
        "        1.        ,  0.74      ,  0.        ,  0.99333333,  1.        ,\n",
        "        0.43      ,  1.        ,  1.        ,  0.        ,  0.39333333,\n",
        "        1.        ,  1.        ,  0.99      ,  1.        ,  1.        ,\n",
        "        1.        ,  0.36666667,  0.        ,  0.98333333,  1.        ])"
       ]
      }
     ],
     "prompt_number": 89
    },
    {
     "cell_type": "code",
     "collapsed": false,
     "input": [
      "prediction = np.zeros(test.shape[0])\n",
      "qualities = []\n",
      "for tree_counter, tree in enumerate(random_forest):\n",
      "    prediction += tree.predict(test)\n",
      "    qualities.append(roc_auc_score(y_test, prediction / (tree_counter + 1)))\n",
      "prediction /= len(random_forest)"
     ],
     "language": "python",
     "metadata": {},
     "outputs": [],
     "prompt_number": 90
    },
    {
     "cell_type": "code",
     "collapsed": false,
     "input": [
      "print max(qualities)\n",
      "print qualities.index(max(qualities))\n",
      "plot(xrange(0, len(random_forest)), qualities)\n",
      "ylim(0.9, 1.0)"
     ],
     "language": "python",
     "metadata": {},
     "outputs": [
      {
       "output_type": "stream",
       "stream": "stdout",
       "text": [
        "0.937815656566\n",
        "11\n"
       ]
      },
      {
       "metadata": {},
       "output_type": "pyout",
       "prompt_number": 92,
       "text": [
        "(0.9, 1.0)"
       ]
      },
      {
       "metadata": {},
       "output_type": "display_data",
       "png": "[encoded data removed]",
       "text": [
        "<matplotlib.figure.Figure at 0x10969fad0>"
       ]
      }
     ],
     "prompt_number": 92
    },
    {
     "cell_type": "code",
     "collapsed": false,
     "input": [
      "roc_auc_score(y_test, prediction)"
     ],
     "language": "python",
     "metadata": {},
     "outputs": []
    },
    {
     "cell_type": "code",
     "collapsed": false,
     "input": [
      "import random\n",
      "params = {'criterion': ['gini','entropy'], 'max_depth': [6, 8, 16, 32, None], 'min_samples_split': [2,4,8,16, 32, 100], 'min_samples_leaf': [1,2,4,8,16,32, 100]}\n",
      "random_forest = []\n",
      "for random_counter in xrange(3000):\n",
      "    criterion = 'gini' if random.random() < 0.5 else 'entropy'\n",
      "    max_depth = params['max_depth'][random.randint(0, len(params['max_depth']) - 1)]\n",
      "    min_samples_split = params['min_samples_split'][random.randint(0, len(params['min_samples_split']) - 1)]\n",
      "    min_samples_leaf = params['min_samples_leaf'][random.randint(0, len(params['min_samples_leaf']) - 1)]\n",
      "    tree = DecisionTreeClassifier(criterion=criterion, max_depth=max_depth, min_samples_split=min_samples_split, min_samples_leaf=min_samples_leaf)\n",
      "    tree.fit(X_train_preprocessed, y_train)\n",
      "    random_forest.append(tree)"
     ],
     "language": "python",
     "metadata": {},
     "outputs": [],
     "prompt_number": 32
    },
    {
     "cell_type": "code",
     "collapsed": false,
     "input": [
      "prediction = np.zeros(X_test_preprocessed.shape[0])\n",
      "for tree in random_forest:\n",
      "    prediction += tree.predict(X_test_preprocessed)\n",
      "prediction /= len(random_forest)\n",
      "f = open('y.test.baseline.scaled.randomforest.csv', 'w')\n",
      "print >> f, 'Id,Prediction'\n",
      "for i, result in enumerate(prediction):\n",
      "    print >> f, str(i+1) + ',' + str(result)\n",
      "f.close()"
     ],
     "language": "python",
     "metadata": {},
     "outputs": [],
     "prompt_number": 33
    },
    {
     "cell_type": "code",
     "collapsed": false,
     "input": [
      "from collections import defaultdict\n",
      "from itertools import product\n",
      "\n",
      "def vectorize(discrete):\n",
      "    vectorized = list()\n",
      "    for element in discrete:\n",
      "        current = defaultdict(int)\n",
      "        for j in range(597):\n",
      "            current[tuple(element[j:j+3])] += 1\n",
      "        for j in range(596):\n",
      "            current[tuple(element[j:j+4])] += 1\n",
      "        for j in range(598):\n",
      "            current[tuple(element[j:j+2])] += 1\n",
      "        for j in range(599):\n",
      "            current[tuple(element[j:j+1])] += 1\n",
      "\n",
      "        vect = list()\n",
      "        for a in product('abcdef'):\n",
      "            vect.append(current[(a)])\n",
      "        for a, b in product('abcdef', 'abcdef'):\n",
      "            vect.append(current[(a, b)])\n",
      "        for a, b, c in product('abcdef', 'abcdef', 'abcdef'):\n",
      "            vect.append(current[(a, b, c)])\n",
      "        for a, b, c, d in product('abcdef', 'abcdef', 'abcdef', 'abcdef'):\n",
      "            vect.append(current[(a, b, c, d)])\n",
      "        vectorized.append(vect)\n",
      "    return np.array(vectorized).astype(float)"
     ],
     "language": "python",
     "metadata": {},
     "outputs": [],
     "prompt_number": 34
    },
    {
     "cell_type": "code",
     "collapsed": false,
     "input": [
      "X_train = vectorize(X_train_discrete)\n",
      "X_test = vectorize(X_test_discrete)\n",
      "print X_train.shape, X_test.shape"
     ],
     "language": "python",
     "metadata": {},
     "outputs": [
      {
       "output_type": "stream",
       "stream": "stdout",
       "text": [
        "(900, 1554) (903, 1554)\n"
       ]
      }
     ],
     "prompt_number": 225
    },
    {
     "cell_type": "code",
     "collapsed": false,
     "input": [
      "train, test, y, y_test = train_test_split(X_train, y_train, test_size=0.1)"
     ],
     "language": "python",
     "metadata": {},
     "outputs": [],
     "prompt_number": 226
    },
    {
     "cell_type": "code",
     "collapsed": false,
     "input": [
      "import random\n",
      "params = {'criterion': ['gini','entropy'], 'max_depth': [2, 3, 6, 8, 9, 12, 16, None], 'min_samples_split': [2,4,8, 9, 12, 16], 'min_samples_leaf': [1,2,4,8,9,12,16]}\n",
      "random_forest = []\n",
      "start = time.time()\n",
      "for random_counter in xrange(300):\n",
      "    criterion = 'gini' if random.random() < 0.5 else 'entropy'\n",
      "    max_depth = params['max_depth'][random.randint(0, len(params['max_depth']) - 1)]\n",
      "    min_samples_split = params['min_samples_split'][random.randint(0, len(params['min_samples_split']) - 1)]\n",
      "    min_samples_leaf = params['min_samples_leaf'][random.randint(0, len(params['min_samples_leaf']) - 1)]\n",
      "    tree = DecisionTreeClassifier(criterion=criterion, max_depth=max_depth, min_samples_split=min_samples_split, min_samples_leaf=min_samples_leaf)\n",
      "    tree.fit(train, y)\n",
      "    random_forest.append(tree)\n",
      "print \"Time: %f\" % (time.time() - start)"
     ],
     "language": "python",
     "metadata": {},
     "outputs": [
      {
       "output_type": "stream",
       "stream": "stdout",
       "text": [
        "Time: 89.026936\n"
       ]
      }
     ],
     "prompt_number": 227
    },
    {
     "cell_type": "code",
     "collapsed": false,
     "input": [
      "prediction = np.zeros(test.shape[0])\n",
      "qualities = []\n",
      "for tree_counter, tree in enumerate(random_forest):\n",
      "    prediction += tree.predict(test)\n",
      "    qualities.append(roc_auc_score(y_test, prediction / (tree_counter + 1)))\n",
      "prediction /= len(random_forest)"
     ],
     "language": "python",
     "metadata": {},
     "outputs": [],
     "prompt_number": 228
    },
    {
     "cell_type": "code",
     "collapsed": false,
     "input": [
      "print max(qualities)\n",
      "print qualities.index(max(qualities))\n",
      "plot(xrange(0, len(random_forest)), qualities)\n",
      "ylim(0.94, 1.0)"
     ],
     "language": "python",
     "metadata": {},
     "outputs": [
      {
       "output_type": "stream",
       "stream": "stdout",
       "text": [
        "0.943810096154\n",
        "8\n"
       ]
      },
      {
       "metadata": {},
       "output_type": "pyout",
       "prompt_number": 229,
       "text": [
        "(0.94, 1.0)"
       ]
      },
      {
       "metadata": {},
       "output_type": "display_data",
       "png": "[encoded data removed]",
       "text": [
        "<matplotlib.figure.Figure at 0x10e6eecd0>"
       ]
      }
     ],
     "prompt_number": 229
    },
    {
     "cell_type": "code",
     "collapsed": false,
     "input": [
      "print len([x for x in sorted(random_forest[40].feature_importances_)[::-1] if x != 0])\n",
      "print argsort(random_forest[69].feature_importances_)[::-1][:24]"
     ],
     "language": "python",
     "metadata": {},
     "outputs": [
      {
       "output_type": "stream",
       "stream": "stdout",
       "text": [
        "24\n",
        "[ 205  144  240  522  513  514  515  516  517  518  519  520  521 1553  523\n",
        "  512  525  526  527  528  529  530  531  532]\n"
       ]
      }
     ],
     "prompt_number": 245
    },
    {
     "cell_type": "heading",
     "level": 2,
     "metadata": {},
     "source": [
      "KNN with best features"
     ]
    },
    {
     "cell_type": "code",
     "collapsed": false,
     "input": [],
     "language": "python",
     "metadata": {},
     "outputs": []
    },
    {
     "cell_type": "code",
     "collapsed": false,
     "input": [
      "X_train_best_features=X_train_preprocessed[:,good_features]\n",
      "X_test_best_features=X_test_preprocessed[:,good_features]\n",
      "print X_train_best_features.shape, X_test_best_features.shape"
     ],
     "language": "python",
     "metadata": {},
     "outputs": [
      {
       "output_type": "stream",
       "stream": "stdout",
       "text": [
        "(900, 18) (903, 18)\n"
       ]
      }
     ],
     "prompt_number": 134
    },
    {
     "cell_type": "code",
     "collapsed": false,
     "input": [
      "params = {'n_neighbors': np.arange(1, 200, 5), 'p': [0.1,1,2]}\n",
      "grid_searcher = GridSearchCV(KNN(),\\\n",
      "                             params, cv=5, scoring='roc_auc', n_jobs=4)\n",
      "start = time.time()\n",
      "grid_searcher.fit(X_train_best_features, y_train)\n",
      "print \"Fit is completed. Time: %f\" % (time.time() - start)\n",
      "\n",
      "print grid_searcher.best_score_\n",
      "print grid_searcher.best_estimator_"
     ],
     "language": "python",
     "metadata": {},
     "outputs": [
      {
       "output_type": "stream",
       "stream": "stdout",
       "text": [
        "Fit is completed. Time: 3.319391\n",
        "0.951493709583\n",
        "KNeighborsClassifier(algorithm=auto, leaf_size=30, metric=minkowski,\n",
        "           n_neighbors=76, p=0.1, weights=uniform)\n"
       ]
      }
     ],
     "prompt_number": 135
    },
    {
     "cell_type": "heading",
     "level": 2,
     "metadata": {},
     "source": [
      "PCI"
     ]
    },
    {
     "cell_type": "code",
     "collapsed": false,
     "input": [
      "from sklearn.decomposition import RandomizedPCA"
     ],
     "language": "python",
     "metadata": {},
     "outputs": [],
     "prompt_number": 19
    },
    {
     "cell_type": "code",
     "collapsed": false,
     "input": [
      "n_components = 1\n",
      "n_components_best = 1\n",
      "max_score = 0\n",
      "for n_components in range(1,216): \n",
      "    pca = RandomizedPCA(n_components=n_components)\n",
      "    pca.fit(X_train_preprocessed)\n",
      "    X_train_encoded = pca.transform(X_train_preprocessed)\n",
      "    params = {'n_neighbors': np.arange(1, 200, 5), 'p': [1,2]}\n",
      "    grid_searcher = GridSearchCV(KNN(), params, cv=5, scoring='roc_auc', n_jobs=1)\n",
      "    grid_searcher.fit(X_train_encoded, y_train)\n",
      "    print max_score\n",
      "    print grid_searcher.best_score_\n",
      "    print grid_searcher.best_estimator_\n",
      "    if grid_searcher.best_score_ > max_score:\n",
      "        max_score = grid_searcher.best_score_\n",
      "        n_components_best = n_components\n",
      "    print n_components\n",
      "\n",
      "#plot_quality(grid_searcher, 'n_neighbors')"
     ],
     "language": "python",
     "metadata": {},
     "outputs": [
      {
       "output_type": "stream",
       "stream": "stdout",
       "text": [
        "0\n",
        "0.904602900967\n",
        "KNeighborsClassifier(algorithm=auto, leaf_size=30, metric=minkowski,\n",
        "           n_neighbors=96, p=1, weights=uniform)\n",
        "1\n",
        "0.904602900967"
       ]
      },
      {
       "output_type": "stream",
       "stream": "stdout",
       "text": [
        "\n",
        "0.935421662124\n",
        "KNeighborsClassifier(algorithm=auto, leaf_size=30, metric=minkowski,\n",
        "           n_neighbors=61, p=1, weights=uniform)\n",
        "2\n",
        "0.935421662124"
       ]
      },
      {
       "output_type": "stream",
       "stream": "stdout",
       "text": [
        "\n",
        "0.937945210839\n",
        "KNeighborsClassifier(algorithm=auto, leaf_size=30, metric=minkowski,\n",
        "           n_neighbors=106, p=1, weights=uniform)\n",
        "3\n",
        "0.937945210839"
       ]
      },
      {
       "output_type": "stream",
       "stream": "stdout",
       "text": [
        "\n",
        "0.952160675538\n",
        "KNeighborsClassifier(algorithm=auto, leaf_size=30, metric=minkowski,\n",
        "           n_neighbors=46, p=1, weights=uniform)\n",
        "4\n",
        "0.952160675538"
       ]
      },
      {
       "output_type": "stream",
       "stream": "stdout",
       "text": [
        "\n",
        "0.955218585859\n",
        "KNeighborsClassifier(algorithm=auto, leaf_size=30, metric=minkowski,\n",
        "           n_neighbors=21, p=1, weights=uniform)\n",
        "5\n",
        "0.955218585859"
       ]
      },
      {
       "output_type": "stream",
       "stream": "stdout",
       "text": [
        "\n",
        "0.955251167762\n",
        "KNeighborsClassifier(algorithm=auto, leaf_size=30, metric=minkowski,\n",
        "           n_neighbors=91, p=1, weights=uniform)\n",
        "6\n",
        "0.955251167762"
       ]
      },
      {
       "output_type": "stream",
       "stream": "stdout",
       "text": [
        "\n",
        "0.955981905831\n",
        "KNeighborsClassifier(algorithm=auto, leaf_size=30, metric=minkowski,\n",
        "           n_neighbors=16, p=1, weights=uniform)\n",
        "7\n",
        "0.955981905831"
       ]
      },
      {
       "output_type": "stream",
       "stream": "stdout",
       "text": [
        "\n",
        "0.953881440864\n",
        "KNeighborsClassifier(algorithm=auto, leaf_size=30, metric=minkowski,\n",
        "           n_neighbors=101, p=1, weights=uniform)\n",
        "8\n",
        "0.955981905831"
       ]
      },
      {
       "output_type": "stream",
       "stream": "stdout",
       "text": [
        "\n",
        "0.954555995938\n",
        "KNeighborsClassifier(algorithm=auto, leaf_size=30, metric=minkowski,\n",
        "           n_neighbors=106, p=1, weights=uniform)\n",
        "9\n",
        "0.955981905831"
       ]
      },
      {
       "output_type": "stream",
       "stream": "stdout",
       "text": [
        "\n",
        "0.954943132916\n",
        "KNeighborsClassifier(algorithm=auto, leaf_size=30, metric=minkowski,\n",
        "           n_neighbors=76, p=1, weights=uniform)\n",
        "10\n",
        "0.955981905831"
       ]
      },
      {
       "output_type": "stream",
       "stream": "stdout",
       "text": [
        "\n",
        "0.955333583454\n",
        "KNeighborsClassifier(algorithm=auto, leaf_size=30, metric=minkowski,\n",
        "           n_neighbors=56, p=1, weights=uniform)\n",
        "11\n",
        "0.955981905831"
       ]
      },
      {
       "output_type": "stream",
       "stream": "stdout",
       "text": [
        "\n",
        "0.954647973919\n",
        "KNeighborsClassifier(algorithm=auto, leaf_size=30, metric=minkowski,\n",
        "           n_neighbors=76, p=1, weights=uniform)\n",
        "12\n",
        "0.955981905831"
       ]
      },
      {
       "output_type": "stream",
       "stream": "stdout",
       "text": [
        "\n",
        "0.954124337555\n",
        "KNeighborsClassifier(algorithm=auto, leaf_size=30, metric=minkowski,\n",
        "           n_neighbors=61, p=1, weights=uniform)\n",
        "13\n",
        "0.955981905831"
       ]
      },
      {
       "output_type": "stream",
       "stream": "stdout",
       "text": [
        "\n",
        "0.954911158142\n",
        "KNeighborsClassifier(algorithm=auto, leaf_size=30, metric=minkowski,\n",
        "           n_neighbors=66, p=1, weights=uniform)\n",
        "14\n",
        "0.955981905831"
       ]
      },
      {
       "output_type": "stream",
       "stream": "stdout",
       "text": [
        "\n",
        "0.9548514585\n",
        "KNeighborsClassifier(algorithm=auto, leaf_size=30, metric=minkowski,\n",
        "           n_neighbors=61, p=1, weights=uniform)\n",
        "15\n",
        "0.955981905831"
       ]
      },
      {
       "output_type": "stream",
       "stream": "stdout",
       "text": [
        "\n",
        "0.954847815723\n",
        "KNeighborsClassifier(algorithm=auto, leaf_size=30, metric=minkowski,\n",
        "           n_neighbors=61, p=1, weights=uniform)\n",
        "16\n",
        "0.955981905831"
       ]
      },
      {
       "output_type": "stream",
       "stream": "stdout",
       "text": [
        "\n",
        "0.95571419379\n",
        "KNeighborsClassifier(algorithm=auto, leaf_size=30, metric=minkowski,\n",
        "           n_neighbors=56, p=1, weights=uniform)\n",
        "17\n",
        "0.955981905831"
       ]
      },
      {
       "output_type": "stream",
       "stream": "stdout",
       "text": [
        "\n",
        "0.95610934958\n",
        "KNeighborsClassifier(algorithm=auto, leaf_size=30, metric=minkowski,\n",
        "           n_neighbors=71, p=1, weights=uniform)\n",
        "18\n",
        "0.95610934958"
       ]
      },
      {
       "output_type": "stream",
       "stream": "stdout",
       "text": [
        "\n",
        "0.956191461707\n",
        "KNeighborsClassifier(algorithm=auto, leaf_size=30, metric=minkowski,\n",
        "           n_neighbors=81, p=1, weights=uniform)\n",
        "19\n",
        "0.956191461707"
       ]
      },
      {
       "output_type": "stream",
       "stream": "stdout",
       "text": [
        "\n",
        "0.955624037197\n",
        "KNeighborsClassifier(algorithm=auto, leaf_size=30, metric=minkowski,\n",
        "           n_neighbors=76, p=1, weights=uniform)\n",
        "20\n",
        "0.956191461707"
       ]
      },
      {
       "output_type": "stream",
       "stream": "stdout",
       "text": [
        "\n",
        "0.955801466517\n",
        "KNeighborsClassifier(algorithm=auto, leaf_size=30, metric=minkowski,\n",
        "           n_neighbors=71, p=1, weights=uniform)\n",
        "21\n",
        "0.956191461707"
       ]
      },
      {
       "output_type": "stream",
       "stream": "stdout",
       "text": [
        "\n",
        "0.956507996366\n",
        "KNeighborsClassifier(algorithm=auto, leaf_size=30, metric=minkowski,\n",
        "           n_neighbors=61, p=1, weights=uniform)\n",
        "22\n",
        "0.956507996366"
       ]
      },
      {
       "output_type": "stream",
       "stream": "stdout",
       "text": [
        "\n",
        "0.956260723639\n",
        "KNeighborsClassifier(algorithm=auto, leaf_size=30, metric=minkowski,\n",
        "           n_neighbors=56, p=1, weights=uniform)\n",
        "23\n",
        "0.956507996366"
       ]
      },
      {
       "output_type": "stream",
       "stream": "stdout",
       "text": [
        "\n",
        "0.957031329165\n",
        "KNeighborsClassifier(algorithm=auto, leaf_size=30, metric=minkowski,\n",
        "           n_neighbors=51, p=1, weights=uniform)\n",
        "24\n",
        "0.957031329165"
       ]
      },
      {
       "output_type": "stream",
       "stream": "stdout",
       "text": [
        "\n",
        "0.956284957512\n",
        "KNeighborsClassifier(algorithm=auto, leaf_size=30, metric=minkowski,\n",
        "           n_neighbors=51, p=1, weights=uniform)\n",
        "25\n",
        "0.957031329165"
       ]
      },
      {
       "output_type": "stream",
       "stream": "stdout",
       "text": [
        "\n",
        "0.956563142536\n",
        "KNeighborsClassifier(algorithm=auto, leaf_size=30, metric=minkowski,\n",
        "           n_neighbors=56, p=1, weights=uniform)\n",
        "26\n",
        "0.957031329165"
       ]
      },
      {
       "output_type": "stream",
       "stream": "stdout",
       "text": [
        "\n",
        "0.955519031586\n",
        "KNeighborsClassifier(algorithm=auto, leaf_size=30, metric=minkowski,\n",
        "           n_neighbors=66, p=1, weights=uniform)\n",
        "27\n",
        "0.957031329165"
       ]
      },
      {
       "output_type": "stream",
       "stream": "stdout",
       "text": [
        "\n",
        "0.955925545401\n",
        "KNeighborsClassifier(algorithm=auto, leaf_size=30, metric=minkowski,\n",
        "           n_neighbors=76, p=1, weights=uniform)\n",
        "28\n",
        "0.957031329165"
       ]
      },
      {
       "output_type": "stream",
       "stream": "stdout",
       "text": [
        "\n",
        "0.956414196996\n",
        "KNeighborsClassifier(algorithm=auto, leaf_size=30, metric=minkowski,\n",
        "           n_neighbors=61, p=1, weights=uniform)\n",
        "29\n",
        "0.957031329165"
       ]
      },
      {
       "output_type": "stream",
       "stream": "stdout",
       "text": [
        "\n",
        "0.956892982737\n",
        "KNeighborsClassifier(algorithm=auto, leaf_size=30, metric=minkowski,\n",
        "           n_neighbors=71, p=1, weights=uniform)\n",
        "30\n",
        "0.957031329165"
       ]
      },
      {
       "output_type": "stream",
       "stream": "stdout",
       "text": [
        "\n",
        "0.956105251456\n",
        "KNeighborsClassifier(algorithm=auto, leaf_size=30, metric=minkowski,\n",
        "           n_neighbors=71, p=1, weights=uniform)\n",
        "31\n",
        "0.957031329165"
       ]
      },
      {
       "output_type": "stream",
       "stream": "stdout",
       "text": [
        "\n",
        "0.955959037999\n",
        "KNeighborsClassifier(algorithm=auto, leaf_size=30, metric=minkowski,\n",
        "           n_neighbors=51, p=1, weights=uniform)\n",
        "32\n",
        "0.957031329165"
       ]
      },
      {
       "output_type": "stream",
       "stream": "stdout",
       "text": [
        "\n",
        "0.956046007162\n",
        "KNeighborsClassifier(algorithm=auto, leaf_size=30, metric=minkowski,\n",
        "           n_neighbors=56, p=1, weights=uniform)\n",
        "33\n",
        "0.957031329165"
       ]
      },
      {
       "output_type": "stream",
       "stream": "stdout",
       "text": [
        "\n",
        "0.956411464914\n",
        "KNeighborsClassifier(algorithm=auto, leaf_size=30, metric=minkowski,\n",
        "           n_neighbors=56, p=1, weights=uniform)\n",
        "34\n",
        "0.957031329165"
       ]
      },
      {
       "output_type": "stream",
       "stream": "stdout",
       "text": [
        "\n",
        "0.956546168564\n",
        "KNeighborsClassifier(algorithm=auto, leaf_size=30, metric=minkowski,\n",
        "           n_neighbors=66, p=1, weights=uniform)\n",
        "35\n",
        "0.957031329165"
       ]
      },
      {
       "output_type": "stream",
       "stream": "stdout",
       "text": [
        "\n",
        "0.956633289509\n",
        "KNeighborsClassifier(algorithm=auto, leaf_size=30, metric=minkowski,\n",
        "           n_neighbors=66, p=1, weights=uniform)\n",
        "36\n",
        "0.957031329165"
       ]
      },
      {
       "output_type": "stream",
       "stream": "stdout",
       "text": [
        "\n",
        "0.956587224627\n",
        "KNeighborsClassifier(algorithm=auto, leaf_size=30, metric=minkowski,\n",
        "           n_neighbors=71, p=1, weights=uniform)\n",
        "37\n",
        "0.957031329165"
       ]
      },
      {
       "output_type": "stream",
       "stream": "stdout",
       "text": [
        "\n",
        "0.956297681578\n",
        "KNeighborsClassifier(algorithm=auto, leaf_size=30, metric=minkowski,\n",
        "           n_neighbors=86, p=1, weights=uniform)\n",
        "38\n",
        "0.957031329165"
       ]
      },
      {
       "output_type": "stream",
       "stream": "stdout",
       "text": [
        "\n",
        "0.957001023997\n",
        "KNeighborsClassifier(algorithm=auto, leaf_size=30, metric=minkowski,\n",
        "           n_neighbors=66, p=1, weights=uniform)\n",
        "39\n",
        "0.957031329165"
       ]
      },
      {
       "output_type": "stream",
       "stream": "stdout",
       "text": [
        "\n",
        "0.956206462509\n",
        "KNeighborsClassifier(algorithm=auto, leaf_size=30, metric=minkowski,\n",
        "           n_neighbors=46, p=1, weights=uniform)\n",
        "40\n",
        "0.957031329165"
       ]
      },
      {
       "output_type": "stream",
       "stream": "stdout",
       "text": [
        "\n",
        "0.956380097269\n",
        "KNeighborsClassifier(algorithm=auto, leaf_size=30, metric=minkowski,\n",
        "           n_neighbors=61, p=1, weights=uniform)\n",
        "41\n",
        "0.957031329165"
       ]
      },
      {
       "output_type": "stream",
       "stream": "stdout",
       "text": [
        "\n",
        "0.956292672759\n",
        "KNeighborsClassifier(algorithm=auto, leaf_size=30, metric=minkowski,\n",
        "           n_neighbors=56, p=1, weights=uniform)\n",
        "42\n",
        "0.957031329165"
       ]
      },
      {
       "output_type": "stream",
       "stream": "stdout",
       "text": [
        "\n",
        "0.956703436481\n",
        "KNeighborsClassifier(algorithm=auto, leaf_size=30, metric=minkowski,\n",
        "           n_neighbors=61, p=1, weights=uniform)\n",
        "43\n",
        "0.957031329165"
       ]
      },
      {
       "output_type": "stream",
       "stream": "stdout",
       "text": [
        "\n",
        "0.956286019988\n",
        "KNeighborsClassifier(algorithm=auto, leaf_size=30, metric=minkowski,\n",
        "           n_neighbors=86, p=1, weights=uniform)\n",
        "44\n",
        "0.957031329165"
       ]
      },
      {
       "output_type": "stream",
       "stream": "stdout",
       "text": [
        "\n",
        "0.956306155737\n",
        "KNeighborsClassifier(algorithm=auto, leaf_size=30, metric=minkowski,\n",
        "           n_neighbors=66, p=1, weights=uniform)\n",
        "45\n",
        "0.957031329165"
       ]
      },
      {
       "output_type": "stream",
       "stream": "stdout",
       "text": [
        "\n",
        "0.956642370798\n",
        "KNeighborsClassifier(algorithm=auto, leaf_size=30, metric=minkowski,\n",
        "           n_neighbors=66, p=1, weights=uniform)\n",
        "46\n",
        "0.957031329165"
       ]
      },
      {
       "output_type": "stream",
       "stream": "stdout",
       "text": [
        "\n",
        "0.956615708407\n",
        "KNeighborsClassifier(algorithm=auto, leaf_size=30, metric=minkowski,\n",
        "           n_neighbors=81, p=1, weights=uniform)\n",
        "47\n",
        "0.957031329165"
       ]
      },
      {
       "output_type": "stream",
       "stream": "stdout",
       "text": [
        "\n",
        "0.957549501363\n",
        "KNeighborsClassifier(algorithm=auto, leaf_size=30, metric=minkowski,\n",
        "           n_neighbors=66, p=1, weights=uniform)\n",
        "48\n",
        "0.957549501363"
       ]
      },
      {
       "output_type": "stream",
       "stream": "stdout",
       "text": [
        "\n",
        "0.957348141735\n",
        "KNeighborsClassifier(algorithm=auto, leaf_size=30, metric=minkowski,\n",
        "           n_neighbors=71, p=1, weights=uniform)\n",
        "49\n",
        "0.957549501363"
       ]
      },
      {
       "output_type": "stream",
       "stream": "stdout",
       "text": [
        "\n",
        "0.956893286302\n",
        "KNeighborsClassifier(algorithm=auto, leaf_size=30, metric=minkowski,\n",
        "           n_neighbors=76, p=1, weights=uniform)\n",
        "50\n",
        "0.957549501363"
       ]
      },
      {
       "output_type": "stream",
       "stream": "stdout",
       "text": [
        "\n",
        "0.956759341564\n",
        "KNeighborsClassifier(algorithm=auto, leaf_size=30, metric=minkowski,\n",
        "           n_neighbors=56, p=1, weights=uniform)\n",
        "51\n",
        "0.957549501363"
       ]
      },
      {
       "output_type": "stream",
       "stream": "stdout",
       "text": [
        "\n",
        "0.956630557426\n",
        "KNeighborsClassifier(algorithm=auto, leaf_size=30, metric=minkowski,\n",
        "           n_neighbors=61, p=1, weights=uniform)\n",
        "52\n",
        "0.957549501363"
       ]
      },
      {
       "output_type": "stream",
       "stream": "stdout",
       "text": [
        "\n",
        "0.956569643525\n",
        "KNeighborsClassifier(algorithm=auto, leaf_size=30, metric=minkowski,\n",
        "           n_neighbors=51, p=1, weights=uniform)\n",
        "53\n",
        "0.957549501363"
       ]
      },
      {
       "output_type": "stream",
       "stream": "stdout",
       "text": [
        "\n",
        "0.957115566244\n",
        "KNeighborsClassifier(algorithm=auto, leaf_size=30, metric=minkowski,\n",
        "           n_neighbors=71, p=1, weights=uniform)\n",
        "54\n",
        "0.957549501363"
       ]
      },
      {
       "output_type": "stream",
       "stream": "stdout",
       "text": [
        "\n",
        "0.957864973545\n",
        "KNeighborsClassifier(algorithm=auto, leaf_size=30, metric=minkowski,\n",
        "           n_neighbors=71, p=1, weights=uniform)\n",
        "55\n",
        "0.957864973545"
       ]
      },
      {
       "output_type": "stream",
       "stream": "stdout",
       "text": [
        "\n",
        "0.957276173374\n",
        "KNeighborsClassifier(algorithm=auto, leaf_size=30, metric=minkowski,\n",
        "           n_neighbors=66, p=1, weights=uniform)\n",
        "56\n",
        "0.957864973545"
       ]
      },
      {
       "output_type": "stream",
       "stream": "stdout",
       "text": [
        "\n",
        "0.957042990754\n",
        "KNeighborsClassifier(algorithm=auto, leaf_size=30, metric=minkowski,\n",
        "           n_neighbors=71, p=1, weights=uniform)\n",
        "57\n",
        "0.957864973545"
       ]
      },
      {
       "output_type": "stream",
       "stream": "stdout",
       "text": [
        "\n",
        "0.957161479344\n",
        "KNeighborsClassifier(algorithm=auto, leaf_size=30, metric=minkowski,\n",
        "           n_neighbors=71, p=1, weights=uniform)\n",
        "58\n",
        "0.957864973545"
       ]
      },
      {
       "output_type": "stream",
       "stream": "stdout",
       "text": [
        "\n",
        "0.957113593074\n",
        "KNeighborsClassifier(algorithm=auto, leaf_size=30, metric=minkowski,\n",
        "           n_neighbors=66, p=1, weights=uniform)\n",
        "59\n",
        "0.957864973545"
       ]
      },
      {
       "output_type": "stream",
       "stream": "stdout",
       "text": [
        "\n",
        "0.957512543424\n",
        "KNeighborsClassifier(algorithm=auto, leaf_size=30, metric=minkowski,\n",
        "           n_neighbors=66, p=1, weights=uniform)\n",
        "60\n",
        "0.957864973545"
       ]
      },
      {
       "output_type": "stream",
       "stream": "stdout",
       "text": [
        "\n",
        "0.957261931484\n",
        "KNeighborsClassifier(algorithm=auto, leaf_size=30, metric=minkowski,\n",
        "           n_neighbors=66, p=1, weights=uniform)\n",
        "61\n",
        "0.957864973545"
       ]
      },
      {
       "output_type": "stream",
       "stream": "stdout",
       "text": [
        "\n",
        "0.957513757683\n",
        "KNeighborsClassifier(algorithm=auto, leaf_size=30, metric=minkowski,\n",
        "           n_neighbors=66, p=1, weights=uniform)\n",
        "62\n",
        "0.957864973545"
       ]
      },
      {
       "output_type": "stream",
       "stream": "stdout",
       "text": [
        "\n",
        "0.957293450911\n",
        "KNeighborsClassifier(algorithm=auto, leaf_size=30, metric=minkowski,\n",
        "           n_neighbors=66, p=1, weights=uniform)\n",
        "63\n",
        "0.957864973545"
       ]
      },
      {
       "output_type": "stream",
       "stream": "stdout",
       "text": [
        "\n",
        "0.957174355192\n",
        "KNeighborsClassifier(algorithm=auto, leaf_size=30, metric=minkowski,\n",
        "           n_neighbors=66, p=1, weights=uniform)\n",
        "64\n",
        "0.957864973545"
       ]
      },
      {
       "output_type": "stream",
       "stream": "stdout",
       "text": [
        "\n",
        "0.956881776495\n",
        "KNeighborsClassifier(algorithm=auto, leaf_size=30, metric=minkowski,\n",
        "           n_neighbors=71, p=1, weights=uniform)\n",
        "65\n",
        "0.957864973545"
       ]
      },
      {
       "output_type": "stream",
       "stream": "stdout",
       "text": [
        "\n",
        "0.956162977927\n",
        "KNeighborsClassifier(algorithm=auto, leaf_size=30, metric=minkowski,\n",
        "           n_neighbors=81, p=1, weights=uniform)\n",
        "66\n",
        "0.957864973545"
       ]
      },
      {
       "output_type": "stream",
       "stream": "stdout",
       "text": [
        "\n",
        "0.956294190583\n",
        "KNeighborsClassifier(algorithm=auto, leaf_size=30, metric=minkowski,\n",
        "           n_neighbors=71, p=1, weights=uniform)\n",
        "67\n",
        "0.957864973545"
       ]
      },
      {
       "output_type": "stream",
       "stream": "stdout",
       "text": [
        "\n",
        "0.956428287104\n",
        "KNeighborsClassifier(algorithm=auto, leaf_size=30, metric=minkowski,\n",
        "           n_neighbors=71, p=1, weights=uniform)\n",
        "68\n",
        "0.957864973545"
       ]
      },
      {
       "output_type": "stream",
       "stream": "stdout",
       "text": [
        "\n",
        "0.956942235049\n",
        "KNeighborsClassifier(algorithm=auto, leaf_size=30, metric=minkowski,\n",
        "           n_neighbors=71, p=1, weights=uniform)\n",
        "69\n",
        "0.957864973545"
       ]
      },
      {
       "output_type": "stream",
       "stream": "stdout",
       "text": [
        "\n",
        "0.956736018385\n",
        "KNeighborsClassifier(algorithm=auto, leaf_size=30, metric=minkowski,\n",
        "           n_neighbors=71, p=1, weights=uniform)\n",
        "70\n",
        "0.957864973545"
       ]
      },
      {
       "output_type": "stream",
       "stream": "stdout",
       "text": [
        "\n",
        "0.956013728823\n",
        "KNeighborsClassifier(algorithm=auto, leaf_size=30, metric=minkowski,\n",
        "           n_neighbors=61, p=1, weights=uniform)\n",
        "71\n",
        "0.957864973545"
       ]
      },
      {
       "output_type": "stream",
       "stream": "stdout",
       "text": [
        "\n",
        "0.956221918657\n",
        "KNeighborsClassifier(algorithm=auto, leaf_size=30, metric=minkowski,\n",
        "           n_neighbors=76, p=1, weights=uniform)\n",
        "72\n",
        "0.957864973545"
       ]
      },
      {
       "output_type": "stream",
       "stream": "stdout",
       "text": [
        "\n",
        "0.956396615894\n",
        "KNeighborsClassifier(algorithm=auto, leaf_size=30, metric=minkowski,\n",
        "           n_neighbors=71, p=1, weights=uniform)\n",
        "73\n",
        "0.957864973545"
       ]
      },
      {
       "output_type": "stream",
       "stream": "stdout",
       "text": [
        "\n",
        "0.956646924269\n",
        "KNeighborsClassifier(algorithm=auto, leaf_size=30, metric=minkowski,\n",
        "           n_neighbors=71, p=1, weights=uniform)\n",
        "74\n",
        "0.957864973545"
       ]
      },
      {
       "output_type": "stream",
       "stream": "stdout",
       "text": [
        "\n",
        "0.957071322751\n",
        "KNeighborsClassifier(algorithm=auto, leaf_size=30, metric=minkowski,\n",
        "           n_neighbors=71, p=1, weights=uniform)\n",
        "75\n",
        "0.957864973545"
       ]
      },
      {
       "output_type": "stream",
       "stream": "stdout",
       "text": [
        "\n",
        "0.956147673561\n",
        "KNeighborsClassifier(algorithm=auto, leaf_size=30, metric=minkowski,\n",
        "           n_neighbors=71, p=1, weights=uniform)\n",
        "76\n",
        "0.957864973545"
       ]
      },
      {
       "output_type": "stream",
       "stream": "stdout",
       "text": [
        "\n",
        "0.956807531399\n",
        "KNeighborsClassifier(algorithm=auto, leaf_size=30, metric=minkowski,\n",
        "           n_neighbors=71, p=1, weights=uniform)\n",
        "77\n",
        "0.957864973545"
       ]
      },
      {
       "output_type": "stream",
       "stream": "stdout",
       "text": [
        "\n",
        "0.956304941478\n",
        "KNeighborsClassifier(algorithm=auto, leaf_size=30, metric=minkowski,\n",
        "           n_neighbors=61, p=1, weights=uniform)\n",
        "78\n",
        "0.957864973545"
       ]
      },
      {
       "output_type": "stream",
       "stream": "stdout",
       "text": [
        "\n",
        "0.956363123296\n",
        "KNeighborsClassifier(algorithm=auto, leaf_size=30, metric=minkowski,\n",
        "           n_neighbors=61, p=1, weights=uniform)\n",
        "79\n",
        "0.957864973545"
       ]
      },
      {
       "output_type": "stream",
       "stream": "stdout",
       "text": [
        "\n",
        "0.956137074448\n",
        "KNeighborsClassifier(algorithm=auto, leaf_size=30, metric=minkowski,\n",
        "           n_neighbors=76, p=1, weights=uniform)\n",
        "80\n",
        "0.957864973545"
       ]
      },
      {
       "output_type": "stream",
       "stream": "stdout",
       "text": [
        "\n",
        "0.955675844156\n",
        "KNeighborsClassifier(algorithm=auto, leaf_size=30, metric=minkowski,\n",
        "           n_neighbors=66, p=1, weights=uniform)\n",
        "81\n",
        "0.957864973545"
       ]
      },
      {
       "output_type": "stream",
       "stream": "stdout",
       "text": [
        "\n",
        "0.956529649939\n",
        "KNeighborsClassifier(algorithm=auto, leaf_size=30, metric=minkowski,\n",
        "           n_neighbors=76, p=1, weights=uniform)\n",
        "82\n",
        "0.957864973545"
       ]
      },
      {
       "output_type": "stream",
       "stream": "stdout",
       "text": [
        "\n",
        "0.956540856181\n",
        "KNeighborsClassifier(algorithm=auto, leaf_size=30, metric=minkowski,\n",
        "           n_neighbors=61, p=1, weights=uniform)\n",
        "83\n",
        "0.957864973545"
       ]
      },
      {
       "output_type": "stream",
       "stream": "stdout",
       "text": [
        "\n",
        "0.956296770883\n",
        "KNeighborsClassifier(algorithm=auto, leaf_size=30, metric=minkowski,\n",
        "           n_neighbors=81, p=1, weights=uniform)\n",
        "84\n",
        "0.957864973545"
       ]
      },
      {
       "output_type": "stream",
       "stream": "stdout",
       "text": [
        "\n",
        "0.956194042007\n",
        "KNeighborsClassifier(algorithm=auto, leaf_size=30, metric=minkowski,\n",
        "           n_neighbors=76, p=1, weights=uniform)\n",
        "85\n",
        "0.957864973545"
       ]
      },
      {
       "output_type": "stream",
       "stream": "stdout",
       "text": [
        "\n",
        "0.956294797713\n",
        "KNeighborsClassifier(algorithm=auto, leaf_size=30, metric=minkowski,\n",
        "           n_neighbors=76, p=1, weights=uniform)\n",
        "86\n",
        "0.957864973545"
       ]
      },
      {
       "output_type": "stream",
       "stream": "stdout",
       "text": [
        "\n",
        "0.956135860189\n",
        "KNeighborsClassifier(algorithm=auto, leaf_size=30, metric=minkowski,\n",
        "           n_neighbors=76, p=1, weights=uniform)\n",
        "87\n",
        "0.957864973545"
       ]
      },
      {
       "output_type": "stream",
       "stream": "stdout",
       "text": [
        "\n",
        "0.956386623911\n",
        "KNeighborsClassifier(algorithm=auto, leaf_size=30, metric=minkowski,\n",
        "           n_neighbors=76, p=1, weights=uniform)\n",
        "88\n",
        "0.957864973545"
       ]
      },
      {
       "output_type": "stream",
       "stream": "stdout",
       "text": [
        "\n",
        "0.955989950297\n",
        "KNeighborsClassifier(algorithm=auto, leaf_size=30, metric=minkowski,\n",
        "           n_neighbors=81, p=1, weights=uniform)\n",
        "89\n",
        "0.957864973545"
       ]
      },
      {
       "output_type": "stream",
       "stream": "stdout",
       "text": [
        "\n",
        "0.955683736839\n",
        "KNeighborsClassifier(algorithm=auto, leaf_size=30, metric=minkowski,\n",
        "           n_neighbors=81, p=1, weights=uniform)\n",
        "90\n",
        "0.957864973545"
       ]
      },
      {
       "output_type": "stream",
       "stream": "stdout",
       "text": [
        "\n",
        "0.956182987547\n",
        "KNeighborsClassifier(algorithm=auto, leaf_size=30, metric=minkowski,\n",
        "           n_neighbors=76, p=1, weights=uniform)\n",
        "91\n",
        "0.957864973545"
       ]
      },
      {
       "output_type": "stream",
       "stream": "stdout",
       "text": [
        "\n",
        "0.956692230239\n",
        "KNeighborsClassifier(algorithm=auto, leaf_size=30, metric=minkowski,\n",
        "           n_neighbors=76, p=1, weights=uniform)\n",
        "92\n",
        "0.957864973545"
       ]
      },
      {
       "output_type": "stream",
       "stream": "stdout",
       "text": [
        "\n",
        "0.956196470525\n",
        "KNeighborsClassifier(algorithm=auto, leaf_size=30, metric=minkowski,\n",
        "           n_neighbors=76, p=1, weights=uniform)\n",
        "93\n",
        "0.957864973545"
       ]
      },
      {
       "output_type": "stream",
       "stream": "stdout",
       "text": [
        "\n",
        "0.956413893432\n",
        "KNeighborsClassifier(algorithm=auto, leaf_size=30, metric=minkowski,\n",
        "           n_neighbors=76, p=1, weights=uniform)\n",
        "94\n",
        "0.957864973545"
       ]
      },
      {
       "output_type": "stream",
       "stream": "stdout",
       "text": [
        "\n",
        "0.955696916252\n",
        "KNeighborsClassifier(algorithm=auto, leaf_size=30, metric=minkowski,\n",
        "           n_neighbors=86, p=1, weights=uniform)\n",
        "95\n",
        "0.957864973545"
       ]
      },
      {
       "output_type": "stream",
       "stream": "stdout",
       "text": [
        "\n",
        "0.956033283096\n",
        "KNeighborsClassifier(algorithm=auto, leaf_size=30, metric=minkowski,\n",
        "           n_neighbors=76, p=1, weights=uniform)\n",
        "96\n",
        "0.957864973545"
       ]
      },
      {
       "output_type": "stream",
       "stream": "stdout",
       "text": [
        "\n",
        "0.955939939073\n",
        "KNeighborsClassifier(algorithm=auto, leaf_size=30, metric=minkowski,\n",
        "           n_neighbors=61, p=1, weights=uniform)\n",
        "97\n",
        "0.957864973545"
       ]
      },
      {
       "output_type": "stream",
       "stream": "stdout",
       "text": [
        "\n",
        "0.955416909839\n",
        "KNeighborsClassifier(algorithm=auto, leaf_size=30, metric=minkowski,\n",
        "           n_neighbors=81, p=1, weights=uniform)\n",
        "98\n",
        "0.957864973545"
       ]
      },
      {
       "output_type": "stream",
       "stream": "stdout",
       "text": [
        "\n",
        "0.95585934477\n",
        "KNeighborsClassifier(algorithm=auto, leaf_size=30, metric=minkowski,\n",
        "           n_neighbors=76, p=1, weights=uniform)\n",
        "99\n",
        "0.957864973545"
       ]
      },
      {
       "output_type": "stream",
       "stream": "stdout",
       "text": [
        "\n",
        "0.95594358185\n",
        "KNeighborsClassifier(algorithm=auto, leaf_size=30, metric=minkowski,\n",
        "           n_neighbors=76, p=1, weights=uniform)\n",
        "100\n",
        "0.957864973545"
       ]
      },
      {
       "output_type": "stream",
       "stream": "stdout",
       "text": [
        "\n",
        "0.955667218214\n",
        "KNeighborsClassifier(algorithm=auto, leaf_size=30, metric=minkowski,\n",
        "           n_neighbors=81, p=1, weights=uniform)\n",
        "101\n",
        "0.957864973545"
       ]
      },
      {
       "output_type": "stream",
       "stream": "stdout",
       "text": [
        "\n",
        "0.955737213404\n",
        "KNeighborsClassifier(algorithm=auto, leaf_size=30, metric=minkowski,\n",
        "           n_neighbors=76, p=1, weights=uniform)\n",
        "102\n",
        "0.957864973545"
       ]
      },
      {
       "output_type": "stream",
       "stream": "stdout",
       "text": [
        "\n",
        "0.956020559029\n",
        "KNeighborsClassifier(algorithm=auto, leaf_size=30, metric=minkowski,\n",
        "           n_neighbors=81, p=1, weights=uniform)\n",
        "103\n",
        "0.957864973545"
       ]
      },
      {
       "output_type": "stream",
       "stream": "stdout",
       "text": [
        "\n",
        "0.955591151729\n",
        "KNeighborsClassifier(algorithm=auto, leaf_size=30, metric=minkowski,\n",
        "           n_neighbors=86, p=1, weights=uniform)\n",
        "104\n",
        "0.957864973545"
       ]
      },
      {
       "output_type": "stream",
       "stream": "stdout",
       "text": [
        "\n",
        "0.955534791299\n",
        "KNeighborsClassifier(algorithm=auto, leaf_size=30, metric=minkowski,\n",
        "           n_neighbors=91, p=1, weights=uniform)\n",
        "105\n",
        "0.957864973545"
       ]
      },
      {
       "output_type": "stream",
       "stream": "stdout",
       "text": [
        "\n",
        "0.955975860189\n",
        "KNeighborsClassifier(algorithm=auto, leaf_size=30, metric=minkowski,\n",
        "           n_neighbors=81, p=1, weights=uniform)\n",
        "106\n",
        "0.957864973545"
       ]
      },
      {
       "output_type": "stream",
       "stream": "stdout",
       "text": [
        "\n",
        "0.955768125701\n",
        "KNeighborsClassifier(algorithm=auto, leaf_size=30, metric=minkowski,\n",
        "           n_neighbors=91, p=1, weights=uniform)\n",
        "107\n",
        "0.957864973545"
       ]
      },
      {
       "output_type": "stream",
       "stream": "stdout",
       "text": [
        "\n",
        "0.955446000748\n",
        "KNeighborsClassifier(algorithm=auto, leaf_size=30, metric=minkowski,\n",
        "           n_neighbors=91, p=1, weights=uniform)\n",
        "108\n",
        "0.957864973545"
       ]
      },
      {
       "output_type": "stream",
       "stream": "stdout",
       "text": [
        "\n",
        "0.955739945487\n",
        "KNeighborsClassifier(algorithm=auto, leaf_size=30, metric=minkowski,\n",
        "           n_neighbors=91, p=1, weights=uniform)\n",
        "109\n",
        "0.957864973545"
       ]
      },
      {
       "output_type": "stream",
       "stream": "stdout",
       "text": [
        "\n",
        "0.955696460905\n",
        "KNeighborsClassifier(algorithm=auto, leaf_size=30, metric=minkowski,\n",
        "           n_neighbors=86, p=1, weights=uniform)\n",
        "110\n",
        "0.957864973545"
       ]
      },
      {
       "output_type": "stream",
       "stream": "stdout",
       "text": [
        "\n",
        "0.955932679173\n",
        "KNeighborsClassifier(algorithm=auto, leaf_size=30, metric=minkowski,\n",
        "           n_neighbors=86, p=1, weights=uniform)\n",
        "111\n",
        "0.957864973545"
       ]
      },
      {
       "output_type": "stream",
       "stream": "stdout",
       "text": [
        "\n",
        "0.955580249051\n",
        "KNeighborsClassifier(algorithm=auto, leaf_size=30, metric=minkowski,\n",
        "           n_neighbors=86, p=1, weights=uniform)\n",
        "112\n",
        "0.957864973545"
       ]
      },
      {
       "output_type": "stream",
       "stream": "stdout",
       "text": [
        "\n",
        "0.955313422051\n",
        "KNeighborsClassifier(algorithm=auto, leaf_size=30, metric=minkowski,\n",
        "           n_neighbors=91, p=1, weights=uniform)\n",
        "113\n",
        "0.957864973545"
       ]
      },
      {
       "output_type": "stream",
       "stream": "stdout",
       "text": [
        "\n",
        "0.955886766073\n",
        "KNeighborsClassifier(algorithm=auto, leaf_size=30, metric=minkowski,\n",
        "           n_neighbors=86, p=1, weights=uniform)\n",
        "114\n",
        "0.957864973545"
       ]
      },
      {
       "output_type": "stream",
       "stream": "stdout",
       "text": [
        "\n",
        "0.955624037197\n",
        "KNeighborsClassifier(algorithm=auto, leaf_size=30, metric=minkowski,\n",
        "           n_neighbors=86, p=1, weights=uniform)\n",
        "115\n",
        "0.957864973545"
       ]
      },
      {
       "output_type": "stream",
       "stream": "stdout",
       "text": [
        "\n",
        "0.956063588264\n",
        "KNeighborsClassifier(algorithm=auto, leaf_size=30, metric=minkowski,\n",
        "           n_neighbors=86, p=1, weights=uniform)\n",
        "116\n",
        "0.957864973545"
       ]
      },
      {
       "output_type": "stream",
       "stream": "stdout",
       "text": [
        "\n",
        "0.955419186575\n",
        "KNeighborsClassifier(algorithm=auto, leaf_size=30, metric=minkowski,\n",
        "           n_neighbors=86, p=1, weights=uniform)\n",
        "117\n",
        "0.957864973545"
       ]
      },
      {
       "output_type": "stream",
       "stream": "stdout",
       "text": [
        "\n",
        "0.955623430068\n",
        "KNeighborsClassifier(algorithm=auto, leaf_size=30, metric=minkowski,\n",
        "           n_neighbors=86, p=1, weights=uniform)\n",
        "118\n",
        "0.957864973545"
       ]
      },
      {
       "output_type": "stream",
       "stream": "stdout",
       "text": [
        "\n",
        "0.955372514564\n",
        "KNeighborsClassifier(algorithm=auto, leaf_size=30, metric=minkowski,\n",
        "           n_neighbors=91, p=1, weights=uniform)\n",
        "119\n",
        "0.957864973545"
       ]
      },
      {
       "output_type": "stream",
       "stream": "stdout",
       "text": [
        "\n",
        "0.955814190583\n",
        "KNeighborsClassifier(algorithm=auto, leaf_size=30, metric=minkowski,\n",
        "           n_neighbors=86, p=1, weights=uniform)\n",
        "120\n",
        "0.957864973545"
       ]
      },
      {
       "output_type": "stream",
       "stream": "stdout",
       "text": [
        "\n",
        "0.955624644327\n",
        "KNeighborsClassifier(algorithm=auto, leaf_size=30, metric=minkowski,\n",
        "           n_neighbors=86, p=1, weights=uniform)\n",
        "121\n",
        "0.957864973545"
       ]
      },
      {
       "output_type": "stream",
       "stream": "stdout",
       "text": [
        "\n",
        "0.955798127305\n",
        "KNeighborsClassifier(algorithm=auto, leaf_size=30, metric=minkowski,\n",
        "           n_neighbors=91, p=1, weights=uniform)\n",
        "122\n",
        "0.957864973545"
       ]
      },
      {
       "output_type": "stream",
       "stream": "stdout",
       "text": [
        "\n",
        "0.955873283096\n",
        "KNeighborsClassifier(algorithm=auto, leaf_size=30, metric=minkowski,\n",
        "           n_neighbors=86, p=1, weights=uniform)\n",
        "123\n",
        "0.957864973545"
       ]
      },
      {
       "output_type": "stream",
       "stream": "stdout",
       "text": [
        "\n",
        "0.955771616696\n",
        "KNeighborsClassifier(algorithm=auto, leaf_size=30, metric=minkowski,\n",
        "           n_neighbors=86, p=1, weights=uniform)\n",
        "124\n",
        "0.957864973545"
       ]
      },
      {
       "output_type": "stream",
       "stream": "stdout",
       "text": [
        "\n",
        "0.955709792101\n",
        "KNeighborsClassifier(algorithm=auto, leaf_size=30, metric=minkowski,\n",
        "           n_neighbors=86, p=1, weights=uniform)\n",
        "125\n",
        "0.957864973545"
       ]
      },
      {
       "output_type": "stream",
       "stream": "stdout",
       "text": [
        "\n",
        "0.955785099674\n",
        "KNeighborsClassifier(algorithm=auto, leaf_size=30, metric=minkowski,\n",
        "           n_neighbors=86, p=1, weights=uniform)\n",
        "126\n",
        "0.957864973545"
       ]
      },
      {
       "output_type": "stream",
       "stream": "stdout",
       "text": [
        "\n",
        "0.955844647534\n",
        "KNeighborsClassifier(algorithm=auto, leaf_size=30, metric=minkowski,\n",
        "           n_neighbors=86, p=1, weights=uniform)\n",
        "127\n",
        "0.957864973545"
       ]
      },
      {
       "output_type": "stream",
       "stream": "stdout",
       "text": [
        "\n",
        "0.95588782855\n",
        "KNeighborsClassifier(algorithm=auto, leaf_size=30, metric=minkowski,\n",
        "           n_neighbors=86, p=1, weights=uniform)\n",
        "128\n",
        "0.957864973545"
       ]
      },
      {
       "output_type": "stream",
       "stream": "stdout",
       "text": [
        "\n",
        "0.955845102881\n",
        "KNeighborsClassifier(algorithm=auto, leaf_size=30, metric=minkowski,\n",
        "           n_neighbors=86, p=1, weights=uniform)\n",
        "129\n",
        "0.957864973545"
       ]
      },
      {
       "output_type": "stream",
       "stream": "stdout",
       "text": [
        "\n",
        "0.955607670354\n",
        "KNeighborsClassifier(algorithm=auto, leaf_size=30, metric=minkowski,\n",
        "           n_neighbors=86, p=1, weights=uniform)\n",
        "130\n",
        "0.957864973545"
       ]
      },
      {
       "output_type": "stream",
       "stream": "stdout",
       "text": [
        "\n",
        "0.955564337555\n",
        "KNeighborsClassifier(algorithm=auto, leaf_size=30, metric=minkowski,\n",
        "           n_neighbors=91, p=1, weights=uniform)\n",
        "131\n",
        "0.957864973545"
       ]
      },
      {
       "output_type": "stream",
       "stream": "stdout",
       "text": [
        "\n",
        "0.955432365988\n",
        "KNeighborsClassifier(algorithm=auto, leaf_size=30, metric=minkowski,\n",
        "           n_neighbors=86, p=1, weights=uniform)\n",
        "132\n",
        "0.957864973545"
       ]
      },
      {
       "output_type": "stream",
       "stream": "stdout",
       "text": [
        "\n",
        "0.955417820533\n",
        "KNeighborsClassifier(algorithm=auto, leaf_size=30, metric=minkowski,\n",
        "           n_neighbors=91, p=1, weights=uniform)\n",
        "133\n",
        "0.957864973545"
       ]
      },
      {
       "output_type": "stream",
       "stream": "stdout",
       "text": [
        "\n",
        "0.955328422853\n",
        "KNeighborsClassifier(algorithm=auto, leaf_size=30, metric=minkowski,\n",
        "           n_neighbors=86, p=1, weights=uniform)\n",
        "134\n",
        "0.957864973545"
       ]
      },
      {
       "output_type": "stream",
       "stream": "stdout",
       "text": [
        "\n",
        "0.955608429266\n",
        "KNeighborsClassifier(algorithm=auto, leaf_size=30, metric=minkowski,\n",
        "           n_neighbors=91, p=1, weights=uniform)\n",
        "135\n",
        "0.957864973545"
       ]
      },
      {
       "output_type": "stream",
       "stream": "stdout",
       "text": [
        "\n",
        "0.955490396024\n",
        "KNeighborsClassifier(algorithm=auto, leaf_size=30, metric=minkowski,\n",
        "           n_neighbors=91, p=1, weights=uniform)\n",
        "136\n",
        "0.957864973545"
       ]
      },
      {
       "output_type": "stream",
       "stream": "stdout",
       "text": [
        "\n",
        "0.955168574635\n",
        "KNeighborsClassifier(algorithm=auto, leaf_size=30, metric=minkowski,\n",
        "           n_neighbors=91, p=1, weights=uniform)\n",
        "137\n",
        "0.957864973545"
       ]
      },
      {
       "output_type": "stream",
       "stream": "stdout",
       "text": [
        "\n",
        "0.955329181765\n",
        "KNeighborsClassifier(algorithm=auto, leaf_size=30, metric=minkowski,\n",
        "           n_neighbors=86, p=1, weights=uniform)\n",
        "138\n",
        "0.957864973545"
       ]
      },
      {
       "output_type": "stream",
       "stream": "stdout",
       "text": [
        "\n",
        "0.955403275079\n",
        "KNeighborsClassifier(algorithm=auto, leaf_size=30, metric=minkowski,\n",
        "           n_neighbors=86, p=1, weights=uniform)\n",
        "139\n",
        "0.957864973545"
       ]
      },
      {
       "output_type": "stream",
       "stream": "stdout",
       "text": [
        "\n",
        "0.955240391214\n",
        "KNeighborsClassifier(algorithm=auto, leaf_size=30, metric=minkowski,\n",
        "           n_neighbors=91, p=1, weights=uniform)\n",
        "140\n",
        "0.957864973545"
       ]
      },
      {
       "output_type": "stream",
       "stream": "stdout",
       "text": [
        "\n",
        "0.955490396024\n",
        "KNeighborsClassifier(algorithm=auto, leaf_size=30, metric=minkowski,\n",
        "           n_neighbors=86, p=1, weights=uniform)\n",
        "141\n",
        "0.957864973545"
       ]
      },
      {
       "output_type": "stream",
       "stream": "stdout",
       "text": [
        "\n",
        "0.95532827107\n",
        "KNeighborsClassifier(algorithm=auto, leaf_size=30, metric=minkowski,\n",
        "           n_neighbors=91, p=1, weights=uniform)\n",
        "142\n",
        "0.957864973545"
       ]
      },
      {
       "output_type": "stream",
       "stream": "stdout",
       "text": [
        "\n",
        "0.955124027577\n",
        "KNeighborsClassifier(algorithm=auto, leaf_size=30, metric=minkowski,\n",
        "           n_neighbors=86, p=1, weights=uniform)\n",
        "143\n",
        "0.957864973545"
       ]
      },
      {
       "output_type": "stream",
       "stream": "stdout",
       "text": [
        "\n",
        "0.95551933515\n",
        "KNeighborsClassifier(algorithm=auto, leaf_size=30, metric=minkowski,\n",
        "           n_neighbors=86, p=1, weights=uniform)\n",
        "144\n",
        "0.957864973545"
       ]
      },
      {
       "output_type": "stream",
       "stream": "stdout",
       "text": [
        "\n",
        "0.95522781893\n",
        "KNeighborsClassifier(algorithm=auto, leaf_size=30, metric=minkowski,\n",
        "           n_neighbors=86, p=1, weights=uniform)\n",
        "145\n",
        "0.957864973545"
       ]
      },
      {
       "output_type": "stream",
       "stream": "stdout",
       "text": [
        "\n",
        "0.955489940677\n",
        "KNeighborsClassifier(algorithm=auto, leaf_size=30, metric=minkowski,\n",
        "           n_neighbors=86, p=1, weights=uniform)\n",
        "146\n",
        "0.957864973545"
       ]
      },
      {
       "output_type": "stream",
       "stream": "stdout",
       "text": [
        "\n",
        "0.955417972316\n",
        "KNeighborsClassifier(algorithm=auto, leaf_size=30, metric=minkowski,\n",
        "           n_neighbors=86, p=1, weights=uniform)\n",
        "147\n",
        "0.957864973545"
       ]
      },
      {
       "output_type": "stream",
       "stream": "stdout",
       "text": [
        "\n",
        "0.955329788894\n",
        "KNeighborsClassifier(algorithm=auto, leaf_size=30, metric=minkowski,\n",
        "           n_neighbors=86, p=1, weights=uniform)\n",
        "148\n",
        "0.957864973545"
       ]
      },
      {
       "output_type": "stream",
       "stream": "stdout",
       "text": [
        "\n",
        "0.955916615894\n",
        "KNeighborsClassifier(algorithm=auto, leaf_size=30, metric=minkowski,\n",
        "           n_neighbors=86, p=1, weights=uniform)\n",
        "149\n",
        "0.957864973545"
       ]
      },
      {
       "output_type": "stream",
       "stream": "stdout",
       "text": [
        "\n",
        "0.955902374005\n",
        "KNeighborsClassifier(algorithm=auto, leaf_size=30, metric=minkowski,\n",
        "           n_neighbors=86, p=1, weights=uniform)\n",
        "150\n",
        "0.957864973545"
       ]
      },
      {
       "output_type": "stream",
       "stream": "stdout",
       "text": [
        "\n",
        "0.955433428465\n",
        "KNeighborsClassifier(algorithm=auto, leaf_size=30, metric=minkowski,\n",
        "           n_neighbors=86, p=1, weights=uniform)\n",
        "151\n",
        "0.957864973545"
       ]
      },
      {
       "output_type": "stream",
       "stream": "stdout",
       "text": [
        "\n",
        "0.955387970712\n",
        "KNeighborsClassifier(algorithm=auto, leaf_size=30, metric=minkowski,\n",
        "           n_neighbors=91, p=1, weights=uniform)\n",
        "152\n",
        "0.957864973545"
       ]
      },
      {
       "output_type": "stream",
       "stream": "stdout",
       "text": [
        "\n",
        "0.955314939875\n",
        "KNeighborsClassifier(algorithm=auto, leaf_size=30, metric=minkowski,\n",
        "           n_neighbors=91, p=1, weights=uniform)\n",
        "153\n",
        "0.957864973545"
       ]
      },
      {
       "output_type": "stream",
       "stream": "stdout",
       "text": [
        "\n",
        "0.955432062423\n",
        "KNeighborsClassifier(algorithm=auto, leaf_size=30, metric=minkowski,\n",
        "           n_neighbors=91, p=1, weights=uniform)\n",
        "154\n",
        "0.957864973545"
       ]
      },
      {
       "output_type": "stream",
       "stream": "stdout",
       "text": [
        "\n",
        "0.955300697985\n",
        "KNeighborsClassifier(algorithm=auto, leaf_size=30, metric=minkowski,\n",
        "           n_neighbors=86, p=1, weights=uniform)\n",
        "155\n",
        "0.957864973545"
       ]
      },
      {
       "output_type": "stream",
       "stream": "stdout",
       "text": [
        "\n",
        "0.95574207044\n",
        "KNeighborsClassifier(algorithm=auto, leaf_size=30, metric=minkowski,\n",
        "           n_neighbors=86, p=1, weights=uniform)\n",
        "156\n",
        "0.957864973545"
       ]
      },
      {
       "output_type": "stream",
       "stream": "stdout",
       "text": [
        "\n",
        "0.955316305916\n",
        "KNeighborsClassifier(algorithm=auto, leaf_size=30, metric=minkowski,\n",
        "           n_neighbors=86, p=1, weights=uniform)\n",
        "157\n",
        "0.957864973545"
       ]
      },
      {
       "output_type": "stream",
       "stream": "stdout",
       "text": [
        "\n",
        "0.955300849768\n",
        "KNeighborsClassifier(algorithm=auto, leaf_size=30, metric=minkowski,\n",
        "           n_neighbors=91, p=1, weights=uniform)\n",
        "158\n",
        "0.957864973545"
       ]
      },
      {
       "output_type": "stream",
       "stream": "stdout",
       "text": [
        "\n",
        "0.955447518572\n",
        "KNeighborsClassifier(algorithm=auto, leaf_size=30, metric=minkowski,\n",
        "           n_neighbors=86, p=1, weights=uniform)\n",
        "159\n",
        "0.957864973545"
       ]
      },
      {
       "output_type": "stream",
       "stream": "stdout",
       "text": [
        "\n",
        "0.955419034792\n",
        "KNeighborsClassifier(algorithm=auto, leaf_size=30, metric=minkowski,\n",
        "           n_neighbors=86, p=1, weights=uniform)\n",
        "160\n",
        "0.957864973545"
       ]
      },
      {
       "output_type": "stream",
       "stream": "stdout",
       "text": [
        "\n",
        "0.955477064828\n",
        "KNeighborsClassifier(algorithm=auto, leaf_size=30, metric=minkowski,\n",
        "           n_neighbors=86, p=1, weights=uniform)\n",
        "161\n",
        "0.957864973545"
       ]
      },
      {
       "output_type": "stream",
       "stream": "stdout",
       "text": [
        "\n",
        "0.955315395222\n",
        "KNeighborsClassifier(algorithm=auto, leaf_size=30, metric=minkowski,\n",
        "           n_neighbors=86, p=1, weights=uniform)\n",
        "162\n",
        "0.957864973545"
       ]
      },
      {
       "output_type": "stream",
       "stream": "stdout",
       "text": [
        "\n",
        "0.95535933515\n",
        "KNeighborsClassifier(algorithm=auto, leaf_size=30, metric=minkowski,\n",
        "           n_neighbors=86, p=1, weights=uniform)\n",
        "163\n",
        "0.957864973545"
       ]
      },
      {
       "output_type": "stream",
       "stream": "stdout",
       "text": [
        "\n",
        "0.955374487734\n",
        "KNeighborsClassifier(algorithm=auto, leaf_size=30, metric=minkowski,\n",
        "           n_neighbors=86, p=1, weights=uniform)\n",
        "164\n",
        "0.957864973545"
       ]
      },
      {
       "output_type": "stream",
       "stream": "stdout",
       "text": [
        "\n",
        "0.955433732029\n",
        "KNeighborsClassifier(algorithm=auto, leaf_size=30, metric=minkowski,\n",
        "           n_neighbors=86, p=1, weights=uniform)\n",
        "165\n",
        "0.957864973545"
       ]
      },
      {
       "output_type": "stream",
       "stream": "stdout",
       "text": [
        "\n",
        "0.955476457699\n",
        "KNeighborsClassifier(algorithm=auto, leaf_size=30, metric=minkowski,\n",
        "           n_neighbors=86, p=1, weights=uniform)\n",
        "166\n",
        "0.957864973545"
       ]
      },
      {
       "output_type": "stream",
       "stream": "stdout",
       "text": [
        "\n",
        "0.955374943082\n",
        "KNeighborsClassifier(algorithm=auto, leaf_size=30, metric=minkowski,\n",
        "           n_neighbors=86, p=1, weights=uniform)\n",
        "167\n",
        "0.957864973545"
       ]
      },
      {
       "output_type": "stream",
       "stream": "stdout",
       "text": [
        "\n",
        "0.955404489338\n",
        "KNeighborsClassifier(algorithm=auto, leaf_size=30, metric=minkowski,\n",
        "           n_neighbors=86, p=1, weights=uniform)\n",
        "168\n",
        "0.957864973545"
       ]
      },
      {
       "output_type": "stream",
       "stream": "stdout",
       "text": [
        "\n",
        "0.955389336754\n",
        "KNeighborsClassifier(algorithm=auto, leaf_size=30, metric=minkowski,\n",
        "           n_neighbors=86, p=1, weights=uniform)\n",
        "169\n",
        "0.957864973545"
       ]
      },
      {
       "output_type": "stream",
       "stream": "stdout",
       "text": [
        "\n",
        "0.955506611084\n",
        "KNeighborsClassifier(algorithm=auto, leaf_size=30, metric=minkowski,\n",
        "           n_neighbors=86, p=1, weights=uniform)\n",
        "170\n",
        "0.957864973545"
       ]
      },
      {
       "output_type": "stream",
       "stream": "stdout",
       "text": [
        "\n",
        "0.955462215809\n",
        "KNeighborsClassifier(algorithm=auto, leaf_size=30, metric=minkowski,\n",
        "           n_neighbors=86, p=1, weights=uniform)\n",
        "171\n",
        "0.957864973545"
       ]
      },
      {
       "output_type": "stream",
       "stream": "stdout",
       "text": [
        "\n",
        "0.955462215809\n",
        "KNeighborsClassifier(algorithm=auto, leaf_size=30, metric=minkowski,\n",
        "           n_neighbors=86, p=1, weights=uniform)\n",
        "172\n",
        "0.957864973545"
       ]
      },
      {
       "output_type": "stream",
       "stream": "stdout",
       "text": [
        "\n",
        "0.955520397627\n",
        "KNeighborsClassifier(algorithm=auto, leaf_size=30, metric=minkowski,\n",
        "           n_neighbors=86, p=1, weights=uniform)\n",
        "173\n",
        "0.957864973545"
       ]
      },
      {
       "output_type": "stream",
       "stream": "stdout",
       "text": [
        "\n",
        "0.955345245043\n",
        "KNeighborsClassifier(algorithm=auto, leaf_size=30, metric=minkowski,\n",
        "           n_neighbors=86, p=1, weights=uniform)\n",
        "174\n",
        "0.957864973545"
       ]
      },
      {
       "output_type": "stream",
       "stream": "stdout",
       "text": [
        "\n",
        "0.955462671156\n",
        "KNeighborsClassifier(algorithm=auto, leaf_size=30, metric=minkowski,\n",
        "           n_neighbors=86, p=1, weights=uniform)\n",
        "175\n",
        "0.957864973545"
       ]
      },
      {
       "output_type": "stream",
       "stream": "stdout",
       "text": [
        "\n",
        "0.955535701993\n",
        "KNeighborsClassifier(algorithm=auto, leaf_size=30, metric=minkowski,\n",
        "           n_neighbors=86, p=1, weights=uniform)\n",
        "176\n",
        "0.957864973545"
       ]
      },
      {
       "output_type": "stream",
       "stream": "stdout",
       "text": [
        "\n",
        "0.955608429266\n",
        "KNeighborsClassifier(algorithm=auto, leaf_size=30, metric=minkowski,\n",
        "           n_neighbors=86, p=1, weights=uniform)\n",
        "177\n",
        "0.957864973545"
       ]
      },
      {
       "output_type": "stream",
       "stream": "stdout",
       "text": [
        "\n",
        "0.955666914649\n",
        "KNeighborsClassifier(algorithm=auto, leaf_size=30, metric=minkowski,\n",
        "           n_neighbors=86, p=1, weights=uniform)\n",
        "178\n",
        "0.957864973545"
       ]
      },
      {
       "output_type": "stream",
       "stream": "stdout",
       "text": [
        "\n",
        "0.95565206563\n",
        "KNeighborsClassifier(algorithm=auto, leaf_size=30, metric=minkowski,\n",
        "           n_neighbors=86, p=1, weights=uniform)\n",
        "179\n",
        "0.957864973545"
       ]
      },
      {
       "output_type": "stream",
       "stream": "stdout",
       "text": [
        "\n",
        "0.955666762867\n",
        "KNeighborsClassifier(algorithm=auto, leaf_size=30, metric=minkowski,\n",
        "           n_neighbors=86, p=1, weights=uniform)\n",
        "180\n",
        "0.957864973545"
       ]
      },
      {
       "output_type": "stream",
       "stream": "stdout",
       "text": [
        "\n",
        "0.955666762867\n",
        "KNeighborsClassifier(algorithm=auto, leaf_size=30, metric=minkowski,\n",
        "           n_neighbors=86, p=1, weights=uniform)\n",
        "181\n",
        "0.957864973545"
       ]
      },
      {
       "output_type": "stream",
       "stream": "stdout",
       "text": [
        "\n",
        "0.955666762867\n",
        "KNeighborsClassifier(algorithm=auto, leaf_size=30, metric=minkowski,\n",
        "           n_neighbors=86, p=1, weights=uniform)\n",
        "182\n",
        "0.957864973545"
       ]
      },
      {
       "output_type": "stream",
       "stream": "stdout",
       "text": [
        "\n",
        "0.955666762867\n",
        "KNeighborsClassifier(algorithm=auto, leaf_size=30, metric=minkowski,\n",
        "           n_neighbors=86, p=1, weights=uniform)\n",
        "183\n",
        "0.957864973545"
       ]
      },
      {
       "output_type": "stream",
       "stream": "stdout",
       "text": [
        "\n",
        "0.955666762867\n",
        "KNeighborsClassifier(algorithm=auto, leaf_size=30, metric=minkowski,\n",
        "           n_neighbors=86, p=1, weights=uniform)\n",
        "184\n",
        "0.957864973545"
       ]
      },
      {
       "output_type": "stream",
       "stream": "stdout",
       "text": [
        "\n",
        "0.955666762867\n",
        "KNeighborsClassifier(algorithm=auto, leaf_size=30, metric=minkowski,\n",
        "           n_neighbors=86, p=1, weights=uniform)\n",
        "185\n",
        "0.957864973545"
       ]
      },
      {
       "output_type": "stream",
       "stream": "stdout",
       "text": [
        "\n",
        "0.955666762867\n",
        "KNeighborsClassifier(algorithm=auto, leaf_size=30, metric=minkowski,\n",
        "           n_neighbors=86, p=1, weights=uniform)\n",
        "186\n",
        "0.957864973545"
       ]
      },
      {
       "output_type": "stream",
       "stream": "stdout",
       "text": [
        "\n",
        "0.955666762867\n",
        "KNeighborsClassifier(algorithm=auto, leaf_size=30, metric=minkowski,\n",
        "           n_neighbors=86, p=1, weights=uniform)\n",
        "187\n",
        "0.957864973545"
       ]
      },
      {
       "output_type": "stream",
       "stream": "stdout",
       "text": [
        "\n",
        "0.955666762867\n",
        "KNeighborsClassifier(algorithm=auto, leaf_size=30, metric=minkowski,\n",
        "           n_neighbors=86, p=1, weights=uniform)\n",
        "188\n",
        "0.957864973545"
       ]
      },
      {
       "output_type": "stream",
       "stream": "stdout",
       "text": [
        "\n",
        "0.955666762867\n",
        "KNeighborsClassifier(algorithm=auto, leaf_size=30, metric=minkowski,\n",
        "           n_neighbors=86, p=1, weights=uniform)\n",
        "189\n",
        "0.957864973545"
       ]
      },
      {
       "output_type": "stream",
       "stream": "stdout",
       "text": [
        "\n",
        "0.955666762867\n",
        "KNeighborsClassifier(algorithm=auto, leaf_size=30, metric=minkowski,\n",
        "           n_neighbors=86, p=1, weights=uniform)\n",
        "190\n",
        "0.957864973545"
       ]
      },
      {
       "output_type": "stream",
       "stream": "stdout",
       "text": [
        "\n",
        "0.955666762867\n",
        "KNeighborsClassifier(algorithm=auto, leaf_size=30, metric=minkowski,\n",
        "           n_neighbors=86, p=1, weights=uniform)\n",
        "191\n",
        "0.957864973545"
       ]
      },
      {
       "output_type": "stream",
       "stream": "stdout",
       "text": [
        "\n",
        "0.955681308321\n",
        "KNeighborsClassifier(algorithm=auto, leaf_size=30, metric=minkowski,\n",
        "           n_neighbors=86, p=1, weights=uniform)\n",
        "192\n",
        "0.957864973545"
       ]
      },
      {
       "output_type": "stream",
       "stream": "stdout",
       "text": [
        "\n",
        "0.955666762867\n",
        "KNeighborsClassifier(algorithm=auto, leaf_size=30, metric=minkowski,\n",
        "           n_neighbors=86, p=1, weights=uniform)\n",
        "193\n",
        "0.957864973545"
       ]
      },
      {
       "output_type": "stream",
       "stream": "stdout",
       "text": [
        "\n",
        "0.955666762867\n",
        "KNeighborsClassifier(algorithm=auto, leaf_size=30, metric=minkowski,\n",
        "           n_neighbors=86, p=1, weights=uniform)\n",
        "194\n",
        "0.957864973545"
       ]
      },
      {
       "output_type": "stream",
       "stream": "stdout",
       "text": [
        "\n",
        "0.955666762867\n",
        "KNeighborsClassifier(algorithm=auto, leaf_size=30, metric=minkowski,\n",
        "           n_neighbors=86, p=1, weights=uniform)\n",
        "195\n",
        "0.957864973545"
       ]
      },
      {
       "output_type": "stream",
       "stream": "stdout",
       "text": [
        "\n",
        "0.955666762867\n",
        "KNeighborsClassifier(algorithm=auto, leaf_size=30, metric=minkowski,\n",
        "           n_neighbors=86, p=1, weights=uniform)\n",
        "196\n",
        "0.957864973545"
       ]
      },
      {
       "output_type": "stream",
       "stream": "stdout",
       "text": [
        "\n",
        "0.955666762867\n",
        "KNeighborsClassifier(algorithm=auto, leaf_size=30, metric=minkowski,\n",
        "           n_neighbors=86, p=1, weights=uniform)\n",
        "197\n",
        "0.957864973545"
       ]
      },
      {
       "output_type": "stream",
       "stream": "stdout",
       "text": [
        "\n",
        "0.955666762867\n",
        "KNeighborsClassifier(algorithm=auto, leaf_size=30, metric=minkowski,\n",
        "           n_neighbors=86, p=1, weights=uniform)\n",
        "198\n",
        "0.957864973545"
       ]
      },
      {
       "output_type": "stream",
       "stream": "stdout",
       "text": [
        "\n",
        "0.955666762867\n",
        "KNeighborsClassifier(algorithm=auto, leaf_size=30, metric=minkowski,\n",
        "           n_neighbors=86, p=1, weights=uniform)\n",
        "199\n",
        "0.957864973545"
       ]
      },
      {
       "output_type": "stream",
       "stream": "stdout",
       "text": [
        "\n",
        "0.955666762867\n",
        "KNeighborsClassifier(algorithm=auto, leaf_size=30, metric=minkowski,\n",
        "           n_neighbors=86, p=1, weights=uniform)\n",
        "200\n",
        "0.957864973545"
       ]
      },
      {
       "output_type": "stream",
       "stream": "stdout",
       "text": [
        "\n",
        "0.955666762867\n",
        "KNeighborsClassifier(algorithm=auto, leaf_size=30, metric=minkowski,\n",
        "           n_neighbors=86, p=1, weights=uniform)\n",
        "201\n",
        "0.957864973545"
       ]
      },
      {
       "output_type": "stream",
       "stream": "stdout",
       "text": [
        "\n",
        "0.955666762867\n",
        "KNeighborsClassifier(algorithm=auto, leaf_size=30, metric=minkowski,\n",
        "           n_neighbors=86, p=1, weights=uniform)\n",
        "202\n",
        "0.957864973545"
       ]
      },
      {
       "output_type": "stream",
       "stream": "stdout",
       "text": [
        "\n",
        "0.955666762867\n",
        "KNeighborsClassifier(algorithm=auto, leaf_size=30, metric=minkowski,\n",
        "           n_neighbors=86, p=1, weights=uniform)\n",
        "203\n",
        "0.957864973545"
       ]
      },
      {
       "output_type": "stream",
       "stream": "stdout",
       "text": [
        "\n",
        "0.955666762867\n",
        "KNeighborsClassifier(algorithm=auto, leaf_size=30, metric=minkowski,\n",
        "           n_neighbors=86, p=1, weights=uniform)\n",
        "204\n",
        "0.957864973545"
       ]
      },
      {
       "output_type": "stream",
       "stream": "stdout",
       "text": [
        "\n",
        "0.955666762867\n",
        "KNeighborsClassifier(algorithm=auto, leaf_size=30, metric=minkowski,\n",
        "           n_neighbors=86, p=1, weights=uniform)\n",
        "205\n",
        "0.957864973545"
       ]
      },
      {
       "output_type": "stream",
       "stream": "stdout",
       "text": [
        "\n",
        "0.955666762867\n",
        "KNeighborsClassifier(algorithm=auto, leaf_size=30, metric=minkowski,\n",
        "           n_neighbors=86, p=1, weights=uniform)\n",
        "206\n",
        "0.957864973545"
       ]
      },
      {
       "output_type": "stream",
       "stream": "stdout",
       "text": [
        "\n",
        "0.955666762867\n",
        "KNeighborsClassifier(algorithm=auto, leaf_size=30, metric=minkowski,\n",
        "           n_neighbors=86, p=1, weights=uniform)\n",
        "207\n",
        "0.957864973545"
       ]
      },
      {
       "output_type": "stream",
       "stream": "stdout",
       "text": [
        "\n",
        "0.955666762867\n",
        "KNeighborsClassifier(algorithm=auto, leaf_size=30, metric=minkowski,\n",
        "           n_neighbors=86, p=1, weights=uniform)\n",
        "208\n",
        "0.957864973545"
       ]
      },
      {
       "output_type": "stream",
       "stream": "stdout",
       "text": [
        "\n",
        "0.955666762867\n",
        "KNeighborsClassifier(algorithm=auto, leaf_size=30, metric=minkowski,\n",
        "           n_neighbors=86, p=1, weights=uniform)\n",
        "209\n",
        "0.957864973545"
       ]
      },
      {
       "output_type": "stream",
       "stream": "stdout",
       "text": [
        "\n",
        "0.955666762867\n",
        "KNeighborsClassifier(algorithm=auto, leaf_size=30, metric=minkowski,\n",
        "           n_neighbors=86, p=1, weights=uniform)\n",
        "210\n",
        "0.957864973545"
       ]
      },
      {
       "output_type": "stream",
       "stream": "stdout",
       "text": [
        "\n",
        "0.955666762867\n",
        "KNeighborsClassifier(algorithm=auto, leaf_size=30, metric=minkowski,\n",
        "           n_neighbors=86, p=1, weights=uniform)\n",
        "211\n",
        "0.957864973545"
       ]
      },
      {
       "output_type": "stream",
       "stream": "stdout",
       "text": [
        "\n",
        "0.955666762867\n",
        "KNeighborsClassifier(algorithm=auto, leaf_size=30, metric=minkowski,\n",
        "           n_neighbors=86, p=1, weights=uniform)\n",
        "212\n",
        "0.957864973545"
       ]
      },
      {
       "output_type": "stream",
       "stream": "stdout",
       "text": [
        "\n",
        "0.955666762867\n",
        "KNeighborsClassifier(algorithm=auto, leaf_size=30, metric=minkowski,\n",
        "           n_neighbors=86, p=1, weights=uniform)\n",
        "213\n",
        "0.957864973545"
       ]
      },
      {
       "output_type": "stream",
       "stream": "stdout",
       "text": [
        "\n",
        "0.955666762867\n",
        "KNeighborsClassifier(algorithm=auto, leaf_size=30, metric=minkowski,\n",
        "           n_neighbors=86, p=1, weights=uniform)\n",
        "214\n",
        "0.957864973545"
       ]
      },
      {
       "output_type": "stream",
       "stream": "stdout",
       "text": [
        "\n",
        "0.955666762867\n",
        "KNeighborsClassifier(algorithm=auto, leaf_size=30, metric=minkowski,\n",
        "           n_neighbors=86, p=1, weights=uniform)\n",
        "215\n"
       ]
      }
     ],
     "prompt_number": 27
    },
    {
     "cell_type": "code",
     "collapsed": false,
     "input": [
      "print n_components_best"
     ],
     "language": "python",
     "metadata": {},
     "outputs": [
      {
       "output_type": "stream",
       "stream": "stdout",
       "text": [
        "55\n"
       ]
      }
     ],
     "prompt_number": 28
    },
    {
     "cell_type": "code",
     "collapsed": false,
     "input": [
      "pca = RandomizedPCA(n_components=55)\n",
      "pca.fit(X_train_preprocessed)\n",
      "X_train_encoded = pca.transform(X_train_preprocessed)\n",
      "X_test_encoded = pca.transform(X_test_preprocessed)"
     ],
     "language": "python",
     "metadata": {},
     "outputs": [],
     "prompt_number": 97
    },
    {
     "cell_type": "code",
     "collapsed": false,
     "input": [
      "params = {'n_neighbors': np.arange(50, 70, 1), 'p': [1]}\n",
      "grid_searcher = GridSearchCV(KNN(), params, cv=5, scoring='roc_auc', n_jobs=1)\n",
      "grid_searcher.fit(X_train_encoded, y_train)\n",
      "print grid_searcher.best_score_\n",
      "print grid_searcher.best_estimator_\n",
      "KNN_SCALE_PCA = grid_searcher.best_estimator_\n",
      "clf = KNN_SCALE_PCA.fit(X_train_encoded,y_train)\n",
      "results = clf.predict_proba(X_train_encoded)[:, 1]\n",
      "print roc_auc_score(y_train, results)"
     ],
     "language": "python",
     "metadata": {},
     "outputs": [
      {
       "output_type": "stream",
       "stream": "stdout",
       "text": [
        "0.957303291112\n",
        "KNeighborsClassifier(algorithm=auto, leaf_size=30, metric=minkowski,\n",
        "           n_neighbors=69, p=1, weights=uniform)\n",
        "0.963059666542"
       ]
      },
      {
       "output_type": "stream",
       "stream": "stdout",
       "text": [
        "\n"
       ]
      }
     ],
     "prompt_number": 102
    },
    {
     "cell_type": "heading",
     "level": 2,
     "metadata": {},
     "source": [
      "Combination PCI KNN and KNN"
     ]
    },
    {
     "cell_type": "code",
     "collapsed": false,
     "input": [
      "from sklearn.cross_validation import train_test_split\n",
      "X_train_preprocessed_splited, X_test_preprocessed_splited, y_train_splited, y_test_splited = train_test_split(X_train_preprocessed, y_train, test_size=0.33, random_state=42)\n",
      "params = {'n_neighbors': np.arange(50, 100, 1), 'p': [1]}\n",
      "grid_searcher = GridSearchCV(KNN(),\\\n",
      "                             params, cv=5, scoring='roc_auc', n_jobs=4)\n",
      "start = time.time()\n",
      "grid_searcher.fit(X_train_preprocessed_splited, y_train_splited)\n",
      "print \"Fit is completed. Time: %f\" % (time.time() - start)\n",
      "print grid_searcher.best_score_\n",
      "print grid_searcher.best_estimator_\n",
      "KNN_SCALE = grid_searcher.best_estimator_\n",
      "clf_KNN_SCALE = KNN_SCALE.fit(X_train_preprocessed_splited, y_train_splited)\n",
      "results_KNN_SCALE = clf_KNN_SCALE.predict_proba(X_test_preprocessed_splited)[:, 1]"
     ],
     "language": "python",
     "metadata": {},
     "outputs": [
      {
       "output_type": "stream",
       "stream": "stdout",
       "text": [
        "Fit is completed. Time: 4.361175\n",
        "0.953554697362\n",
        "KNeighborsClassifier(algorithm=auto, leaf_size=30, metric=minkowski,\n",
        "           n_neighbors=55, p=1, weights=uniform)\n"
       ]
      }
     ],
     "prompt_number": 79
    },
    {
     "cell_type": "code",
     "collapsed": false,
     "input": [
      "pca = RandomizedPCA(n_components=55)\n",
      "pca.fit(X_train_preprocessed_splited)\n",
      "X_train_preprocessed_splited_encoded = pca.transform(X_train_preprocessed_splited)\n",
      "X_test_preprocessed_splited_encoded = pca.transform(X_test_preprocessed_splited)"
     ],
     "language": "python",
     "metadata": {},
     "outputs": [],
     "prompt_number": 89
    },
    {
     "cell_type": "code",
     "collapsed": false,
     "input": [
      "params = {'n_neighbors': np.arange(50, 70, 1), 'p': [1]}\n",
      "grid_searcher = GridSearchCV(KNN(), params, cv=5, scoring='roc_auc', n_jobs=1)\n",
      "grid_searcher.fit(X_train_preprocessed_splited_encoded, y_train_splited)\n",
      "print grid_searcher.best_score_\n",
      "print grid_searcher.best_estimator_\n",
      "KNN_SCALE_PCA = grid_searcher.best_estimator_\n",
      "clf_KNN_SCALE_PCA = KNN_SCALE_PCA.fit(X_train_preprocessed_splited_encoded, y_train_splited)\n",
      "results_KNN_SCALE_PCA = clf_KNN_SCALE_PCA.predict_proba(X_test_preprocessed_splited_encoded)[:, 1]"
     ],
     "language": "python",
     "metadata": {},
     "outputs": [
      {
       "output_type": "stream",
       "stream": "stdout",
       "text": [
        "0.954723273088\n",
        "KNeighborsClassifier(algorithm=auto, leaf_size=30, metric=minkowski,\n",
        "           n_neighbors=50, p=1, weights=uniform)\n"
       ]
      }
     ],
     "prompt_number": 90
    },
    {
     "cell_type": "code",
     "collapsed": false,
     "input": [],
     "language": "python",
     "metadata": {},
     "outputs": []
    },
    {
     "cell_type": "code",
     "collapsed": false,
     "input": [
      "from sklearn.metrics import roc_auc_score\n",
      "for alpha in np.arange(0,1.1,0.1):\n",
      "    results = results_KNN_SCALE_PCA * alpha + (1 - alpha) * results_KNN_SCALE\n",
      "    print roc_auc_score(y_test_splited, results)\n",
      "    #f = open('y.test.baseline.scaled.csv', 'w')\n",
      "    #print >> f, 'Id,Prediction'\n",
      "    #for i, result in enumerate(results):\n",
      "     #   print >> f, str(i+1) + ',' + str(result)\n",
      "    #f.close()\n",
      "print roc_auc_score(y_test_splited, results_KNN_SCALE)"
     ],
     "language": "python",
     "metadata": {},
     "outputs": [
      {
       "output_type": "stream",
       "stream": "stdout",
       "text": [
        "0.966056701031\n",
        "0.965953608247\n",
        "0.965953608247\n",
        "0.965902061856\n",
        "0.966005154639\n",
        "0.966056701031\n",
        "0.966056701031\n",
        "0.965953608247\n",
        "0.965798969072\n",
        "0.965798969072\n",
        "0.965644329897\n",
        "0.966056701031\n"
       ]
      }
     ],
     "prompt_number": 93
    },
    {
     "cell_type": "code",
     "collapsed": false,
     "input": [],
     "language": "python",
     "metadata": {},
     "outputs": []
    },
    {
     "cell_type": "heading",
     "level": 2,
     "metadata": {},
     "source": [
      "\u0416\u0430\u0434\u043d\u044b\u0439 feature selection"
     ]
    },
    {
     "cell_type": "code",
     "collapsed": false,
     "input": [
      "for feature_quantity in range(216):\n",
      "    for feature_index in range(216):\n",
      "        params = {'n_neighbors': np.arange(1, 200, 5), 'p': [2]}\n",
      "        grid_searcher = GridSearchCV(KNN(),\\\n",
      "                             params, cv=5, scoring='roc_auc', n_jobs=4)\n",
      "        start = time.time()\n",
      "        grid_searcher.fit(X_train_preprocessed[:,feature_index,feature_index + 1], y_train)\n",
      "        print \"Fit is completed. Time: %f\" % (time.time() - start)\n",
      "\n",
      "        print grid_searcher.best_score_\n",
      "        print grid_searcher.best_estimator_"
     ],
     "language": "python",
     "metadata": {},
     "outputs": []
    },
    {
     "cell_type": "markdown",
     "metadata": {},
     "source": [
      "#Data set for Matrixnet"
     ]
    },
    {
     "cell_type": "code",
     "collapsed": false,
     "input": [
      "with open('train_for_matrixnet.txt', 'w') as output:\n",
      "    for ind, obj in enumerate(X_train_preprocessed):\n",
      "        output.write(str(ind) + '\\t' + str(y_train[ind]) + '\\turl\\t' + str(ind) + '\\t' + '\\t'.join(obj.astype(str)) + '\\n')"
     ],
     "language": "python",
     "metadata": {},
     "outputs": [],
     "prompt_number": 44
    },
    {
     "cell_type": "code",
     "collapsed": false,
     "input": [
      "with open('test_for_matrixnet.txt', 'w') as output:\n",
      "    for ind, obj in enumerate(X_test_preprocessed):\n",
      "        output.write(str(ind + X_train_preprocessed.shape[0]) + '\\t0\\turl\\t' + str(ind + X_train_preprocessed.shape[0]) + '\\t' + '\\t'.join(obj.astype(str)) + '\\n')"
     ],
     "language": "python",
     "metadata": {},
     "outputs": [],
     "prompt_number": 46
    },
    {
     "cell_type": "heading",
     "level": 2,
     "metadata": {},
     "source": [
      "\u041f\u043e\u043f\u0440\u043e\u0431\u0443\u0435\u043c \u0434\u043e\u0431\u0430\u0432\u0438\u0442\u044c 4\u0433\u0440\u0430\u043c\u043c\u044b"
     ]
    },
    {
     "cell_type": "code",
     "collapsed": false,
     "input": [
      "from collections import defaultdict\n",
      "from itertools import product\n",
      "\n",
      "def vectorize(discrete):\n",
      "    vectorized = list()\n",
      "    for element in discrete:\n",
      "        current = defaultdict(int)\n",
      "        for j in range(597):\n",
      "            current[tuple(element[j:j+3])] += 1\n",
      "        for j in range(596):\n",
      "            current[tuple(element[j:j+4])] += 1\n",
      "            \n",
      "        vect = list()\n",
      "        for a, b, c in product('abcdef', 'abcdef', 'abcdef'):\n",
      "            vect.append(current[(a, b, c)])\n",
      "        for a, b, c, e in product('abcdef', 'abcdef', 'abcdef', 'abcdef'):\n",
      "            vect.append(current[(a, b, c, e)])\n",
      "        vectorized.append(vect)\n",
      "    return np.array(vectorized).astype(float)"
     ],
     "language": "python",
     "metadata": {},
     "outputs": [],
     "prompt_number": 66
    },
    {
     "cell_type": "code",
     "collapsed": false,
     "input": [
      "X_train = vectorize(X_train_discrete)\n",
      "X_test = vectorize(X_test_discrete)\n",
      "print X_train.shape, X_test.shape"
     ],
     "language": "python",
     "metadata": {},
     "outputs": [
      {
       "output_type": "stream",
       "stream": "stdout",
       "text": [
        "(900, 1512) (903, 1512)\n"
       ]
      }
     ],
     "prompt_number": 67
    },
    {
     "cell_type": "code",
     "collapsed": false,
     "input": [
      "X = np.zeros((X_train.shape[0] + X_test.shape[0], X_train.shape[1]), dtype='float')\n",
      "X[0:X_train.shape[0]] = X_train\n",
      "X[X_train.shape[0]:] = X_test\n",
      "print X_train.shape, X_test.shape, X.shape"
     ],
     "language": "python",
     "metadata": {},
     "outputs": [
      {
       "output_type": "stream",
       "stream": "stdout",
       "text": [
        "(900, 1512) (903, 1512) (1803, 1512)\n"
       ]
      }
     ],
     "prompt_number": 68
    },
    {
     "cell_type": "code",
     "collapsed": false,
     "input": [
      "from sklearn import preprocessing\n",
      "X_preprocessed = preprocessing.scale(X)\n",
      "print X_preprocessed.shape\n",
      "X_train_preprocessed = X_preprocessed[0:X_train.shape[0]]\n",
      "X_test_preprocessed = X_preprocessed[X_train.shape[0]:]\n",
      "print X_train_preprocessed.shape, X_test_preprocessed.shape"
     ],
     "language": "python",
     "metadata": {},
     "outputs": [
      {
       "output_type": "stream",
       "stream": "stdout",
       "text": [
        "(1803, 1512)\n",
        "(900, 1512) (903, 1512)\n"
       ]
      }
     ],
     "prompt_number": 69
    },
    {
     "cell_type": "code",
     "collapsed": false,
     "input": [
      "from sklearn.grid_search import GridSearchCV\n",
      "from sklearn.neighbors import KNeighborsClassifier as KNN\n",
      "from sklearn.metrics import roc_auc_score\n",
      "\n",
      "import time\n",
      "\n",
      "params = {'n_neighbors': np.arange(1, 200, 5), 'p': [1, 2]}\n",
      "grid_searcher = GridSearchCV(KNN(),\\\n",
      "                             params, cv=5, scoring='roc_auc', n_jobs=1)\n",
      "start = time.time()\n",
      "grid_searcher.fit(X_train_preprocessed, y_train)\n",
      "print \"Fit is completed. Time: %f\" % (time.time() - start)\n",
      "\n",
      "print grid_searcher.best_score_\n",
      "print grid_searcher.best_estimator_"
     ],
     "language": "python",
     "metadata": {},
     "outputs": [
      {
       "output_type": "stream",
       "stream": "stdout",
       "text": [
        "Fit is completed. Time: 42599.906123\n",
        "0.953408978676\n",
        "KNeighborsClassifier(algorithm=auto, leaf_size=30, metric=minkowski,\n",
        "           n_neighbors=36, p=1, weights=uniform)\n"
       ]
      }
     ],
     "prompt_number": 70
    },
    {
     "cell_type": "code",
     "collapsed": false,
     "input": [
      "params = {'n_neighbors': np.arange(30, 50, 1), 'p': [2]}\n",
      "grid_searcher = GridSearchCV(KNN(),\\\n",
      "                             params, cv=5, scoring='roc_auc', n_jobs=4)\n",
      "start = time.time()\n",
      "grid_searcher.fit(X_train_preprocessed, y_train)\n",
      "print \"Fit is completed. Time: %f\" % (time.time() - start)\n",
      "\n",
      "print grid_searcher.best_score_\n",
      "print grid_searcher.best_estimator_"
     ],
     "language": "python",
     "metadata": {},
     "outputs": [
      {
       "ename": "ImportError",
       "evalue": "[joblib] Attempting to do parallel computingwithout protecting your import on a system that does not support forking. To use parallel-computing in a script, you must protect you main loop using \"if __name__ == '__main__'\". Please see the joblib documentation on Parallel for more information",
       "output_type": "pyerr",
       "traceback": [
        "\u001b[0;31m---------------------------------------------------------------------------\u001b[0m\n\u001b[0;31mImportError\u001b[0m                               Traceback (most recent call last)",
        "\u001b[0;32m<ipython-input-71-014dc3e36acf>\u001b[0m in \u001b[0;36m<module>\u001b[0;34m()\u001b[0m\n\u001b[1;32m      2\u001b[0m \u001b[0mgrid_searcher\u001b[0m \u001b[0;34m=\u001b[0m \u001b[0mGridSearchCV\u001b[0m\u001b[0;34m(\u001b[0m\u001b[0mKNN\u001b[0m\u001b[0;34m(\u001b[0m\u001b[0;34m)\u001b[0m\u001b[0;34m,\u001b[0m                             \u001b[0mparams\u001b[0m\u001b[0;34m,\u001b[0m \u001b[0mcv\u001b[0m\u001b[0;34m=\u001b[0m\u001b[0;36m5\u001b[0m\u001b[0;34m,\u001b[0m \u001b[0mscoring\u001b[0m\u001b[0;34m=\u001b[0m\u001b[0;34m'roc_auc'\u001b[0m\u001b[0;34m,\u001b[0m \u001b[0mn_jobs\u001b[0m\u001b[0;34m=\u001b[0m\u001b[0;36m4\u001b[0m\u001b[0;34m)\u001b[0m\u001b[0;34m\u001b[0m\u001b[0m\n\u001b[1;32m      3\u001b[0m \u001b[0mstart\u001b[0m \u001b[0;34m=\u001b[0m \u001b[0mtime\u001b[0m\u001b[0;34m.\u001b[0m\u001b[0mtime\u001b[0m\u001b[0;34m(\u001b[0m\u001b[0;34m)\u001b[0m\u001b[0;34m\u001b[0m\u001b[0m\n\u001b[0;32m----> 4\u001b[0;31m \u001b[0mgrid_searcher\u001b[0m\u001b[0;34m.\u001b[0m\u001b[0mfit\u001b[0m\u001b[0;34m(\u001b[0m\u001b[0mX_train_preprocessed\u001b[0m\u001b[0;34m,\u001b[0m \u001b[0my_train\u001b[0m\u001b[0;34m)\u001b[0m\u001b[0;34m\u001b[0m\u001b[0m\n\u001b[0m\u001b[1;32m      5\u001b[0m \u001b[0;32mprint\u001b[0m \u001b[0;34m\"Fit is completed. Time: %f\"\u001b[0m \u001b[0;34m%\u001b[0m \u001b[0;34m(\u001b[0m\u001b[0mtime\u001b[0m\u001b[0;34m.\u001b[0m\u001b[0mtime\u001b[0m\u001b[0;34m(\u001b[0m\u001b[0;34m)\u001b[0m \u001b[0;34m-\u001b[0m \u001b[0mstart\u001b[0m\u001b[0;34m)\u001b[0m\u001b[0;34m\u001b[0m\u001b[0m\n\u001b[1;32m      6\u001b[0m \u001b[0;34m\u001b[0m\u001b[0m\n",
        "\u001b[0;32m/Library/Python/2.7/site-packages/sklearn/grid_search.pyc\u001b[0m in \u001b[0;36mfit\u001b[0;34m(self, X, y, **params)\u001b[0m\n\u001b[1;32m    705\u001b[0m                           \u001b[0;34m\" The params argument will be removed in 0.15.\"\u001b[0m\u001b[0;34m,\u001b[0m\u001b[0;34m\u001b[0m\u001b[0m\n\u001b[1;32m    706\u001b[0m                           DeprecationWarning)\n\u001b[0;32m--> 707\u001b[0;31m         \u001b[0;32mreturn\u001b[0m \u001b[0mself\u001b[0m\u001b[0;34m.\u001b[0m\u001b[0m_fit\u001b[0m\u001b[0;34m(\u001b[0m\u001b[0mX\u001b[0m\u001b[0;34m,\u001b[0m \u001b[0my\u001b[0m\u001b[0;34m,\u001b[0m \u001b[0mParameterGrid\u001b[0m\u001b[0;34m(\u001b[0m\u001b[0mself\u001b[0m\u001b[0;34m.\u001b[0m\u001b[0mparam_grid\u001b[0m\u001b[0;34m)\u001b[0m\u001b[0;34m)\u001b[0m\u001b[0;34m\u001b[0m\u001b[0m\n\u001b[0m\u001b[1;32m    708\u001b[0m \u001b[0;34m\u001b[0m\u001b[0m\n\u001b[1;32m    709\u001b[0m \u001b[0;34m\u001b[0m\u001b[0m\n",
        "\u001b[0;32m/Library/Python/2.7/site-packages/sklearn/grid_search.pyc\u001b[0m in \u001b[0;36m_fit\u001b[0;34m(self, X, y, parameter_iterable)\u001b[0m\n\u001b[1;32m    491\u001b[0m                     \u001b[0mX\u001b[0m\u001b[0;34m,\u001b[0m \u001b[0my\u001b[0m\u001b[0;34m,\u001b[0m \u001b[0mbase_estimator\u001b[0m\u001b[0;34m,\u001b[0m \u001b[0mparameters\u001b[0m\u001b[0;34m,\u001b[0m \u001b[0mtrain\u001b[0m\u001b[0;34m,\u001b[0m \u001b[0mtest\u001b[0m\u001b[0;34m,\u001b[0m\u001b[0;34m\u001b[0m\u001b[0m\n\u001b[1;32m    492\u001b[0m                     self.scorer_, self.verbose, **self.fit_params)\n\u001b[0;32m--> 493\u001b[0;31m                 \u001b[0;32mfor\u001b[0m \u001b[0mparameters\u001b[0m \u001b[0;32min\u001b[0m \u001b[0mparameter_iterable\u001b[0m\u001b[0;34m\u001b[0m\u001b[0m\n\u001b[0m\u001b[1;32m    494\u001b[0m                 for train, test in cv)\n\u001b[1;32m    495\u001b[0m \u001b[0;34m\u001b[0m\u001b[0m\n",
        "\u001b[0;32m/Library/Python/2.7/site-packages/sklearn/externals/joblib/parallel.pyc\u001b[0m in \u001b[0;36m__call__\u001b[0;34m(self, iterable)\u001b[0m\n\u001b[1;32m    478\u001b[0m                 \u001b[0malready_forked\u001b[0m \u001b[0;34m=\u001b[0m \u001b[0mint\u001b[0m\u001b[0;34m(\u001b[0m\u001b[0mos\u001b[0m\u001b[0;34m.\u001b[0m\u001b[0menviron\u001b[0m\u001b[0;34m.\u001b[0m\u001b[0mget\u001b[0m\u001b[0;34m(\u001b[0m\u001b[0;34m'__JOBLIB_SPAWNED_PARALLEL__'\u001b[0m\u001b[0;34m,\u001b[0m \u001b[0;36m0\u001b[0m\u001b[0;34m)\u001b[0m\u001b[0;34m)\u001b[0m\u001b[0;34m\u001b[0m\u001b[0m\n\u001b[1;32m    479\u001b[0m                 \u001b[0;32mif\u001b[0m \u001b[0malready_forked\u001b[0m\u001b[0;34m:\u001b[0m\u001b[0;34m\u001b[0m\u001b[0m\n\u001b[0;32m--> 480\u001b[0;31m                     raise ImportError('[joblib] Attempting to do parallel computing'\n\u001b[0m\u001b[1;32m    481\u001b[0m                             \u001b[0;34m'without protecting your import on a system that does '\u001b[0m\u001b[0;34m\u001b[0m\u001b[0m\n\u001b[1;32m    482\u001b[0m                             \u001b[0;34m'not support forking. To use parallel-computing in a '\u001b[0m\u001b[0;34m\u001b[0m\u001b[0m\n",
        "\u001b[0;31mImportError\u001b[0m: [joblib] Attempting to do parallel computingwithout protecting your import on a system that does not support forking. To use parallel-computing in a script, you must protect you main loop using \"if __name__ == '__main__'\". Please see the joblib documentation on Parallel for more information"
       ]
      }
     ],
     "prompt_number": 71
    },
    {
     "cell_type": "code",
     "collapsed": false,
     "input": [
      "def plot_quality(grid_searcher, param_name):\n",
      "    means = []\n",
      "    stds = []\n",
      "    for elem in grid_searcher.grid_scores_:\n",
      "        means.append(np.mean(elem.cv_validation_scores))\n",
      "        stds.append(np.sqrt(np.var(elem.cv_validation_scores)))\n",
      "    means = np.array(means)\n",
      "    stds = np.array(stds)\n",
      "    \n",
      "    params = grid_searcher.param_grid\n",
      "    \n",
      "    plt.figure(figsize=(8, 6))\n",
      "    plt.plot(params[param_name], means)\n",
      "    fill_between(params[param_name], \\\n",
      "                 means + stds, means - stds, alpha = 0.3, facecolor='blue')\n",
      "    xlabel(param_name)\n",
      "    ylabel('AUC')"
     ],
     "language": "python",
     "metadata": {},
     "outputs": []
    },
    {
     "cell_type": "code",
     "collapsed": false,
     "input": [
      "plot_quality(grid_searcher, 'n_neighbors')"
     ],
     "language": "python",
     "metadata": {},
     "outputs": []
    },
    {
     "cell_type": "heading",
     "level": 2,
     "metadata": {},
     "source": [
      "\u041f\u043e\u043f\u0440\u043e\u0431\u0443\u0435\u043c \u0434\u043e\u0431\u0430\u0432\u0438\u0442\u044c \u0431\u0438\u0433\u0440\u0430\u043c\u043c\u044b"
     ]
    },
    {
     "cell_type": "code",
     "collapsed": false,
     "input": [
      "from collections import defaultdict\n",
      "from itertools import product\n",
      "\n",
      "def vectorize(discrete):\n",
      "    vectorized = list()\n",
      "    for element in discrete:\n",
      "        current = defaultdict(int)\n",
      "        for j in range(597):\n",
      "            current[tuple(element[j:j+3])] += 1\n",
      "        for j in range(598):\n",
      "            current[tuple(element[j:j+2])] += 1\n",
      "            \n",
      "        vect = list()\n",
      "        for a, b, c in product('abcdef', 'abcdef', 'abcdef'):\n",
      "            vect.append(current[(a, b, c)])\n",
      "        for a, b in product('abcdef', 'abcdef'):\n",
      "            vect.append(current[(a, b)])\n",
      "        vectorized.append(vect)\n",
      "    return np.array(vectorized).astype(float)"
     ],
     "language": "python",
     "metadata": {},
     "outputs": [],
     "prompt_number": 34
    },
    {
     "cell_type": "code",
     "collapsed": false,
     "input": [
      "X_train = vectorize(X_train_discrete)\n",
      "X_test = vectorize(X_test_discrete)\n",
      "print X_train.shape, X_test.shape"
     ],
     "language": "python",
     "metadata": {},
     "outputs": [
      {
       "output_type": "stream",
       "stream": "stdout",
       "text": [
        "(900, 252) (903, 252)\n"
       ]
      }
     ],
     "prompt_number": 35
    },
    {
     "cell_type": "code",
     "collapsed": false,
     "input": [
      "X = np.zeros((X_train.shape[0] + X_test.shape[0], X_train.shape[1]), dtype='float')\n",
      "X[0:X_train.shape[0]] = X_train\n",
      "X[X_train.shape[0]:] = X_test\n",
      "print X_train.shape, X_test.shape, X.shape"
     ],
     "language": "python",
     "metadata": {},
     "outputs": [
      {
       "output_type": "stream",
       "stream": "stdout",
       "text": [
        "(900, 252) (903, 252) (1803, 252)\n"
       ]
      }
     ],
     "prompt_number": 36
    },
    {
     "cell_type": "code",
     "collapsed": false,
     "input": [
      "from sklearn import preprocessing\n",
      "X_preprocessed = preprocessing.scale(X)\n",
      "print X_preprocessed.shape\n",
      "X_train_preprocessed = X_preprocessed[0:X_train.shape[0]]\n",
      "X_test_preprocessed = X_preprocessed[X_train.shape[0]:]\n",
      "print X_train_preprocessed.shape, X_test_preprocessed.shape"
     ],
     "language": "python",
     "metadata": {},
     "outputs": [
      {
       "output_type": "stream",
       "stream": "stdout",
       "text": [
        "(1803, 252)\n",
        "(900, 252) (903, 252)\n"
       ]
      }
     ],
     "prompt_number": 37
    },
    {
     "cell_type": "code",
     "collapsed": false,
     "input": [
      "from sklearn.grid_search import GridSearchCV\n",
      "from sklearn.neighbors import KNeighborsClassifier as KNN\n",
      "from sklearn.metrics import roc_auc_score\n",
      "\n",
      "import time\n",
      "\n",
      "params = {'n_neighbors': np.arange(1, 200, 5), 'p': [1, 2]}\n",
      "grid_searcher = GridSearchCV(KNN(),\\\n",
      "                             params, cv=5, scoring='roc_auc', n_jobs=1)\n",
      "start = time.time()\n",
      "grid_searcher.fit(X_train_preprocessed, y_train)\n",
      "print \"Fit is completed. Time: %f\" % (time.time() - start)\n",
      "\n",
      "print grid_searcher.best_score_\n",
      "print grid_searcher.best_estimator_"
     ],
     "language": "python",
     "metadata": {},
     "outputs": [
      {
       "output_type": "stream",
       "stream": "stdout",
       "text": [
        "Fit is completed. Time: 29.507589\n",
        "0.9553262979\n",
        "KNeighborsClassifier(algorithm=auto, leaf_size=30, metric=minkowski,\n",
        "           n_neighbors=86, p=1, weights=uniform)\n"
       ]
      }
     ],
     "prompt_number": 38
    },
    {
     "cell_type": "heading",
     "level": 2,
     "metadata": {},
     "source": [
      "\u041f\u043e\u043f\u0440\u043e\u0431\u0443\u0435\u043c \u0434\u043e\u0431\u0430\u0432\u0438\u0442\u044c \u0443\u043d\u0438\u0433\u0440\u0430\u043c\u043c\u044b"
     ]
    },
    {
     "cell_type": "code",
     "collapsed": false,
     "input": [
      "from collections import defaultdict\n",
      "from itertools import product\n",
      "\n",
      "def vectorize(discrete):\n",
      "    vectorized = list()\n",
      "    for element in discrete:\n",
      "        current = defaultdict(int)\n",
      "        for j in range(597):\n",
      "            current[tuple(element[j:j+3])] += 1\n",
      "        for j in range(598):\n",
      "            current[tuple(element[j:j+1])] += 1\n",
      "            \n",
      "        vect = list()\n",
      "        for a, b, c in product('abcdef', 'abcdef', 'abcdef'):\n",
      "            vect.append(current[(a, b, c)])\n",
      "        for a in 'abcdef':\n",
      "            vect.append(current[(a)])\n",
      "        vectorized.append(vect)\n",
      "    return np.array(vectorized).astype(float)"
     ],
     "language": "python",
     "metadata": {},
     "outputs": [],
     "prompt_number": 40
    },
    {
     "cell_type": "code",
     "collapsed": false,
     "input": [
      "X_train = vectorize(X_train_discrete)\n",
      "X_test = vectorize(X_test_discrete)\n",
      "print X_train.shape, X_test.shape"
     ],
     "language": "python",
     "metadata": {},
     "outputs": [
      {
       "output_type": "stream",
       "stream": "stdout",
       "text": [
        "(900, 222) (903, 222)\n"
       ]
      }
     ],
     "prompt_number": 41
    },
    {
     "cell_type": "code",
     "collapsed": false,
     "input": [
      "X = np.zeros((X_train.shape[0] + X_test.shape[0], X_train.shape[1]), dtype='float')\n",
      "X[0:X_train.shape[0]] = X_train\n",
      "X[X_train.shape[0]:] = X_test\n",
      "print X_train.shape, X_test.shape, X.shape"
     ],
     "language": "python",
     "metadata": {},
     "outputs": [
      {
       "output_type": "stream",
       "stream": "stdout",
       "text": [
        "(900, 222) (903, 222) (1803, 222)\n"
       ]
      }
     ],
     "prompt_number": 42
    },
    {
     "cell_type": "code",
     "collapsed": false,
     "input": [
      "from sklearn import preprocessing\n",
      "X_preprocessed = preprocessing.scale(X)\n",
      "print X_preprocessed.shape\n",
      "X_train_preprocessed = X_preprocessed[0:X_train.shape[0]]\n",
      "X_test_preprocessed = X_preprocessed[X_train.shape[0]:]\n",
      "print X_train_preprocessed.shape, X_test_preprocessed.shape"
     ],
     "language": "python",
     "metadata": {},
     "outputs": [
      {
       "output_type": "stream",
       "stream": "stdout",
       "text": [
        "(1803, 222)\n",
        "(900, 222) (903, 222)\n"
       ]
      }
     ],
     "prompt_number": 43
    },
    {
     "cell_type": "code",
     "collapsed": false,
     "input": [
      "from sklearn.grid_search import GridSearchCV\n",
      "from sklearn.neighbors import KNeighborsClassifier as KNN\n",
      "from sklearn.metrics import roc_auc_score\n",
      "\n",
      "import time\n",
      "\n",
      "params = {'n_neighbors': np.arange(1, 200, 5), 'p': [1, 2]}\n",
      "grid_searcher = GridSearchCV(KNN(),\\\n",
      "                             params, cv=5, scoring='roc_auc', n_jobs=1)\n",
      "start = time.time()\n",
      "grid_searcher.fit(X_train_preprocessed, y_train)\n",
      "print \"Fit is completed. Time: %f\" % (time.time() - start)\n",
      "\n",
      "print grid_searcher.best_score_\n",
      "print grid_searcher.best_estimator_"
     ],
     "language": "python",
     "metadata": {},
     "outputs": [
      {
       "output_type": "stream",
       "stream": "stdout",
       "text": [
        "Fit is completed. Time: 24.790203\n",
        "0.955666762867\n",
        "KNeighborsClassifier(algorithm=auto, leaf_size=30, metric=minkowski,\n",
        "           n_neighbors=86, p=1, weights=uniform)\n"
       ]
      }
     ],
     "prompt_number": 44
    },
    {
     "cell_type": "heading",
     "level": 2,
     "metadata": {},
     "source": [
      "\u0422\u043e\u043b\u044c\u043a\u043e \u0442\u0440\u0438\u0433\u0440\u0430\u043c\u043c\u044b"
     ]
    },
    {
     "cell_type": "code",
     "collapsed": false,
     "input": [
      "from collections import defaultdict\n",
      "from itertools import product\n",
      "\n",
      "def vectorize(discrete):\n",
      "    vectorized = list()\n",
      "    for element in discrete:\n",
      "        current = defaultdict(int)\n",
      "        for j in range(597):\n",
      "            current[tuple(element[j:j+3])] += 1   \n",
      "        vect = list()\n",
      "        for a, b, c in product('abcdef', 'abcdef', 'abcdef'):\n",
      "            vect.append(current[(a, b, c)])\n",
      "        vectorized.append(vect)\n",
      "    return np.array(vectorized).astype(float)"
     ],
     "language": "python",
     "metadata": {},
     "outputs": [],
     "prompt_number": 48
    },
    {
     "cell_type": "code",
     "collapsed": false,
     "input": [
      "X_train = vectorize(X_train_discrete)\n",
      "X_test = vectorize(X_test_discrete)\n",
      "print X_train.shape, X_test.shape"
     ],
     "language": "python",
     "metadata": {},
     "outputs": [
      {
       "output_type": "stream",
       "stream": "stdout",
       "text": [
        "(900, 216) (903, 216)\n"
       ]
      }
     ],
     "prompt_number": 49
    },
    {
     "cell_type": "code",
     "collapsed": false,
     "input": [
      "X = np.zeros((X_train.shape[0] + X_test.shape[0], X_train.shape[1]), dtype='float')\n",
      "X[0:X_train.shape[0]] = X_train\n",
      "X[X_train.shape[0]:] = X_test\n",
      "print X_train.shape, X_test.shape, X.shape"
     ],
     "language": "python",
     "metadata": {},
     "outputs": [
      {
       "output_type": "stream",
       "stream": "stdout",
       "text": [
        "(900, 216) (903, 216) (1803, 216)\n"
       ]
      }
     ],
     "prompt_number": 50
    },
    {
     "cell_type": "code",
     "collapsed": false,
     "input": [
      "from sklearn import preprocessing\n",
      "X_preprocessed = preprocessing.scale(X)\n",
      "print X_preprocessed.shape\n",
      "X_train_preprocessed = X_preprocessed[0:X_train.shape[0]]\n",
      "X_test_preprocessed = X_preprocessed[X_train.shape[0]:]\n",
      "print X_train_preprocessed.shape, X_test_preprocessed.shape"
     ],
     "language": "python",
     "metadata": {},
     "outputs": [
      {
       "output_type": "stream",
       "stream": "stdout",
       "text": [
        "(1803, 216)\n",
        "(900, 216) (903, 216)\n"
       ]
      }
     ],
     "prompt_number": 51
    },
    {
     "cell_type": "code",
     "collapsed": false,
     "input": [
      "from sklearn.grid_search import GridSearchCV\n",
      "from sklearn.neighbors import KNeighborsClassifier as KNN\n",
      "from sklearn.metrics import roc_auc_score\n",
      "\n",
      "import time\n",
      "\n",
      "params = {'n_neighbors': np.arange(1, 200, 5), 'p': [1, 2]}\n",
      "grid_searcher = GridSearchCV(KNN(),\\\n",
      "                             params, cv=5, scoring='roc_auc', n_jobs=1)\n",
      "start = time.time()\n",
      "grid_searcher.fit(X_train_preprocessed, y_train)\n",
      "print \"Fit is completed. Time: %f\" % (time.time() - start)\n",
      "\n",
      "print grid_searcher.best_score_\n",
      "print grid_searcher.best_estimator_"
     ],
     "language": "python",
     "metadata": {},
     "outputs": [
      {
       "output_type": "stream",
       "stream": "stdout",
       "text": [
        "Fit is completed. Time: 23.905450\n",
        "0.955666762867\n",
        "KNeighborsClassifier(algorithm=auto, leaf_size=30, metric=minkowski,\n",
        "           n_neighbors=86, p=1, weights=uniform)\n"
       ]
      }
     ],
     "prompt_number": 52
    },
    {
     "cell_type": "heading",
     "level": 2,
     "metadata": {},
     "source": [
      "\u0422\u043e\u043b\u044c\u043a\u043e 4\u0433\u0440\u0430\u043c\u043c\u044b"
     ]
    },
    {
     "cell_type": "code",
     "collapsed": false,
     "input": [
      "from collections import defaultdict\n",
      "from itertools import product\n",
      "\n",
      "def vectorize(discrete):\n",
      "    vectorized = list()\n",
      "    for element in discrete:\n",
      "        current = defaultdict(int)\n",
      "        for j in range(596):\n",
      "            current[tuple(element[j:j+4])] += 1   \n",
      "        vect = list()\n",
      "        for a, b, c, e in product('abcdef', 'abcdef', 'abcdef', 'abcdef'):\n",
      "            vect.append(current[(a, b, c, e)])\n",
      "        vectorized.append(vect)\n",
      "    return np.array(vectorized).astype(float)"
     ],
     "language": "python",
     "metadata": {},
     "outputs": [],
     "prompt_number": 54
    },
    {
     "cell_type": "code",
     "collapsed": false,
     "input": [
      "X_train = vectorize(X_train_discrete)\n",
      "X_test = vectorize(X_test_discrete)\n",
      "print X_train.shape, X_test.shape"
     ],
     "language": "python",
     "metadata": {},
     "outputs": [
      {
       "output_type": "stream",
       "stream": "stdout",
       "text": [
        "(900, 1296) (903, 1296)\n"
       ]
      }
     ],
     "prompt_number": 55
    },
    {
     "cell_type": "code",
     "collapsed": false,
     "input": [
      "X = np.zeros((X_train.shape[0] + X_test.shape[0], X_train.shape[1]), dtype='float')\n",
      "X[0:X_train.shape[0]] = X_train\n",
      "X[X_train.shape[0]:] = X_test\n",
      "print X_train.shape, X_test.shape, X.shape"
     ],
     "language": "python",
     "metadata": {},
     "outputs": [
      {
       "output_type": "stream",
       "stream": "stdout",
       "text": [
        "(900, 1296) (903, 1296) (1803, 1296)\n"
       ]
      }
     ],
     "prompt_number": 56
    },
    {
     "cell_type": "code",
     "collapsed": false,
     "input": [
      "from sklearn import preprocessing\n",
      "X_preprocessed = preprocessing.scale(X)\n",
      "print X_preprocessed.shape\n",
      "X_train_preprocessed = X_preprocessed[0:X_train.shape[0]]\n",
      "X_test_preprocessed = X_preprocessed[X_train.shape[0]:]\n",
      "print X_train_preprocessed.shape, X_test_preprocessed.shape"
     ],
     "language": "python",
     "metadata": {},
     "outputs": [
      {
       "output_type": "stream",
       "stream": "stdout",
       "text": [
        "(1803, 1296)\n",
        "(900, 1296) (903, 1296)\n"
       ]
      }
     ],
     "prompt_number": 57
    },
    {
     "cell_type": "code",
     "collapsed": false,
     "input": [
      "from sklearn.grid_search import GridSearchCV\n",
      "from sklearn.neighbors import KNeighborsClassifier as KNN\n",
      "from sklearn.metrics import roc_auc_score\n",
      "\n",
      "import time\n",
      "\n",
      "params = {'n_neighbors': np.arange(1, 200, 5), 'p': [1, 2]}\n",
      "grid_searcher = GridSearchCV(KNN(),\\\n",
      "                             params, cv=5, scoring='roc_auc', n_jobs=1)\n",
      "start = time.time()\n",
      "grid_searcher.fit(X_train_preprocessed, y_train)\n",
      "print \"Fit is completed. Time: %f\" % (time.time() - start)\n",
      "\n",
      "print grid_searcher.best_score_\n",
      "print grid_searcher.best_estimator_"
     ],
     "language": "python",
     "metadata": {},
     "outputs": [
      {
       "output_type": "stream",
       "stream": "stdout",
       "text": [
        "Fit is completed. Time: 125.092785\n",
        "0.953525797659\n",
        "KNeighborsClassifier(algorithm=auto, leaf_size=30, metric=minkowski,\n",
        "           n_neighbors=56, p=1, weights=uniform)\n"
       ]
      }
     ],
     "prompt_number": 58
    },
    {
     "cell_type": "heading",
     "level": 2,
     "metadata": {},
     "source": [
      "\u0422\u043e\u043b\u044c\u043a\u043e \u0431\u0438\u0433\u0440\u0430\u043c\u043c\u044b"
     ]
    },
    {
     "cell_type": "code",
     "collapsed": false,
     "input": [
      "from collections import defaultdict\n",
      "from itertools import product\n",
      "\n",
      "def vectorize(discrete):\n",
      "    vectorized = list()\n",
      "    for element in discrete:\n",
      "        current = defaultdict(int)\n",
      "        for j in range(598):\n",
      "            current[tuple(element[j:j+2])] += 1   \n",
      "        vect = list()\n",
      "        for a, b in product('abcdef', 'abcdef'):\n",
      "            vect.append(current[(a, b)])\n",
      "        vectorized.append(vect)\n",
      "    return np.array(vectorized).astype(float)"
     ],
     "language": "python",
     "metadata": {},
     "outputs": [],
     "prompt_number": 59
    },
    {
     "cell_type": "code",
     "collapsed": false,
     "input": [
      "X_train = vectorize(X_train_discrete)\n",
      "X_test = vectorize(X_test_discrete)\n",
      "print X_train.shape, X_test.shape"
     ],
     "language": "python",
     "metadata": {},
     "outputs": [
      {
       "output_type": "stream",
       "stream": "stdout",
       "text": [
        "(900, 36) (903, 36)\n"
       ]
      }
     ],
     "prompt_number": 60
    },
    {
     "cell_type": "code",
     "collapsed": false,
     "input": [
      "X = np.zeros((X_train.shape[0] + X_test.shape[0], X_train.shape[1]), dtype='float')\n",
      "X[0:X_train.shape[0]] = X_train\n",
      "X[X_train.shape[0]:] = X_test\n",
      "print X_train.shape, X_test.shape, X.shape"
     ],
     "language": "python",
     "metadata": {},
     "outputs": [
      {
       "output_type": "stream",
       "stream": "stdout",
       "text": [
        "(900, 36) (903, 36) (1803, 36)\n"
       ]
      }
     ],
     "prompt_number": 61
    },
    {
     "cell_type": "code",
     "collapsed": false,
     "input": [
      "from sklearn import preprocessing\n",
      "X_preprocessed = preprocessing.scale(X)\n",
      "print X_preprocessed.shape\n",
      "X_train_preprocessed = X_preprocessed[0:X_train.shape[0]]\n",
      "X_test_preprocessed = X_preprocessed[X_train.shape[0]:]\n",
      "print X_train_preprocessed.shape, X_test_preprocessed.shape"
     ],
     "language": "python",
     "metadata": {},
     "outputs": [
      {
       "output_type": "stream",
       "stream": "stdout",
       "text": [
        "(1803, 36)\n",
        "(900, 36) (903, 36)\n"
       ]
      }
     ],
     "prompt_number": 62
    },
    {
     "cell_type": "code",
     "collapsed": false,
     "input": [
      "from sklearn.grid_search import GridSearchCV\n",
      "from sklearn.neighbors import KNeighborsClassifier as KNN\n",
      "from sklearn.metrics import roc_auc_score\n",
      "\n",
      "import time\n",
      "\n",
      "params = {'n_neighbors': np.arange(1, 200, 5), 'p': [1, 2]}\n",
      "grid_searcher = GridSearchCV(KNN(),\\\n",
      "                             params, cv=5, scoring='roc_auc', n_jobs=1)\n",
      "start = time.time()\n",
      "grid_searcher.fit(X_train_preprocessed, y_train)\n",
      "print \"Fit is completed. Time: %f\" % (time.time() - start)\n",
      "\n",
      "print grid_searcher.best_score_\n",
      "print grid_searcher.best_estimator_"
     ],
     "language": "python",
     "metadata": {},
     "outputs": [
      {
       "output_type": "stream",
       "stream": "stdout",
       "text": [
        "Fit is completed. Time: 7.378436\n",
        "0.95367034151\n",
        "KNeighborsClassifier(algorithm=auto, leaf_size=30, metric=minkowski,\n",
        "           n_neighbors=36, p=1, weights=uniform)\n"
       ]
      }
     ],
     "prompt_number": 63
    },
    {
     "cell_type": "code",
     "collapsed": false,
     "input": [],
     "language": "python",
     "metadata": {},
     "outputs": []
    }
   ],
   "metadata": {}
  }
 ]
}