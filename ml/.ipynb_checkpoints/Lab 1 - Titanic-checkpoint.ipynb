{
 "metadata": {
  "name": "",
  "signature": "sha256:8ea8d0b4721e3fc693eae6ab9a8f5f7b19c3b8348a7cf21909a3519ed8791122"
 },
 "nbformat": 3,
 "nbformat_minor": 0,
 "worksheets": [
  {
   "cells": [
    {
     "cell_type": "code",
     "collapsed": false,
     "input": [
      "%pylab inline\n",
      "import pandas as pd\n",
      "import matplotlib.pyplot as plt\n",
      "import numpy as np\n",
      "from collections import defaultdict\n",
      "import math"
     ],
     "language": "python",
     "metadata": {},
     "outputs": [
      {
       "output_type": "stream",
       "stream": "stdout",
       "text": [
        "Populating the interactive namespace from numpy and matplotlib\n"
       ]
      }
     ],
     "prompt_number": 233
    },
    {
     "cell_type": "code",
     "collapsed": false,
     "input": [
      "titanic=pd.read_csv('train.csv')\n",
      "titanic.head(10)"
     ],
     "language": "python",
     "metadata": {},
     "outputs": [
      {
       "html": [
        "<div style=\"max-height:1000px;max-width:1500px;overflow:auto;\">\n",
        "<table border=\"1\" class=\"dataframe\">\n",
        "  <thead>\n",
        "    <tr style=\"text-align: right;\">\n",
        "      <th></th>\n",
        "      <th>PassengerId</th>\n",
        "      <th>Survived</th>\n",
        "      <th>Pclass</th>\n",
        "      <th>Name</th>\n",
        "      <th>Sex</th>\n",
        "      <th>Age</th>\n",
        "      <th>SibSp</th>\n",
        "      <th>Parch</th>\n",
        "      <th>Ticket</th>\n",
        "      <th>Fare</th>\n",
        "      <th>Cabin</th>\n",
        "      <th>Embarked</th>\n",
        "    </tr>\n",
        "  </thead>\n",
        "  <tbody>\n",
        "    <tr>\n",
        "      <th>0</th>\n",
        "      <td>  1</td>\n",
        "      <td> 0</td>\n",
        "      <td> 3</td>\n",
        "      <td>                           Braund, Mr. Owen Harris</td>\n",
        "      <td>   male</td>\n",
        "      <td> 22</td>\n",
        "      <td> 1</td>\n",
        "      <td> 0</td>\n",
        "      <td>        A/5 21171</td>\n",
        "      <td>  7.2500</td>\n",
        "      <td>  NaN</td>\n",
        "      <td> S</td>\n",
        "    </tr>\n",
        "    <tr>\n",
        "      <th>1</th>\n",
        "      <td>  2</td>\n",
        "      <td> 1</td>\n",
        "      <td> 1</td>\n",
        "      <td> Cumings, Mrs. John Bradley (Florence Briggs Th...</td>\n",
        "      <td> female</td>\n",
        "      <td> 38</td>\n",
        "      <td> 1</td>\n",
        "      <td> 0</td>\n",
        "      <td>         PC 17599</td>\n",
        "      <td> 71.2833</td>\n",
        "      <td>  C85</td>\n",
        "      <td> C</td>\n",
        "    </tr>\n",
        "    <tr>\n",
        "      <th>2</th>\n",
        "      <td>  3</td>\n",
        "      <td> 1</td>\n",
        "      <td> 3</td>\n",
        "      <td>                            Heikkinen, Miss. Laina</td>\n",
        "      <td> female</td>\n",
        "      <td> 26</td>\n",
        "      <td> 0</td>\n",
        "      <td> 0</td>\n",
        "      <td> STON/O2. 3101282</td>\n",
        "      <td>  7.9250</td>\n",
        "      <td>  NaN</td>\n",
        "      <td> S</td>\n",
        "    </tr>\n",
        "    <tr>\n",
        "      <th>3</th>\n",
        "      <td>  4</td>\n",
        "      <td> 1</td>\n",
        "      <td> 1</td>\n",
        "      <td>      Futrelle, Mrs. Jacques Heath (Lily May Peel)</td>\n",
        "      <td> female</td>\n",
        "      <td> 35</td>\n",
        "      <td> 1</td>\n",
        "      <td> 0</td>\n",
        "      <td>           113803</td>\n",
        "      <td> 53.1000</td>\n",
        "      <td> C123</td>\n",
        "      <td> S</td>\n",
        "    </tr>\n",
        "    <tr>\n",
        "      <th>4</th>\n",
        "      <td>  5</td>\n",
        "      <td> 0</td>\n",
        "      <td> 3</td>\n",
        "      <td>                          Allen, Mr. William Henry</td>\n",
        "      <td>   male</td>\n",
        "      <td> 35</td>\n",
        "      <td> 0</td>\n",
        "      <td> 0</td>\n",
        "      <td>           373450</td>\n",
        "      <td>  8.0500</td>\n",
        "      <td>  NaN</td>\n",
        "      <td> S</td>\n",
        "    </tr>\n",
        "    <tr>\n",
        "      <th>5</th>\n",
        "      <td>  6</td>\n",
        "      <td> 0</td>\n",
        "      <td> 3</td>\n",
        "      <td>                                  Moran, Mr. James</td>\n",
        "      <td>   male</td>\n",
        "      <td>NaN</td>\n",
        "      <td> 0</td>\n",
        "      <td> 0</td>\n",
        "      <td>           330877</td>\n",
        "      <td>  8.4583</td>\n",
        "      <td>  NaN</td>\n",
        "      <td> Q</td>\n",
        "    </tr>\n",
        "    <tr>\n",
        "      <th>6</th>\n",
        "      <td>  7</td>\n",
        "      <td> 0</td>\n",
        "      <td> 1</td>\n",
        "      <td>                           McCarthy, Mr. Timothy J</td>\n",
        "      <td>   male</td>\n",
        "      <td> 54</td>\n",
        "      <td> 0</td>\n",
        "      <td> 0</td>\n",
        "      <td>            17463</td>\n",
        "      <td> 51.8625</td>\n",
        "      <td>  E46</td>\n",
        "      <td> S</td>\n",
        "    </tr>\n",
        "    <tr>\n",
        "      <th>7</th>\n",
        "      <td>  8</td>\n",
        "      <td> 0</td>\n",
        "      <td> 3</td>\n",
        "      <td>                    Palsson, Master. Gosta Leonard</td>\n",
        "      <td>   male</td>\n",
        "      <td>  2</td>\n",
        "      <td> 3</td>\n",
        "      <td> 1</td>\n",
        "      <td>           349909</td>\n",
        "      <td> 21.0750</td>\n",
        "      <td>  NaN</td>\n",
        "      <td> S</td>\n",
        "    </tr>\n",
        "    <tr>\n",
        "      <th>8</th>\n",
        "      <td>  9</td>\n",
        "      <td> 1</td>\n",
        "      <td> 3</td>\n",
        "      <td> Johnson, Mrs. Oscar W (Elisabeth Vilhelmina Berg)</td>\n",
        "      <td> female</td>\n",
        "      <td> 27</td>\n",
        "      <td> 0</td>\n",
        "      <td> 2</td>\n",
        "      <td>           347742</td>\n",
        "      <td> 11.1333</td>\n",
        "      <td>  NaN</td>\n",
        "      <td> S</td>\n",
        "    </tr>\n",
        "    <tr>\n",
        "      <th>9</th>\n",
        "      <td> 10</td>\n",
        "      <td> 1</td>\n",
        "      <td> 2</td>\n",
        "      <td>               Nasser, Mrs. Nicholas (Adele Achem)</td>\n",
        "      <td> female</td>\n",
        "      <td> 14</td>\n",
        "      <td> 1</td>\n",
        "      <td> 0</td>\n",
        "      <td>           237736</td>\n",
        "      <td> 30.0708</td>\n",
        "      <td>  NaN</td>\n",
        "      <td> C</td>\n",
        "    </tr>\n",
        "  </tbody>\n",
        "</table>\n",
        "<p>10 rows \u00d7 12 columns</p>\n",
        "</div>"
       ],
       "metadata": {},
       "output_type": "pyout",
       "prompt_number": 234,
       "text": [
        "   PassengerId  Survived  Pclass  \\\n",
        "0            1         0       3   \n",
        "1            2         1       1   \n",
        "2            3         1       3   \n",
        "3            4         1       1   \n",
        "4            5         0       3   \n",
        "5            6         0       3   \n",
        "6            7         0       1   \n",
        "7            8         0       3   \n",
        "8            9         1       3   \n",
        "9           10         1       2   \n",
        "\n",
        "                                                Name     Sex  Age  SibSp  \\\n",
        "0                            Braund, Mr. Owen Harris    male   22      1   \n",
        "1  Cumings, Mrs. John Bradley (Florence Briggs Th...  female   38      1   \n",
        "2                             Heikkinen, Miss. Laina  female   26      0   \n",
        "3       Futrelle, Mrs. Jacques Heath (Lily May Peel)  female   35      1   \n",
        "4                           Allen, Mr. William Henry    male   35      0   \n",
        "5                                   Moran, Mr. James    male  NaN      0   \n",
        "6                            McCarthy, Mr. Timothy J    male   54      0   \n",
        "7                     Palsson, Master. Gosta Leonard    male    2      3   \n",
        "8  Johnson, Mrs. Oscar W (Elisabeth Vilhelmina Berg)  female   27      0   \n",
        "9                Nasser, Mrs. Nicholas (Adele Achem)  female   14      1   \n",
        "\n",
        "   Parch            Ticket     Fare Cabin Embarked  \n",
        "0      0         A/5 21171   7.2500   NaN        S  \n",
        "1      0          PC 17599  71.2833   C85        C  \n",
        "2      0  STON/O2. 3101282   7.9250   NaN        S  \n",
        "3      0            113803  53.1000  C123        S  \n",
        "4      0            373450   8.0500   NaN        S  \n",
        "5      0            330877   8.4583   NaN        Q  \n",
        "6      0             17463  51.8625   E46        S  \n",
        "7      1            349909  21.0750   NaN        S  \n",
        "8      2            347742  11.1333   NaN        S  \n",
        "9      0            237736  30.0708   NaN        C  \n",
        "\n",
        "[10 rows x 12 columns]"
       ]
      }
     ],
     "prompt_number": 234
    },
    {
     "cell_type": "heading",
     "level": 2,
     "metadata": {},
     "source": [
      "\u041a\u0430\u043a \u043c\u043d\u043e\u0433\u043e \u043f\u0430\u0441\u0441\u0430\u0436\u0438\u0440\u043e\u0432 \u0435\u0445\u0430\u043b\u043e \u043f\u0435\u0440\u0432\u044b\u043c \u043a\u043b\u0430\u0441\u0441\u043e\u043c?"
     ]
    },
    {
     "cell_type": "code",
     "collapsed": false,
     "input": [
      "print len(titanic[titanic.Pclass == 1])"
     ],
     "language": "python",
     "metadata": {},
     "outputs": [
      {
       "output_type": "stream",
       "stream": "stdout",
       "text": [
        "216\n"
       ]
      }
     ],
     "prompt_number": 266
    },
    {
     "cell_type": "code",
     "collapsed": false,
     "input": [
      "titanic.Pclass.value_counts().plot(kind=\"barh\", alpha=.5)\n",
      "title(\"Class Distribution\")"
     ],
     "language": "python",
     "metadata": {},
     "outputs": [
      {
       "metadata": {},
       "output_type": "pyout",
       "prompt_number": 269,
       "text": [
        "<matplotlib.text.Text at 0x11312e510>"
       ]
      },
      {
       "metadata": {},
       "output_type": "display_data",
       "png": "[encoded data removed]",
       "text": [
        "<matplotlib.figure.Figure at 0x112efc450>"
       ]
      }
     ],
     "prompt_number": 269
    },
    {
     "cell_type": "markdown",
     "metadata": {},
     "source": [
      "<p style=\"font-size: 14pt;\">\u041f\u0435\u0440\u0432\u044b\u043c \u043a\u043b\u0430\u0441\u0441\u043e\u043c \u0435\u0445\u0430\u043b\u043e <b>216</b> \u043f\u0430\u0441\u0441\u0430\u0436\u0438\u0440\u043e\u0432</p>"
     ]
    },
    {
     "cell_type": "heading",
     "level": 2,
     "metadata": {},
     "source": [
      "\u041a\u0430\u043a\u043e\u0439 \u0432\u043e\u0437\u0440\u0430\u0441\u0442 \u0438\u043c\u0435\u043b\u0438 \u043f\u0430\u0441\u0441\u0430\u0436\u0438\u0440\u044b?"
     ]
    },
    {
     "cell_type": "code",
     "collapsed": false,
     "input": [
      "plt.figure(figsize=(12,3), dpi=1600) \n",
      "ax1=plt.subplot2grid((1,2),(0,0))\n",
      "titanic.Age.dropna().plot(kind='kde')\n",
      "ax1.set_xlim(0, 90)\n",
      "plt.xlabel('Age')\n",
      "plt.title('Age Distribution')\n",
      "plt.subplot2grid((1,2),(0,1))\n",
      "titanic.Age.hist(bins=15, alpha=.7)\n",
      "plt.xlabel('Age')\n",
      "plt.ylabel('Number of passengers')\n",
      "plt.title('Age Distribution')"
     ],
     "language": "python",
     "metadata": {},
     "outputs": [
      {
       "metadata": {},
       "output_type": "pyout",
       "prompt_number": 236,
       "text": [
        "<matplotlib.text.Text at 0x1127cc350>"
       ]
      },
      {
       "metadata": {},
       "output_type": "display_data",
       "png": "[encoded data removed]",
       "text": [
        "<matplotlib.figure.Figure at 0x112793710>"
       ]
      }
     ],
     "prompt_number": 236
    },
    {
     "cell_type": "code",
     "collapsed": false,
     "input": [
      "print titanic.Age.mean()\n",
      "print 3*titanic.Age.std()"
     ],
     "language": "python",
     "metadata": {},
     "outputs": [
      {
       "output_type": "stream",
       "stream": "stdout",
       "text": [
        "29.6991176471\n",
        "43.579491997\n"
       ]
      }
     ],
     "prompt_number": 237
    },
    {
     "cell_type": "markdown",
     "metadata": {},
     "source": [
      "<p style=\"font-size: 14pt;\">\u043c\u0435\u0434\u0438\u0430\u043d\u0430: <b>29.7</b></p> \n",
      "<p style=\"font-size: 14pt;\">3\u03c3: <b>43.6</b></p>"
     ]
    },
    {
     "cell_type": "heading",
     "level": 2,
     "metadata": {},
     "source": [
      "\u041a\u043e\u0440\u0440\u0435\u043b\u0438\u0440\u0443\u044e\u0442 \u043b\u0438 \u0447\u0438\u0441\u043b\u043e \u0431\u0440\u0430\u0442\u044c\u0435\u0432/\u0441\u0435\u0441\u0442\u0435\u0440 \u0441 \u0447\u0438\u0441\u043b\u043e\u043c \u0440\u043e\u0434\u0438\u0442\u0435\u043b\u0435\u0439/\u0434\u0435\u0442\u0435\u0439?"
     ]
    },
    {
     "cell_type": "code",
     "collapsed": false,
     "input": [
      "titanic.SibSp.corr(titanic.Parch)"
     ],
     "language": "python",
     "metadata": {},
     "outputs": [
      {
       "metadata": {},
       "output_type": "pyout",
       "prompt_number": 238,
       "text": [
        "0.41483769862015607"
       ]
      }
     ],
     "prompt_number": 238
    },
    {
     "cell_type": "markdown",
     "metadata": {},
     "source": [
      "<p style=\"font-size: 14pt;\">\u041a\u043e\u0440\u0440\u0435\u043b\u044f\u0446\u0438\u044f \u043f\u0440\u0438\u0441\u0443\u0442\u0441\u0442\u0432\u0443\u0435\u0442. \u041a\u043e\u044d\u0444\u0444\u0438\u0446\u0438\u0435\u043d\u0442 \u043a\u043e\u0440\u0440\u0435\u043b\u044f\u0446\u0438\u0438 \u041f\u0438\u0440\u0441\u043e\u043d\u0430: <b>0.415</b></p>\n",
      "\u041a\u043e\u0440\u0440\u0435\u043b\u044f\u0446\u0438\u044f \u043e\u0431\u044a\u044f\u0441\u043d\u044f\u0435\u0442\u0441\u044f \u0441\u043b\u0435\u0434\u0443\u044e\u0449\u0438\u043c: \u0435\u0441\u043b\u0438 \u0442\u044b \u043f\u0443\u0442\u0435\u0448\u0435\u0441\u0442\u0432\u0443\u0435\u0448\u044c \u0441 \u0431\u0440\u0430\u0442\u044c\u044f\u043c\u0438 \u0438 \u0441\u0435\u0441\u0442\u0440\u0430\u043c\u0438, \u0442\u043e \u0442\u044b \u0441\u043a\u043e\u0440\u0435\u0435 \u0432\u0441\u0435\u0433\u043e \u0440\u0435\u0431\u0435\u043d\u043e\u043a \u0438 \u043f\u043e\u044d\u0442\u043e\u043c\u0443 \u0441 \u0442\u043e\u0431\u043e\u0439 \u0435\u0434\u0443\u0442 \u0440\u043e\u0434\u0438\u0442\u0435\u043b\u0438. \u041f\u0440\u043e\u0432\u0435\u0440\u0438\u043c \u044d\u0442\u043e"
     ]
    },
    {
     "cell_type": "code",
     "collapsed": false,
     "input": [
      "print titanic[titanic.SibSp > 1].Age.mean()\n",
      "print titanic[titanic.SibSp > 1].Parch.mean()"
     ],
     "language": "python",
     "metadata": {},
     "outputs": [
      {
       "output_type": "stream",
       "stream": "stdout",
       "text": [
        "15.175\n",
        "1.21621621622\n"
       ]
      }
     ],
     "prompt_number": 239
    },
    {
     "cell_type": "markdown",
     "metadata": {},
     "source": [
      "<p style=\"font-size: 12pt;\"><b>\u0413\u0438\u043f\u043e\u0442\u0435\u0437\u0430 \u043f\u043e\u0434\u0442\u0432\u0435\u0440\u0434\u0438\u043b\u0430\u0441\u044c</b>, \u0441\u0440\u0435\u0434\u043d\u0438\u0439 \u0432\u043e\u0437\u0440\u0430\u0441\u0442 15 \u043b\u0435\u0442 \u0438 \u0441\u0440\u0435\u0434\u043d\u0435\u0435 \u043a\u043e\u043b\u0438\u0447\u0435\u0441\u0442\u0432\u043e \u0440\u043e\u0434\u0435\u0442\u0435\u043b\u0435\u0439 \u0431\u043e\u043b\u044c\u0448\u0435 \u043e\u0434\u043d\u043e\u0433\u043e (\u0434\u043b\u044f \u0442\u0435\u0445 \u043a\u0442\u043e \u043f\u0443\u0442\u0435\u0448\u0435\u0441\u0442\u0432\u0443\u0435\u0442 \u0441 \u0431\u0440\u0430\u0442\u044c\u044f\u043c\u0438)</p> \u041f\u0440\u043e\u0432\u0435\u0440\u0438\u043c, \u0447\u0442\u043e \u0435\u0441\u043b\u0438 \u0441 \u0442\u043e\u0431\u043e\u0439 \u0435\u0441\u0442\u044c \u0434\u0435\u0442\u0438, \u0442\u043e \u0442\u044b \u0432\u0437\u0440\u043e\u0441\u043b\u044b\u0439 \u0438 \u0441 \u0442\u043e\u0431\u043e\u0439 \u043f\u0443\u0442\u0435\u0448\u0435\u0441\u0442\u0432\u0443\u0435\u0442 1 SibSp -  \u0436\u0435\u043d\u0430."
     ]
    },
    {
     "cell_type": "code",
     "collapsed": false,
     "input": [
      "print titanic[titanic.Parch > 2].Age.mean()\n",
      "print titanic[titanic.Parch > 2].SibSp.mean()"
     ],
     "language": "python",
     "metadata": {},
     "outputs": [
      {
       "output_type": "stream",
       "stream": "stdout",
       "text": [
        "38.8666666667\n",
        "0.8\n"
       ]
      }
     ],
     "prompt_number": 240
    },
    {
     "cell_type": "markdown",
     "metadata": {},
     "source": [
      "<p style=\"font-size: 12pt;\"><b>\u0413\u0438\u043f\u043e\u0442\u0435\u0437\u0430 \u043f\u043e\u0434\u0442\u0432\u0435\u0440\u0434\u0438\u043b\u0430\u0441\u044c</b></p>"
     ]
    },
    {
     "cell_type": "heading",
     "level": 2,
     "metadata": {},
     "source": [
      "\u041a\u0430\u043a\u043e\u0435 \u0441\u0430\u043c\u043e\u0435 \u043f\u043e\u043f\u0443\u043b\u044f\u0440\u043d\u043e\u0435 \u0436\u0435\u043d\u0441\u043a\u043e\u0435 \u0438\u043c\u044f \u043d\u0430 \u043a\u043e\u0440\u0430\u0431\u043b\u0435?"
     ]
    },
    {
     "cell_type": "code",
     "collapsed": false,
     "input": [
      "titanic['First Name']=titanic.apply(lambda x: x['Name'].split(',')[1].split()[1].strip('()'), axis=1)\n",
      "plt.figure(figsize=(12,3), dpi=1600) \n",
      "ax1=plt.subplot2grid((1,2),(0,0))\n",
      "titanic[titanic.Sex=='female'].groupby('First Name').size().order(ascending=False).head().plot(kind='barh')\n",
      "plt.xlabel('Number of passengers')\n",
      "plt.title('Top female names')"
     ],
     "language": "python",
     "metadata": {},
     "outputs": [
      {
       "metadata": {},
       "output_type": "pyout",
       "prompt_number": 241,
       "text": [
        "<matplotlib.text.Text at 0x112753610>"
       ]
      },
      {
       "metadata": {},
       "output_type": "display_data",
       "png": "[encoded data removed]",
       "text": [
        "<matplotlib.figure.Figure at 0x11278e1d0>"
       ]
      }
     ],
     "prompt_number": 241
    },
    {
     "cell_type": "markdown",
     "metadata": {},
     "source": [
      "<p style=\"font-size: 12pt;\">\u0421\u0440\u0435\u0434\u0438 \u0441\u0430\u043c\u044b\u0445 \u043f\u043e\u043f\u0443\u043b\u044f\u0440\u043d\u044b\u0445 \"\u0436\u0435\u043d\u0441\u043a\u0438\u0445\" \u0438\u043c\u0435\u043d \u043f\u0440\u0438\u0441\u0443\u0442\u0441\u0442\u0432\u0443\u044e\u0442 \u043c\u0443\u0436\u0441\u043a\u0438\u0435: <b>William</b> \u0438 <b>Thomas</b>. \u041f\u043e\u0441\u043c\u043e\u0442\u0440\u0438\u043c \u043d\u0430 \u0441\u0430\u043c\u044b\u0435 \u043f\u043e\u043f\u0443\u043b\u044f\u0440\u043d\u044b\u0435 \u043c\u0443\u0436\u0441\u043a\u0438\u0435 \u0438\u043c\u0435\u043d\u0430</p>"
     ]
    },
    {
     "cell_type": "code",
     "collapsed": false,
     "input": [
      "plt.figure(figsize=(12,3), dpi=1600) \n",
      "ax1=plt.subplot2grid((1,2),(0,0))\n",
      "titanic[titanic.Sex=='male'].groupby('First Name').size().order(ascending=False).head().plot(kind='barh')\n",
      "plt.xlabel('Number of passengers')\n",
      "plt.title('Top male names')"
     ],
     "language": "python",
     "metadata": {},
     "outputs": [
      {
       "metadata": {},
       "output_type": "pyout",
       "prompt_number": 242,
       "text": [
        "<matplotlib.text.Text at 0x1126846d0>"
       ]
      },
      {
       "metadata": {},
       "output_type": "display_data",
       "png": "[encoded data removed]",
       "text": [
        "<matplotlib.figure.Figure at 0x112733250>"
       ]
      }
     ],
     "prompt_number": 242
    },
    {
     "cell_type": "markdown",
     "metadata": {},
     "source": [
      "<p style=\"font-size: 12pt;\">\u0421\u0440\u0435\u0434\u0438 \u0441\u0430\u043c\u044b\u0445 \u043f\u043e\u043f\u0443\u043b\u044f\u0440\u043d\u044b\u0445 \u043c\u0443\u0436\u0441\u043a\u0438\u0445 \u0438\u043c\u0435\u043d \u0442\u043e\u0436\u0435 \u043f\u0440\u0438\u0441\u0443\u0442\u0441\u0442\u0432\u0443\u044e\u0442: <b>William</b> \u0438 <b>Thomas</b>. \u041f\u043e\u0441\u043c\u043e\u0442\u0440\u0438\u043c \u043d\u0430 \u0441\u0430\u043c\u044b\u0435 \u043f\u043e\u043f\u0443\u043b\u044f\u0440\u043d\u044b\u0435 \u043c\u0443\u0436\u0441\u043a\u0438\u0435 \u0438\u043c\u0435\u043d\u0430</p> \u041c\u043e\u0436\u0435\u0442 \u044d\u0442\u0438 \u0438\u043c\u0435\u043d\u0430 \u0448\u0443\u043c? \u041c\u043e\u0436\u0435\u0442 \u044d\u0442\u043e \u0438\u043c\u0435\u043d\u0430 \u0438\u0445 \u043c\u0443\u0436\u0435\u0439? \u041f\u0440\u043e\u0432\u0435\u0440\u0438\u043c \u044d\u0442\u043e, \u043c\u0443\u0436 \u0441 \u0436\u0435\u043d\u043e\u0439 \u0441\u043a\u043e\u0440\u0435\u0435 \u0432\u0441\u0435\u0433\u043e \u0432 \u043e\u0434\u043d\u043e\u0439 \u043a\u0430\u044e\u0442\u0435"
     ]
    },
    {
     "cell_type": "code",
     "collapsed": false,
     "input": [
      "titanic[(titanic['First Name'] == 'William') & (titanic.Sex == 'female')]"
     ],
     "language": "python",
     "metadata": {},
     "outputs": [
      {
       "html": [
        "<div style=\"max-height:1000px;max-width:1500px;overflow:auto;\">\n",
        "<table border=\"1\" class=\"dataframe\">\n",
        "  <thead>\n",
        "    <tr style=\"text-align: right;\">\n",
        "      <th></th>\n",
        "      <th>PassengerId</th>\n",
        "      <th>Survived</th>\n",
        "      <th>Pclass</th>\n",
        "      <th>Name</th>\n",
        "      <th>Sex</th>\n",
        "      <th>Age</th>\n",
        "      <th>SibSp</th>\n",
        "      <th>Parch</th>\n",
        "      <th>Ticket</th>\n",
        "      <th>Fare</th>\n",
        "      <th>Cabin</th>\n",
        "      <th>Embarked</th>\n",
        "      <th>First Name</th>\n",
        "    </tr>\n",
        "  </thead>\n",
        "  <tbody>\n",
        "    <tr>\n",
        "      <th>31 </th>\n",
        "      <td>  32</td>\n",
        "      <td> 1</td>\n",
        "      <td> 1</td>\n",
        "      <td>    Spencer, Mrs. William Augustus (Marie Eugenie)</td>\n",
        "      <td> female</td>\n",
        "      <td>NaN</td>\n",
        "      <td> 1</td>\n",
        "      <td> 0</td>\n",
        "      <td>  PC 17569</td>\n",
        "      <td> 146.5208</td>\n",
        "      <td>     B78</td>\n",
        "      <td> C</td>\n",
        "      <td> William</td>\n",
        "    </tr>\n",
        "    <tr>\n",
        "      <th>41 </th>\n",
        "      <td>  42</td>\n",
        "      <td> 0</td>\n",
        "      <td> 2</td>\n",
        "      <td> Turpin, Mrs. William John Robert (Dorothy Ann ...</td>\n",
        "      <td> female</td>\n",
        "      <td> 27</td>\n",
        "      <td> 1</td>\n",
        "      <td> 0</td>\n",
        "      <td>     11668</td>\n",
        "      <td>  21.0000</td>\n",
        "      <td>     NaN</td>\n",
        "      <td> S</td>\n",
        "      <td> William</td>\n",
        "    </tr>\n",
        "    <tr>\n",
        "      <th>167</th>\n",
        "      <td> 168</td>\n",
        "      <td> 0</td>\n",
        "      <td> 3</td>\n",
        "      <td>   Skoog, Mrs. William (Anna Bernhardina Karlsson)</td>\n",
        "      <td> female</td>\n",
        "      <td> 45</td>\n",
        "      <td> 1</td>\n",
        "      <td> 4</td>\n",
        "      <td>    347088</td>\n",
        "      <td>  27.9000</td>\n",
        "      <td>     NaN</td>\n",
        "      <td> S</td>\n",
        "      <td> William</td>\n",
        "    </tr>\n",
        "    <tr>\n",
        "      <th>247</th>\n",
        "      <td> 248</td>\n",
        "      <td> 1</td>\n",
        "      <td> 2</td>\n",
        "      <td>                   Hamalainen, Mrs. William (Anna)</td>\n",
        "      <td> female</td>\n",
        "      <td> 24</td>\n",
        "      <td> 0</td>\n",
        "      <td> 2</td>\n",
        "      <td>    250649</td>\n",
        "      <td>  14.5000</td>\n",
        "      <td>     NaN</td>\n",
        "      <td> S</td>\n",
        "      <td> William</td>\n",
        "    </tr>\n",
        "    <tr>\n",
        "      <th>268</th>\n",
        "      <td> 269</td>\n",
        "      <td> 1</td>\n",
        "      <td> 1</td>\n",
        "      <td>     Graham, Mrs. William Thompson (Edith Junkins)</td>\n",
        "      <td> female</td>\n",
        "      <td> 58</td>\n",
        "      <td> 0</td>\n",
        "      <td> 1</td>\n",
        "      <td>  PC 17582</td>\n",
        "      <td> 153.4625</td>\n",
        "      <td>    C125</td>\n",
        "      <td> S</td>\n",
        "      <td> William</td>\n",
        "    </tr>\n",
        "    <tr>\n",
        "      <th>312</th>\n",
        "      <td> 313</td>\n",
        "      <td> 0</td>\n",
        "      <td> 2</td>\n",
        "      <td>             Lahtinen, Mrs. William (Anna Sylfven)</td>\n",
        "      <td> female</td>\n",
        "      <td> 26</td>\n",
        "      <td> 1</td>\n",
        "      <td> 1</td>\n",
        "      <td>    250651</td>\n",
        "      <td>  26.0000</td>\n",
        "      <td>     NaN</td>\n",
        "      <td> S</td>\n",
        "      <td> William</td>\n",
        "    </tr>\n",
        "    <tr>\n",
        "      <th>399</th>\n",
        "      <td> 400</td>\n",
        "      <td> 1</td>\n",
        "      <td> 2</td>\n",
        "      <td>                  Trout, Mrs. William H (Jessie L)</td>\n",
        "      <td> female</td>\n",
        "      <td> 28</td>\n",
        "      <td> 0</td>\n",
        "      <td> 0</td>\n",
        "      <td>    240929</td>\n",
        "      <td>  12.6500</td>\n",
        "      <td>     NaN</td>\n",
        "      <td> S</td>\n",
        "      <td> William</td>\n",
        "    </tr>\n",
        "    <tr>\n",
        "      <th>518</th>\n",
        "      <td> 519</td>\n",
        "      <td> 1</td>\n",
        "      <td> 2</td>\n",
        "      <td> Angle, Mrs. William A (Florence \"Mary\" Agnes H...</td>\n",
        "      <td> female</td>\n",
        "      <td> 36</td>\n",
        "      <td> 1</td>\n",
        "      <td> 0</td>\n",
        "      <td>    226875</td>\n",
        "      <td>  26.0000</td>\n",
        "      <td>     NaN</td>\n",
        "      <td> S</td>\n",
        "      <td> William</td>\n",
        "    </tr>\n",
        "    <tr>\n",
        "      <th>577</th>\n",
        "      <td> 578</td>\n",
        "      <td> 1</td>\n",
        "      <td> 1</td>\n",
        "      <td>         Silvey, Mrs. William Baird (Alice Munger)</td>\n",
        "      <td> female</td>\n",
        "      <td> 39</td>\n",
        "      <td> 1</td>\n",
        "      <td> 0</td>\n",
        "      <td>     13507</td>\n",
        "      <td>  55.9000</td>\n",
        "      <td>     E44</td>\n",
        "      <td> S</td>\n",
        "      <td> William</td>\n",
        "    </tr>\n",
        "    <tr>\n",
        "      <th>617</th>\n",
        "      <td> 618</td>\n",
        "      <td> 0</td>\n",
        "      <td> 3</td>\n",
        "      <td>   Lobb, Mrs. William Arthur (Cordelia K Stanlick)</td>\n",
        "      <td> female</td>\n",
        "      <td> 26</td>\n",
        "      <td> 1</td>\n",
        "      <td> 0</td>\n",
        "      <td> A/5. 3336</td>\n",
        "      <td>  16.1000</td>\n",
        "      <td>     NaN</td>\n",
        "      <td> S</td>\n",
        "      <td> William</td>\n",
        "    </tr>\n",
        "    <tr>\n",
        "      <th>763</th>\n",
        "      <td> 764</td>\n",
        "      <td> 1</td>\n",
        "      <td> 1</td>\n",
        "      <td>         Carter, Mrs. William Ernest (Lucile Polk)</td>\n",
        "      <td> female</td>\n",
        "      <td> 36</td>\n",
        "      <td> 1</td>\n",
        "      <td> 2</td>\n",
        "      <td>    113760</td>\n",
        "      <td> 120.0000</td>\n",
        "      <td> B96 B98</td>\n",
        "      <td> S</td>\n",
        "      <td> William</td>\n",
        "    </tr>\n",
        "    <tr>\n",
        "      <th>880</th>\n",
        "      <td> 881</td>\n",
        "      <td> 1</td>\n",
        "      <td> 2</td>\n",
        "      <td>      Shelley, Mrs. William (Imanita Parrish Hall)</td>\n",
        "      <td> female</td>\n",
        "      <td> 25</td>\n",
        "      <td> 0</td>\n",
        "      <td> 1</td>\n",
        "      <td>    230433</td>\n",
        "      <td>  26.0000</td>\n",
        "      <td>     NaN</td>\n",
        "      <td> S</td>\n",
        "      <td> William</td>\n",
        "    </tr>\n",
        "    <tr>\n",
        "      <th>885</th>\n",
        "      <td> 886</td>\n",
        "      <td> 0</td>\n",
        "      <td> 3</td>\n",
        "      <td>              Rice, Mrs. William (Margaret Norton)</td>\n",
        "      <td> female</td>\n",
        "      <td> 39</td>\n",
        "      <td> 0</td>\n",
        "      <td> 5</td>\n",
        "      <td>    382652</td>\n",
        "      <td>  29.1250</td>\n",
        "      <td>     NaN</td>\n",
        "      <td> Q</td>\n",
        "      <td> William</td>\n",
        "    </tr>\n",
        "  </tbody>\n",
        "</table>\n",
        "<p>13 rows \u00d7 13 columns</p>\n",
        "</div>"
       ],
       "metadata": {},
       "output_type": "pyout",
       "prompt_number": 243,
       "text": [
        "     PassengerId  Survived  Pclass  \\\n",
        "31            32         1       1   \n",
        "41            42         0       2   \n",
        "167          168         0       3   \n",
        "247          248         1       2   \n",
        "268          269         1       1   \n",
        "312          313         0       2   \n",
        "399          400         1       2   \n",
        "518          519         1       2   \n",
        "577          578         1       1   \n",
        "617          618         0       3   \n",
        "763          764         1       1   \n",
        "880          881         1       2   \n",
        "885          886         0       3   \n",
        "\n",
        "                                                  Name     Sex  Age  SibSp  \\\n",
        "31      Spencer, Mrs. William Augustus (Marie Eugenie)  female  NaN      1   \n",
        "41   Turpin, Mrs. William John Robert (Dorothy Ann ...  female   27      1   \n",
        "167    Skoog, Mrs. William (Anna Bernhardina Karlsson)  female   45      1   \n",
        "247                    Hamalainen, Mrs. William (Anna)  female   24      0   \n",
        "268      Graham, Mrs. William Thompson (Edith Junkins)  female   58      0   \n",
        "312              Lahtinen, Mrs. William (Anna Sylfven)  female   26      1   \n",
        "399                   Trout, Mrs. William H (Jessie L)  female   28      0   \n",
        "518  Angle, Mrs. William A (Florence \"Mary\" Agnes H...  female   36      1   \n",
        "577          Silvey, Mrs. William Baird (Alice Munger)  female   39      1   \n",
        "617    Lobb, Mrs. William Arthur (Cordelia K Stanlick)  female   26      1   \n",
        "763          Carter, Mrs. William Ernest (Lucile Polk)  female   36      1   \n",
        "880       Shelley, Mrs. William (Imanita Parrish Hall)  female   25      0   \n",
        "885               Rice, Mrs. William (Margaret Norton)  female   39      0   \n",
        "\n",
        "     Parch     Ticket      Fare    Cabin Embarked First Name  \n",
        "31       0   PC 17569  146.5208      B78        C    William  \n",
        "41       0      11668   21.0000      NaN        S    William  \n",
        "167      4     347088   27.9000      NaN        S    William  \n",
        "247      2     250649   14.5000      NaN        S    William  \n",
        "268      1   PC 17582  153.4625     C125        S    William  \n",
        "312      1     250651   26.0000      NaN        S    William  \n",
        "399      0     240929   12.6500      NaN        S    William  \n",
        "518      0     226875   26.0000      NaN        S    William  \n",
        "577      0      13507   55.9000      E44        S    William  \n",
        "617      0  A/5. 3336   16.1000      NaN        S    William  \n",
        "763      2     113760  120.0000  B96 B98        S    William  \n",
        "880      1     230433   26.0000      NaN        S    William  \n",
        "885      5     382652   29.1250      NaN        Q    William  \n",
        "\n",
        "[13 rows x 13 columns]"
       ]
      }
     ],
     "prompt_number": 243
    },
    {
     "cell_type": "code",
     "collapsed": false,
     "input": [
      "titanic[titanic.Cabin == 'E44']"
     ],
     "language": "python",
     "metadata": {},
     "outputs": [
      {
       "html": [
        "<div style=\"max-height:1000px;max-width:1500px;overflow:auto;\">\n",
        "<table border=\"1\" class=\"dataframe\">\n",
        "  <thead>\n",
        "    <tr style=\"text-align: right;\">\n",
        "      <th></th>\n",
        "      <th>PassengerId</th>\n",
        "      <th>Survived</th>\n",
        "      <th>Pclass</th>\n",
        "      <th>Name</th>\n",
        "      <th>Sex</th>\n",
        "      <th>Age</th>\n",
        "      <th>SibSp</th>\n",
        "      <th>Parch</th>\n",
        "      <th>Ticket</th>\n",
        "      <th>Fare</th>\n",
        "      <th>Cabin</th>\n",
        "      <th>Embarked</th>\n",
        "      <th>First Name</th>\n",
        "    </tr>\n",
        "  </thead>\n",
        "  <tbody>\n",
        "    <tr>\n",
        "      <th>434</th>\n",
        "      <td> 435</td>\n",
        "      <td> 0</td>\n",
        "      <td> 1</td>\n",
        "      <td>                 Silvey, Mr. William Baird</td>\n",
        "      <td>   male</td>\n",
        "      <td> 50</td>\n",
        "      <td> 1</td>\n",
        "      <td> 0</td>\n",
        "      <td> 13507</td>\n",
        "      <td> 55.9</td>\n",
        "      <td> E44</td>\n",
        "      <td> S</td>\n",
        "      <td> William</td>\n",
        "    </tr>\n",
        "    <tr>\n",
        "      <th>577</th>\n",
        "      <td> 578</td>\n",
        "      <td> 1</td>\n",
        "      <td> 1</td>\n",
        "      <td> Silvey, Mrs. William Baird (Alice Munger)</td>\n",
        "      <td> female</td>\n",
        "      <td> 39</td>\n",
        "      <td> 1</td>\n",
        "      <td> 0</td>\n",
        "      <td> 13507</td>\n",
        "      <td> 55.9</td>\n",
        "      <td> E44</td>\n",
        "      <td> S</td>\n",
        "      <td> William</td>\n",
        "    </tr>\n",
        "  </tbody>\n",
        "</table>\n",
        "<p>2 rows \u00d7 13 columns</p>\n",
        "</div>"
       ],
       "metadata": {},
       "output_type": "pyout",
       "prompt_number": 244,
       "text": [
        "     PassengerId  Survived  Pclass                                       Name  \\\n",
        "434          435         0       1                  Silvey, Mr. William Baird   \n",
        "577          578         1       1  Silvey, Mrs. William Baird (Alice Munger)   \n",
        "\n",
        "        Sex  Age  SibSp  Parch Ticket  Fare Cabin Embarked First Name  \n",
        "434    male   50      1      0  13507  55.9   E44        S    William  \n",
        "577  female   39      1      0  13507  55.9   E44        S    William  \n",
        "\n",
        "[2 rows x 13 columns]"
       ]
      }
     ],
     "prompt_number": 244
    },
    {
     "cell_type": "code",
     "collapsed": false,
     "input": [
      "titanic[titanic.Cabin == 'B96 B98']"
     ],
     "language": "python",
     "metadata": {},
     "outputs": [
      {
       "html": [
        "<div style=\"max-height:1000px;max-width:1500px;overflow:auto;\">\n",
        "<table border=\"1\" class=\"dataframe\">\n",
        "  <thead>\n",
        "    <tr style=\"text-align: right;\">\n",
        "      <th></th>\n",
        "      <th>PassengerId</th>\n",
        "      <th>Survived</th>\n",
        "      <th>Pclass</th>\n",
        "      <th>Name</th>\n",
        "      <th>Sex</th>\n",
        "      <th>Age</th>\n",
        "      <th>SibSp</th>\n",
        "      <th>Parch</th>\n",
        "      <th>Ticket</th>\n",
        "      <th>Fare</th>\n",
        "      <th>Cabin</th>\n",
        "      <th>Embarked</th>\n",
        "      <th>First Name</th>\n",
        "    </tr>\n",
        "  </thead>\n",
        "  <tbody>\n",
        "    <tr>\n",
        "      <th>390</th>\n",
        "      <td> 391</td>\n",
        "      <td> 1</td>\n",
        "      <td> 1</td>\n",
        "      <td>                Carter, Mr. William Ernest</td>\n",
        "      <td>   male</td>\n",
        "      <td> 36</td>\n",
        "      <td> 1</td>\n",
        "      <td> 2</td>\n",
        "      <td> 113760</td>\n",
        "      <td> 120</td>\n",
        "      <td> B96 B98</td>\n",
        "      <td> S</td>\n",
        "      <td> William</td>\n",
        "    </tr>\n",
        "    <tr>\n",
        "      <th>435</th>\n",
        "      <td> 436</td>\n",
        "      <td> 1</td>\n",
        "      <td> 1</td>\n",
        "      <td>                 Carter, Miss. Lucile Polk</td>\n",
        "      <td> female</td>\n",
        "      <td> 14</td>\n",
        "      <td> 1</td>\n",
        "      <td> 2</td>\n",
        "      <td> 113760</td>\n",
        "      <td> 120</td>\n",
        "      <td> B96 B98</td>\n",
        "      <td> S</td>\n",
        "      <td>  Lucile</td>\n",
        "    </tr>\n",
        "    <tr>\n",
        "      <th>763</th>\n",
        "      <td> 764</td>\n",
        "      <td> 1</td>\n",
        "      <td> 1</td>\n",
        "      <td> Carter, Mrs. William Ernest (Lucile Polk)</td>\n",
        "      <td> female</td>\n",
        "      <td> 36</td>\n",
        "      <td> 1</td>\n",
        "      <td> 2</td>\n",
        "      <td> 113760</td>\n",
        "      <td> 120</td>\n",
        "      <td> B96 B98</td>\n",
        "      <td> S</td>\n",
        "      <td> William</td>\n",
        "    </tr>\n",
        "    <tr>\n",
        "      <th>802</th>\n",
        "      <td> 803</td>\n",
        "      <td> 1</td>\n",
        "      <td> 1</td>\n",
        "      <td>       Carter, Master. William Thornton II</td>\n",
        "      <td>   male</td>\n",
        "      <td> 11</td>\n",
        "      <td> 1</td>\n",
        "      <td> 2</td>\n",
        "      <td> 113760</td>\n",
        "      <td> 120</td>\n",
        "      <td> B96 B98</td>\n",
        "      <td> S</td>\n",
        "      <td> William</td>\n",
        "    </tr>\n",
        "  </tbody>\n",
        "</table>\n",
        "<p>4 rows \u00d7 13 columns</p>\n",
        "</div>"
       ],
       "metadata": {},
       "output_type": "pyout",
       "prompt_number": 245,
       "text": [
        "     PassengerId  Survived  Pclass                                       Name  \\\n",
        "390          391         1       1                 Carter, Mr. William Ernest   \n",
        "435          436         1       1                  Carter, Miss. Lucile Polk   \n",
        "763          764         1       1  Carter, Mrs. William Ernest (Lucile Polk)   \n",
        "802          803         1       1        Carter, Master. William Thornton II   \n",
        "\n",
        "        Sex  Age  SibSp  Parch  Ticket  Fare    Cabin Embarked First Name  \n",
        "390    male   36      1      2  113760   120  B96 B98        S    William  \n",
        "435  female   14      1      2  113760   120  B96 B98        S     Lucile  \n",
        "763  female   36      1      2  113760   120  B96 B98        S    William  \n",
        "802    male   11      1      2  113760   120  B96 B98        S    William  \n",
        "\n",
        "[4 rows x 13 columns]"
       ]
      }
     ],
     "prompt_number": 245
    },
    {
     "cell_type": "markdown",
     "metadata": {},
     "source": [
      "<p style=\"font-size: 12pt;\"><b>\u0413\u0438\u043f\u043e\u0442\u0435\u0437\u0430 \u043f\u043e\u0434\u0442\u0432\u0435\u0440\u0434\u0438\u043b\u0430\u0441\u044c</b>: William \u0438 Thomas \u044d\u0442\u043e \u0438\u043c\u0435\u043d\u0430 \u043c\u0443\u0436\u0435\u0439, \u0434\u0440\u0443\u0433\u0438\u0445 \u043e\u0431\u044a\u044f\u0441\u043d\u0435\u043d\u0438\u0439 \u044f \u043d\u0435 \u0432\u0438\u0436\u0443.</p>"
     ]
    },
    {
     "cell_type": "markdown",
     "metadata": {},
     "source": [
      "<p style=\"font-size: 14pt;\">\u0421\u0430\u043c\u043e\u0435 \u043f\u043e\u043f\u0443\u043b\u044f\u0440\u043d\u043e\u0435 \u0436\u0435\u043d\u0441\u043a\u043e\u0435 \u0438\u043c\u044f: <b>Mary</b>, \u0438\u043c\u044f <b>William</b> \u0438\u0441\u043a\u043b\u044e\u0447\u0430\u0435\u043c."
     ]
    },
    {
     "cell_type": "heading",
     "level": 2,
     "metadata": {},
     "source": [
      "\u041a\u0430\u043a \u0432\u0430\u0440\u044c\u0438\u0440\u0443\u0435\u0442\u0441\u044f \u0446\u0435\u043d\u0430 \u0431\u0438\u043b\u0435\u0442\u0430 \u043d\u0430 \u0422\u0438\u0442\u0430\u043d\u0438\u043a?"
     ]
    },
    {
     "cell_type": "code",
     "collapsed": false,
     "input": [
      "plt.figure(figsize=(18, 6), dpi=1600)\n",
      "plt.subplot2grid((2,3),(0,0))\n",
      "titanic[titanic.Pclass==1].Fare.hist(bins=30)\n",
      "plt.xlabel(\"Price\")\n",
      "plt.ylabel(\"Number of tickets\")\n",
      "plt.title(\"Distribution of Fare first class tickets\")\n",
      "plt.subplot2grid((2,3),(0,1))\n",
      "titanic[titanic.Pclass==2].Fare.hist(bins=20)\n",
      "plt.xlabel(\"Price\")\n",
      "plt.ylabel(\"Number of tickets\")\n",
      "plt.title(\"Distribution of Fare second class tickets\")\n",
      "plt.subplot2grid((2,3),(0,2))\n",
      "titanic[titanic.Pclass==3].Fare.hist(bins=20)\n",
      "plt.xlabel(\"Price\")\n",
      "plt.ylabel(\"Number of tickets\")\n",
      "plt.title(\"Distribution of Fare third class tickets\")"
     ],
     "language": "python",
     "metadata": {},
     "outputs": [
      {
       "metadata": {},
       "output_type": "pyout",
       "prompt_number": 246,
       "text": [
        "<matplotlib.text.Text at 0x11296e510>"
       ]
      },
      {
       "metadata": {},
       "output_type": "display_data",
       "png": "[encoded data removed]",
       "text": [
        "<matplotlib.figure.Figure at 0x11288b3d0>"
       ]
      }
     ],
     "prompt_number": 246
    },
    {
     "cell_type": "code",
     "collapsed": false,
     "input": [
      "titanic.Fare.describe()"
     ],
     "language": "python",
     "metadata": {},
     "outputs": [
      {
       "metadata": {},
       "output_type": "pyout",
       "prompt_number": 247,
       "text": [
        "count    891.000000\n",
        "mean      32.204208\n",
        "std       49.693429\n",
        "min        0.000000\n",
        "25%        7.910400\n",
        "50%       14.454200\n",
        "75%       31.000000\n",
        "max      512.329200\n",
        "Name: Fare, dtype: float64"
       ]
      }
     ],
     "prompt_number": 247
    },
    {
     "cell_type": "code",
     "collapsed": false,
     "input": [
      "titanic.groupby('Pclass').Fare.agg([np.mean, np.std, np.max])"
     ],
     "language": "python",
     "metadata": {},
     "outputs": [
      {
       "html": [
        "<div style=\"max-height:1000px;max-width:1500px;overflow:auto;\">\n",
        "<table border=\"1\" class=\"dataframe\">\n",
        "  <thead>\n",
        "    <tr style=\"text-align: right;\">\n",
        "      <th></th>\n",
        "      <th>mean</th>\n",
        "      <th>std</th>\n",
        "      <th>amax</th>\n",
        "    </tr>\n",
        "    <tr>\n",
        "      <th>Pclass</th>\n",
        "      <th></th>\n",
        "      <th></th>\n",
        "      <th></th>\n",
        "    </tr>\n",
        "  </thead>\n",
        "  <tbody>\n",
        "    <tr>\n",
        "      <th>1</th>\n",
        "      <td> 84.154687</td>\n",
        "      <td> 78.380373</td>\n",
        "      <td> 512.3292</td>\n",
        "    </tr>\n",
        "    <tr>\n",
        "      <th>2</th>\n",
        "      <td> 20.662183</td>\n",
        "      <td> 13.417399</td>\n",
        "      <td>  73.5000</td>\n",
        "    </tr>\n",
        "    <tr>\n",
        "      <th>3</th>\n",
        "      <td> 13.675550</td>\n",
        "      <td> 11.778142</td>\n",
        "      <td>  69.5500</td>\n",
        "    </tr>\n",
        "  </tbody>\n",
        "</table>\n",
        "<p>3 rows \u00d7 3 columns</p>\n",
        "</div>"
       ],
       "metadata": {},
       "output_type": "pyout",
       "prompt_number": 248,
       "text": [
        "             mean        std      amax\n",
        "Pclass                                \n",
        "1       84.154687  78.380373  512.3292\n",
        "2       20.662183  13.417399   73.5000\n",
        "3       13.675550  11.778142   69.5500\n",
        "\n",
        "[3 rows x 3 columns]"
       ]
      }
     ],
     "prompt_number": 248
    },
    {
     "cell_type": "heading",
     "level": 2,
     "metadata": {},
     "source": [
      "\u041a\u0430\u043a\u0438\u0435 \u0442\u0438\u0442\u0443\u043b\u044b \u0438\u043c\u0435\u043b\u0438 \u043f\u0430\u0441\u0441\u0430\u0436\u0438\u0440\u044b (\u043f\u0440\u0438\u043c\u0435\u0440\u044b \u0442\u0438\u0442\u0443\u043b\u0430 \u2014 Mrs., Mr.), \u0435\u0434\u0443\u0449\u0438\u0435 \u0440\u0430\u0437\u043b\u0438\u0447\u043d\u044b\u043c\u0438 \u043a\u043b\u0430\u0441\u0441\u0430\u043c\u0438?"
     ]
    },
    {
     "cell_type": "code",
     "collapsed": false,
     "input": [
      "titanic['Title']=titanic.apply(lambda x: x['Name'].split(',')[1].split('.')[0].strip(), axis=1)"
     ],
     "language": "python",
     "metadata": {},
     "outputs": [],
     "prompt_number": 249
    },
    {
     "cell_type": "code",
     "collapsed": false,
     "input": [
      "plt.figure(figsize=(18,3), dpi=1600)\n",
      "plt.subplot2grid((1,3),(0,0))\n",
      "titanic[titanic.Pclass==1].groupby('Title').size().plot(kind='bar')\n",
      "plt.title(\"Title Distribution for 1 Class Passanger\")\n",
      "plt.ylabel('Number of passengers')\n",
      "plt.subplot2grid((1,3),(0,1))\n",
      "titanic[titanic.Pclass==2].groupby('Title').size().plot(kind='bar')\n",
      "plt.title(\"Title Distribution for 2 Class Passanger\")\n",
      "plt.ylabel('Number of passengers')\n",
      "plt.subplot2grid((1,3),(0,2))\n",
      "titanic[titanic.Pclass==3].groupby('Title').size().plot(kind='bar')\n",
      "plt.title(\"Title Distribution for 3 Class Passanger\")\n",
      "plt.ylabel('Number of passengers')"
     ],
     "language": "python",
     "metadata": {},
     "outputs": [
      {
       "metadata": {},
       "output_type": "pyout",
       "prompt_number": 250,
       "text": [
        "<matplotlib.text.Text at 0x112b27d90>"
       ]
      },
      {
       "metadata": {},
       "output_type": "display_data",
       "png": "[encoded data removed]",
       "text": [
        "<matplotlib.figure.Figure at 0x1129a6c10>"
       ]
      }
     ],
     "prompt_number": 250
    },
    {
     "cell_type": "heading",
     "level": 2,
     "metadata": {},
     "source": [
      "\u0415\u0441\u0442\u044c \u043b\u0438 \u0437\u0430\u0432\u0438\u0441\u0438\u043c\u043e\u0441\u0442\u044c \u043c\u0435\u0436\u0434\u0443 \u043a\u043b\u0430\u0441\u0441\u043e\u043c \u0438 \u043d\u043e\u043c\u0435\u0440\u043e\u043c \u0431\u0438\u043b\u0435\u0442\u0430?"
     ]
    },
    {
     "cell_type": "code",
     "collapsed": false,
     "input": [
      "titanic.apply(lambda x: x['Ticket'].split()[-1].split()[0] if x['Ticket'].split()[-1].split()[0].isdigit() else 0  , axis=1).corr(titanic.Pclass)"
     ],
     "language": "python",
     "metadata": {},
     "outputs": [
      {
       "metadata": {},
       "output_type": "pyout",
       "prompt_number": 251,
       "text": [
        "0.28401604933430857"
       ]
      }
     ],
     "prompt_number": 251
    },
    {
     "cell_type": "markdown",
     "metadata": {},
     "source": [
      "<p style=\"font-size: 14pt;\">\u0417\u0430\u0432\u0438\u0441\u0438\u043c\u043e\u0441\u0442\u044c \u043f\u0440\u0438\u0441\u0443\u0442\u0441\u0442\u0432\u0443\u0435\u0442. \u041a\u043e\u044d\u0444\u0444\u0438\u0446\u0438\u0435\u043d\u0442 \u043a\u043e\u0440\u0440\u0435\u043b\u044f\u0446\u0438\u0438 \u041f\u0438\u0440\u0441\u043e\u043d\u0430: <b>0.284</b></p>"
     ]
    },
    {
     "cell_type": "heading",
     "level": 2,
     "metadata": {},
     "source": [
      "\u041a\u0430\u043a\u043e\u0439 \u0447\u0430\u0441\u0442\u0438 \u043f\u0430\u0441\u0441\u0430\u0436\u0438\u0440\u043e\u0432 \u0443\u0434\u0430\u043b\u043e\u0441\u044c \u0432\u044b\u0436\u0438\u0442\u044c?"
     ]
    },
    {
     "cell_type": "code",
     "collapsed": false,
     "input": [
      "plt.figure(figsize=(12,3), dpi=1600) \n",
      "ax1=plt.subplot2grid((1,2),(0,0))\n",
      "plt.pie(titanic.Survived.value_counts(), colors=['red','blue'], labels=['Survived', 'NOT Survived'], autopct='%.2f')\n",
      "plt.title(\"Survivability\")"
     ],
     "language": "python",
     "metadata": {},
     "outputs": [
      {
       "metadata": {},
       "output_type": "pyout",
       "prompt_number": 252,
       "text": [
        "<matplotlib.text.Text at 0x112b84050>"
       ]
      },
      {
       "metadata": {},
       "output_type": "display_data",
       "png": "[encoded data removed]",
       "text": [
        "<matplotlib.figure.Figure at 0x1126a1f50>"
       ]
      }
     ],
     "prompt_number": 252
    },
    {
     "cell_type": "heading",
     "level": 2,
     "metadata": {},
     "source": [
      "\u0412\u0435\u0440\u043d\u043e \u043b\u0438, \u0447\u0442\u043e \u0436\u0435\u043d\u0449\u0438\u043d\u044b \u0432\u044b\u0436\u0438\u0432\u0430\u043b\u0438 \u0447\u0430\u0449\u0435 \u043c\u0443\u0436\u0447\u0438\u043d?"
     ]
    },
    {
     "cell_type": "code",
     "collapsed": false,
     "input": [
      "pd.crosstab(titanic.Sex, titanic.Survived).div(pd.crosstab(titanic.Sex, titanic.Survived).sum(1),axis=0).plot(kind='barh', stacked=True, color=['blue', 'red'])\n",
      "title(\"Man and Woman Survivability\")"
     ],
     "language": "python",
     "metadata": {},
     "outputs": [
      {
       "metadata": {},
       "output_type": "pyout",
       "prompt_number": 253,
       "text": [
        "<matplotlib.text.Text at 0x112ccdad0>"
       ]
      },
      {
       "metadata": {},
       "output_type": "display_data",
       "png": "[encoded data removed]",
       "text": [
        "<matplotlib.figure.Figure at 0x112733490>"
       ]
      }
     ],
     "prompt_number": 253
    },
    {
     "cell_type": "code",
     "collapsed": false,
     "input": [
      "pd.crosstab(titanic.Sex, titanic.Survived).div(pd.crosstab(titanic.Sex, titanic.Survived).sum(1),axis=0)"
     ],
     "language": "python",
     "metadata": {},
     "outputs": [
      {
       "html": [
        "<div style=\"max-height:1000px;max-width:1500px;overflow:auto;\">\n",
        "<table border=\"1\" class=\"dataframe\">\n",
        "  <thead>\n",
        "    <tr style=\"text-align: right;\">\n",
        "      <th>Survived</th>\n",
        "      <th>0</th>\n",
        "      <th>1</th>\n",
        "    </tr>\n",
        "    <tr>\n",
        "      <th>Sex</th>\n",
        "      <th></th>\n",
        "      <th></th>\n",
        "    </tr>\n",
        "  </thead>\n",
        "  <tbody>\n",
        "    <tr>\n",
        "      <th>female</th>\n",
        "      <td> 0.257962</td>\n",
        "      <td> 0.742038</td>\n",
        "    </tr>\n",
        "    <tr>\n",
        "      <th>male</th>\n",
        "      <td> 0.811092</td>\n",
        "      <td> 0.188908</td>\n",
        "    </tr>\n",
        "  </tbody>\n",
        "</table>\n",
        "<p>2 rows \u00d7 2 columns</p>\n",
        "</div>"
       ],
       "metadata": {},
       "output_type": "pyout",
       "prompt_number": 254,
       "text": [
        "Survived         0         1\n",
        "Sex                         \n",
        "female    0.257962  0.742038\n",
        "male      0.811092  0.188908\n",
        "\n",
        "[2 rows x 2 columns]"
       ]
      }
     ],
     "prompt_number": 254
    },
    {
     "cell_type": "markdown",
     "metadata": {},
     "source": [
      "<p style=\"font-size: 14pt;\"><b>\u0412\u0435\u0440\u043d\u043e</b>, \u0436\u0435\u043d\u0449\u0438\u043d\u044b \u0432\u044b\u0436\u0438\u0432\u0430\u043b\u0438 \u0447\u0430\u0449\u0435 \u043c\u0443\u0436\u0447\u0438\u043d</p>"
     ]
    },
    {
     "cell_type": "heading",
     "level": 2,
     "metadata": {},
     "source": [
      "\u0412\u0435\u0440\u043d\u043e \u043b\u0438, \u0447\u0442\u043e \u0447\u0430\u0449\u0435 \u0432\u044b\u0436\u0438\u0432\u0430\u043b\u0438 \u043f\u0430\u0441\u0441\u0430\u0436\u0438\u0440\u044b \u0441 \u0431\u043e\u043b\u0435\u0435 \u0434\u043e\u0440\u043e\u0433\u0438\u043c\u0438 \u0431\u0438\u043b\u0435\u0442\u0430\u043c\u0438?"
     ]
    },
    {
     "cell_type": "code",
     "collapsed": false,
     "input": [
      "pd.crosstab(titanic.Pclass, titanic.Survived).div(pd.crosstab(titanic.Pclass, titanic.Survived).sum(1),axis=0).plot(kind='barh', stacked=True)\n",
      "title(\"First, Second and Third tickets class Survivability\")"
     ],
     "language": "python",
     "metadata": {},
     "outputs": [
      {
       "metadata": {},
       "output_type": "pyout",
       "prompt_number": 255,
       "text": [
        "<matplotlib.text.Text at 0x112dad690>"
       ]
      },
      {
       "metadata": {},
       "output_type": "display_data",
       "png": "[encoded data removed]",
       "text": [
        "<matplotlib.figure.Figure at 0x112ccc850>"
       ]
      }
     ],
     "prompt_number": 255
    },
    {
     "cell_type": "code",
     "collapsed": false,
     "input": [
      "pd.crosstab(titanic.Pclass, titanic.Survived).div(pd.crosstab(titanic.Pclass, titanic.Survived).sum(1),axis=0)"
     ],
     "language": "python",
     "metadata": {},
     "outputs": [
      {
       "html": [
        "<div style=\"max-height:1000px;max-width:1500px;overflow:auto;\">\n",
        "<table border=\"1\" class=\"dataframe\">\n",
        "  <thead>\n",
        "    <tr style=\"text-align: right;\">\n",
        "      <th>Survived</th>\n",
        "      <th>0</th>\n",
        "      <th>1</th>\n",
        "    </tr>\n",
        "    <tr>\n",
        "      <th>Pclass</th>\n",
        "      <th></th>\n",
        "      <th></th>\n",
        "    </tr>\n",
        "  </thead>\n",
        "  <tbody>\n",
        "    <tr>\n",
        "      <th>1</th>\n",
        "      <td> 0.370370</td>\n",
        "      <td> 0.629630</td>\n",
        "    </tr>\n",
        "    <tr>\n",
        "      <th>2</th>\n",
        "      <td> 0.527174</td>\n",
        "      <td> 0.472826</td>\n",
        "    </tr>\n",
        "    <tr>\n",
        "      <th>3</th>\n",
        "      <td> 0.757637</td>\n",
        "      <td> 0.242363</td>\n",
        "    </tr>\n",
        "  </tbody>\n",
        "</table>\n",
        "<p>3 rows \u00d7 2 columns</p>\n",
        "</div>"
       ],
       "metadata": {},
       "output_type": "pyout",
       "prompt_number": 256,
       "text": [
        "Survived         0         1\n",
        "Pclass                      \n",
        "1         0.370370  0.629630\n",
        "2         0.527174  0.472826\n",
        "3         0.757637  0.242363\n",
        "\n",
        "[3 rows x 2 columns]"
       ]
      }
     ],
     "prompt_number": 256
    },
    {
     "cell_type": "code",
     "collapsed": false,
     "input": [
      "plt.figure(figsize=(12,3), dpi=1600) \n",
      "ax1=plt.subplot2grid((1,2),(0,0))\n",
      "valuation_bands = {'1': [0, 20], '2': [20, 50], '3': [50, 70], '4':[70, 150], '5':[150,300], '6': [300,600]}\n",
      "titanic['valuation_band'] = titanic.apply(lambda x: ''.join([key for key, value in valuation_bands.iteritems() if value[0] <= x['Fare'] < value[1]]), axis=1)\n",
      "titanic[titanic.Survived == 1].valuation_band.value_counts().div(titanic.valuation_band.value_counts()).plot(kind='barh', alpha=.5)\n",
      "plt.xlabel(\"Survivability\")\n",
      "plt.ylabel(\"Fare tickets\")\n",
      "plt.title(\"Survival depending on the fare\")"
     ],
     "language": "python",
     "metadata": {},
     "outputs": [
      {
       "metadata": {},
       "output_type": "pyout",
       "prompt_number": 257,
       "text": [
        "<matplotlib.text.Text at 0x112e49e90>"
       ]
      },
      {
       "metadata": {},
       "output_type": "display_data",
       "png": "[encoded data removed]",
       "text": [
        "<matplotlib.figure.Figure at 0x112dc4850>"
       ]
      }
     ],
     "prompt_number": 257
    },
    {
     "cell_type": "markdown",
     "metadata": {},
     "source": [
      "<p style=\"font-size: 14pt;\"><b>\u0412\u0435\u0440\u043d\u043e, \u043d\u043e \u043d\u0435 \u043f\u043e\u043b\u043d\u043e\u0441\u0442\u044c\u044e</b>, \u0432\u044b\u0436\u0438\u0432\u0430\u0435\u043c\u043e\u0441\u0442\u044c \u0437\u0430\u0432\u0438\u0441\u0438\u0442 \u043e\u0442 \u043a\u043b\u0430\u0441\u0441\u0430 \u0431\u0438\u043b\u0435\u0442\u0430. \u041a\u043b\u0430\u0441\u0441 \u0431\u0438\u043b\u0435\u0442\u0430 \u0437\u0430\u0432\u0438\u0441\u0438\u0442 \u043e\u0442 \u0441\u0442\u043e\u0438\u043c\u043e\u0441\u0442\u0438, \u043d\u043e \u0435\u0441\u0442\u044c \u0431\u0438\u043b\u0435\u0442\u044b \u0440\u0430\u0437\u043d\u044b\u0445 \u043a\u043b\u0430\u0441\u0441\u043e\u0432 \u0438 \u043e\u0434\u0438\u043d\u0430\u043a\u043e\u0432\u043e\u0439 \u0441\u0442\u043e\u0438\u043c\u043e\u0441\u0442\u0438, \u0438 \u0435\u0441\u043b\u0438 \u0441\u0442\u043e\u0438\u043c\u043e\u0441\u0442\u044c \u043e\u0434\u0438\u043d\u0430\u043a\u043e\u0432\u0430\u044f, \u0442\u043e \u0432\u044b\u0436\u0438\u0432\u0430\u043b\u0438 \u0442\u0435 \u0443 \u043a\u043e\u0433\u043e \u043b\u0443\u0447\u0448\u0435 \u043a\u043b\u0430\u0441\u0441.</p>"
     ]
    },
    {
     "cell_type": "heading",
     "level": 2,
     "metadata": {},
     "source": [
      "\u041d\u0430\u0439\u0434\u0438\u0442\u0435 \u0437\u0430\u043a\u043e\u043d\u043e\u043c\u0435\u0440\u043d\u043e\u0441\u0442\u0438, \u0442\u043e\u0447\u043d\u043e \u043e\u043f\u0438\u0441\u044b\u0432\u0430\u044e\u0449\u0438\u0435 \u0433\u0440\u0443\u043f\u043f\u0443 \u0432\u044b\u0436\u0438\u0432\u0448\u0438\u0445 \u043f\u0430\u0441\u0441\u0430\u0436\u0438\u0440\u043e\u0432 (\u0432\u0441\u0435 \u043f\u0430\u0441\u0441\u0430\u0436\u0438\u0440\u044b, \u043f\u043e\u043f\u0430\u0434\u0430\u044e\u0449\u0438\u0435 \u043f\u043e\u0434 \u043f\u0440\u0430\u0432\u0438\u043b\u043e \u2014 \u0432\u044b\u0436\u0438\u043b\u0438). \u0427\u0442\u043e \u043c\u043e\u0436\u043d\u043e \u0441\u043a\u0430\u0437\u0430\u0442\u044c \u043f\u0440\u043e \u0441\u043b\u043e\u0436\u043d\u043e\u0441\u0442\u044c \u0438 \u0438\u043d\u0442\u0435\u0440\u043f\u0440\u0435\u0442\u0430\u0446\u0438\u044e \u044d\u0442\u0438\u0445 \u0437\u0430\u043a\u043e\u043d\u043e\u043c\u0435\u0440\u043d\u043e\u0441\u0442\u0435\u0439? \u0415\u0441\u0442\u044c \u043b\u0438 \u0441\u0440\u0435\u0434\u0438 \u043d\u0438\u0445 \u043b\u043e\u0433\u0438\u0447\u043d\u044b\u0435? \u0415\u0441\u0442\u044c \u043b\u0438 \u043f\u0440\u0438\u043c\u0435\u0440\u044b \u043b\u043e\u0436\u043d\u044b\u0445 \u0437\u0430\u043a\u043e\u043d\u043e\u043c\u0435\u0440\u043d\u043e\u0441\u0442\u0435\u0439?"
     ]
    },
    {
     "cell_type": "markdown",
     "metadata": {},
     "source": [
      "<p style=\"font-size: 12pt;\">\u041f\u043e\u043f\u0440\u043e\u0431\u0443\u0435\u043c \u0438\u0437 Cabin \u043f\u043e\u043b\u0443\u0447\u0438\u0442\u044c \u043d\u0430\u0437\u0432\u0430\u043d\u0438\u0435 \u043f\u0430\u043b\u0443\u0431\u044b \u0438 \u043f\u0440\u043e\u0432\u0435\u0440\u0438\u0442\u044c \u043a\u0430\u043a \u0437\u0430\u0432\u0438\u0441\u0438\u0442 \u0432\u044b\u0436\u0438\u0432\u0430\u0435\u043c\u043e\u0441\u0442\u044c \u043e\u0442 \u043f\u0430\u043b\u0443\u0431\u044b</p>"
     ]
    },
    {
     "cell_type": "code",
     "collapsed": false,
     "input": [
      "r = {'A': 1, 'B': 2, 'C': 3, 'D': 4, 'E': 5, 'F': 6, 'G': 7, 'T': 8}\n",
      "titanic['Deck'] = titanic.Cabin.dropna().apply(lambda x: r[x[0]])"
     ],
     "language": "python",
     "metadata": {},
     "outputs": [],
     "prompt_number": 258
    },
    {
     "cell_type": "code",
     "collapsed": false,
     "input": [
      "plt.figure(figsize=(12,3), dpi=1600) \n",
      "ax1=plt.subplot2grid((1,2),(0,0))\n",
      "titanic[titanic.Survived == 1].groupby('Deck').size().div(titanic.groupby('Deck').size()).plot(kind='bar')\n",
      "plt.xlabel(\"Deck\")\n",
      "plt.ylabel(\"Survivability\")\n",
      "plt.title(\"Survival depending on the deck\")"
     ],
     "language": "python",
     "metadata": {},
     "outputs": [
      {
       "metadata": {},
       "output_type": "pyout",
       "prompt_number": 259,
       "text": [
        "<matplotlib.text.Text at 0x112e7edd0>"
       ]
      },
      {
       "metadata": {},
       "output_type": "display_data",
       "png": "[encoded data removed]",
       "text": [
        "<matplotlib.figure.Figure at 0x11278e9d0>"
       ]
      }
     ],
     "prompt_number": 259
    },
    {
     "cell_type": "code",
     "collapsed": false,
     "input": [
      "print titanic.Deck.corr(titanic.Survived)\n",
      "print titanic.Deck.corr(titanic.Pclass)"
     ],
     "language": "python",
     "metadata": {},
     "outputs": [
      {
       "output_type": "stream",
       "stream": "stdout",
       "text": [
        "0.0188252491671\n",
        "0.598210882307\n"
       ]
      }
     ],
     "prompt_number": 260
    },
    {
     "cell_type": "markdown",
     "metadata": {},
     "source": [
      "<p style=\"font-size: 12pt;\">\u0417\u0430\u043c\u0435\u0442\u043d\u043e, \u0447\u0442\u043e \u043c\u043d\u043e\u0433\u043e \u043f\u0440\u043e\u043f\u0443\u0449\u0435\u043d\u044b\u0445 \u0437\u043d\u0430\u0447\u0435\u043d\u0438\u0439. \u0412\u0438\u0434\u043d\u043e, \u0447\u0442\u043e \u0432\u044b\u0436\u0438\u0432\u0430\u0435\u043c\u043e\u0441\u0442\u044c\n",
      "\"\u043d\u0435 \u0437\u0430\u0432\u0438\u0441\u0438\u0442\" \u043e\u0442 \u043f\u0430\u043b\u0443\u0431\u044b. \u041f\u0440\u0438 \u044d\u0442\u043e\u043c \u043a\u043b\u0430\u0441\u0441 \u0431\u0438\u043b\u0435\u0442\u0430 \u043a\u043e\u0440\u0440\u0435\u043b\u0438\u0440\u0443\u0435\u0442 \u0441 \u043f\u0430\u043b\u0443\u0431\u043e\u0439. \u041c\u043e\u0436\u0435\u0442 \u0432\u044b\u0436\u0438\u0432\u0430\u0435\u043c\u043e\u0441\u0442\u044c \u0437\u0430\u0432\u0438\u0441\u0438\u0442 \u043d\u0435 \u043e\u0442 \u043f\u0430\u043b\u0443\u0431\u044b, \u0430 \u043e\u0442 \u0437\u0430\u043f\u043e\u043b\u043d\u0435\u043d\u043e\u0441\u0442\u0438 \u0437\u043d\u0430\u0447\u0435\u043d\u0438\u044f \u043f\u0430\u043b\u0443\u0431\u044b</p>"
     ]
    },
    {
     "cell_type": "code",
     "collapsed": false,
     "input": [
      "print titanic.Survived.value_counts()\n",
      "print titanic.Survived.mean()"
     ],
     "language": "python",
     "metadata": {},
     "outputs": [
      {
       "output_type": "stream",
       "stream": "stdout",
       "text": [
        "0    549\n",
        "1    342\n",
        "dtype: int64\n",
        "0.383838383838\n"
       ]
      }
     ],
     "prompt_number": 261
    },
    {
     "cell_type": "code",
     "collapsed": false,
     "input": [
      "print titanic.dropna(subset=['Cabin']).Survived.value_counts()\n",
      "print titanic.dropna(subset=['Cabin']).Survived.mean()"
     ],
     "language": "python",
     "metadata": {},
     "outputs": [
      {
       "output_type": "stream",
       "stream": "stdout",
       "text": [
        "1    136\n",
        "0     68\n",
        "dtype: int64\n",
        "0.666666666667\n"
       ]
      }
     ],
     "prompt_number": 262
    },
    {
     "cell_type": "markdown",
     "metadata": {},
     "source": [
      "<p style=\"font-size: 12pt;\">\u0421\u0440\u0435\u0434\u043d\u0438\u0435 \u0441\u0438\u043b\u044c\u043d\u043e \u043e\u0442\u043b\u0438\u0447\u0430\u044e\u0442\u0441\u044f, \u0432 \u0437\u0430\u0432\u0438\u0441\u0438\u043c\u043e\u0441\u0442\u0438 \u043e\u0442 \u0437\u0430\u043f\u043e\u043b\u043d\u0435\u043d\u043d\u043e\u0441\u0442\u0438 Cabin. \u041f\u043e\u0441\u0447\u0438\u0442\u0430\u0435\u043c \u0432 \u0441\u0442\u043e\u0440\u043e\u043d\u043a\u0435 t-test, \u0447\u0442\u043e \u0441\u0440\u0435\u0434\u043d\u0438\u0435 \u043d\u0435 \u0440\u0430\u0432\u043d\u044b. \u0420\u0435\u0437\u0443\u043b\u044c\u0442\u0430\u0442 - \u0441\u0440\u0435\u0434\u043d\u0438\u0435 \u043d\u0435 \u0440\u0430\u0432\u043d\u044b 100%. \u0413\u0438\u043f\u043e\u0442\u0435\u0437\u0430 - \u0434\u043b\u044f \u0443\u043c\u0435\u0440\u0448\u0438\u0445 \u043d\u0435 \u0438\u0437\u0432\u0435\u0441\u0442\u043d\u0430 \u043a\u0430\u044e\u0442\u0430. \u0415\u0441\u0442\u044c \u043e\u0449\u0443\u0449\u0435\u043d\u0438\u0435, \u0447\u0442\u043e \u043e\u0442 \u043f\u0430\u043b\u0443\u0431\u044b \u0434\u043e\u043b\u0436\u043d\u0430 \u0437\u0430\u0432\u0438\u0441\u0438\u0442\u044c \u0432\u044b\u0436\u0438\u0432\u0430\u0435\u043c\u043e\u0441\u0442\u044c</p>"
     ]
    },
    {
     "cell_type": "markdown",
     "metadata": {},
     "source": [
      "<p style=\"font-size: 12pt;\">\u041f\u043e\u0441\u043c\u043e\u0442\u0440\u0438\u043c \u043a\u0430\u043a \u0432\u044b\u0436\u0438\u0432\u0430\u0435\u043c\u043e\u0441\u0442\u044c \u0437\u0430\u0432\u0438\u0441\u0438\u0442 \u043e\u0442 \u0442\u043e\u0447\u043a\u0438 \u043e\u0442\u043f\u0440\u0430\u0432\u043b\u0435\u043d\u0438\u044f</p>"
     ]
    },
    {
     "cell_type": "code",
     "collapsed": false,
     "input": [
      "plt.figure(figsize=(12,3), dpi=1600) \n",
      "ax1=plt.subplot2grid((1,2),(0,0))\n",
      "titanic[titanic.Survived == 1].Embarked.value_counts().div(titanic.Embarked.value_counts()).plot(kind='barh', alpha=.5)\n",
      "plt.xlabel(\"Survivability\")\n",
      "plt.ylabel(\"Embarked\")\n",
      "plt.title(\"Survival depending on the embarked\")"
     ],
     "language": "python",
     "metadata": {},
     "outputs": [
      {
       "metadata": {},
       "output_type": "pyout",
       "prompt_number": 263,
       "text": [
        "<matplotlib.text.Text at 0x112f11550>"
       ]
      },
      {
       "metadata": {},
       "output_type": "display_data",
       "png": "[encoded data removed]",
       "text": [
        "<matplotlib.figure.Figure at 0x112efaa90>"
       ]
      }
     ],
     "prompt_number": 263
    },
    {
     "cell_type": "markdown",
     "metadata": {},
     "source": [
      "<p style=\"font-size: 12pt;\">\u041b\u044e\u0434\u0438 \u0438\u0437 Cherbourg \u0432\u044b\u0436\u0438\u0432\u0430\u043b\u0438 \u0447\u0430\u0449\u0435. \u0418\u043d\u0442\u0435\u0440\u0435\u0441\u043d\u043e \u043f\u043e\u0447\u0435\u043c\u0443, \u043f\u043e\u0441\u043c\u043e\u0442\u0440\u0438\u043c \u0440\u0430\u0441\u043f\u0440\u0435\u0434\u0435\u043b\u0435\u043d\u0438\u0435 \u043a\u043b\u0430\u0441\u0441\u0430 \u0431\u0438\u043b\u0435\u0442\u043e\u0432, \u0432 \u0437\u0430\u0432\u0438\u0441\u0438\u043c\u043e\u0441\u0442\u0438 \u043e\u0442 \u0442\u043e\u0447\u043a\u0438 \u043e\u0442\u043f\u0440\u0430\u0432\u043b\u0435\u043d\u0438\u044f </p>"
     ]
    },
    {
     "cell_type": "code",
     "collapsed": false,
     "input": [
      "plt.figure(figsize=(18,3), dpi=1600)\n",
      "plt.subplot2grid((1,3),(0,0))\n",
      "(titanic[titanic.Embarked=='C'].groupby('Pclass').size()/len(titanic[titanic.Embarked=='C'])).plot(kind='bar')\n",
      "plt.title(\"Class Distribution of Cherbourg Passanger\")\n",
      "plt.ylabel(\"Survivability\")\n",
      "plt.subplot2grid((1,3),(0,1))\n",
      "(titanic[titanic.Embarked=='S'].groupby('Pclass').size()/len(titanic[titanic.Embarked=='S'])).plot(kind='bar')\n",
      "plt.title(\"Class Distribution of Southampton Passanger\")\n",
      "plt.ylabel(\"Survivability\")\n",
      "plt.subplot2grid((1,3),(0,2))\n",
      "(titanic[titanic.Embarked=='Q'].groupby('Pclass').size()/len(titanic[titanic.Embarked=='Q'])).plot(kind='bar')\n",
      "plt.title(\"Class Distribution of Queenstown Passanger\")\n",
      "plt.ylabel(\"Survivability\")"
     ],
     "language": "python",
     "metadata": {},
     "outputs": [
      {
       "metadata": {},
       "output_type": "pyout",
       "prompt_number": 264,
       "text": [
        "<matplotlib.text.Text at 0x112f8e210>"
       ]
      },
      {
       "metadata": {},
       "output_type": "display_data",
       "png": "[encoded data removed]",
       "text": [
        "<matplotlib.figure.Figure at 0x112ef4a90>"
       ]
      }
     ],
     "prompt_number": 264
    },
    {
     "cell_type": "markdown",
     "metadata": {},
     "source": [
      "<p style=\"font-size: 12pt;\">\u041b\u044e\u0434\u0438 \u0438\u0437 Cherbourg \u043f\u043e\u043a\u0443\u043f\u0430\u043b\u0438 \u043c\u043d\u043e\u0433\u043e \u0431\u0438\u043b\u0435\u0442\u043e\u0432 \u043f\u0435\u0440\u0432\u043e\u0433\u043e \u043a\u043b\u0430\u0441\u0441\u0430, \u043f\u043e\u044d\u0442\u043e\u043c\u0443 \u0432\u044b\u0436\u0438\u0432\u0430\u043b\u0438</p>"
     ]
    },
    {
     "cell_type": "markdown",
     "metadata": {},
     "source": [
      "<p style=\"font-size: 12pt;\">\u041f\u0440\u043e\u0432\u0435\u0440\u0438\u043c, \u0447\u0442\u043e \u0432\u044b\u0436\u0438\u0432\u0430\u0435\u043c\u043e\u0441\u0442\u044c \u0437\u0430\u0432\u0438\u0441\u0438\u0442 \u043e\u0442 \u0442\u043e\u0433\u043e \u0440\u0435\u0431\u0435\u043d\u043e\u043a \u0438\u043b\u0438 \u043d\u0435\u0442</p>"
     ]
    },
    {
     "cell_type": "code",
     "collapsed": false,
     "input": [
      "plt.figure(figsize=(18,3), dpi=1600)\n",
      "plt.subplot2grid((1,3),(0,0))\n",
      "titanic[titanic.Age < 12].Survived.value_counts().plot(kind='bar', stacked=True)\n",
      "plt.title(\"Survival depending on the childness(child)\")\n",
      "plt.ylabel('Number of passengers')\n",
      "plt.xlabel(\"Survived\")\n",
      "plt.subplot2grid((1,3),(0,1))\n",
      "titanic[titanic.Age > 12].Survived.value_counts().plot(kind='bar', stacked=True)\n",
      "plt.title(\"Survival depending on the childness(adult)\")\n",
      "plt.ylabel('Number of passengers')\n",
      "plt.xlabel(\"Survived\")"
     ],
     "language": "python",
     "metadata": {},
     "outputs": [
      {
       "metadata": {},
       "output_type": "pyout",
       "prompt_number": 265,
       "text": [
        "<matplotlib.text.Text at 0x1130db390>"
       ]
      },
      {
       "metadata": {},
       "output_type": "display_data",
       "png": "[encoded data removed]",
       "text": [
        "<matplotlib.figure.Figure at 0x112f7c490>"
       ]
      }
     ],
     "prompt_number": 265
    },
    {
     "cell_type": "markdown",
     "metadata": {},
     "source": [
      "<p style=\"font-size: 16pt;\"><b>\u0412\u044b\u0432\u043e\u0434:</b> \u0432\u044b\u0436\u0438\u0432\u0430\u0435\u043c\u043e\u0441\u0442\u044c \u0437\u0430\u0432\u0438\u0441\u0438\u043b\u0430 \u043e\u0442 \u043f\u043e\u043b\u0430, \u0432\u043e\u0437\u0440\u0430\u0441\u0442\u0430 \u0438 \u043a\u043b\u0430\u0441\u0441\u0430 \u0431\u0438\u043b\u0435\u0442\u0430. \u0412 \u043f\u0435\u0440\u0432\u0443\u044e \u043e\u0447\u0435\u0440\u0435\u0434\u044c \u0441\u043f\u0430\u0441\u0430\u043b\u0438 \u0436\u0435\u043d\u0449\u0438\u043d, \u0434\u0435\u0442\u0435\u0439 \u0438 \u043f\u0430\u0441\u0441\u0430\u0436\u0438\u0440\u043e\u0432 \u043f\u0435\u0440\u0432\u043e\u0433\u043e \u0438 \u0432\u0442\u043e\u0440\u043e\u0433\u043e \u043a\u043b\u0430\u0441\u0441\u0430. \u041e\u0441\u0442\u0430\u043b\u044c\u043d\u044b\u0435 \u0437\u0430\u0432\u0438\u0441\u0438\u043c\u043e\u0441\u0442\u0438 - \u0441\u043b\u0435\u0434\u0441\u0442\u0432\u0438\u0435 \u044d\u0442\u0438\u0445</p>"
     ]
    }
   ],
   "metadata": {}
  }
 ]
}