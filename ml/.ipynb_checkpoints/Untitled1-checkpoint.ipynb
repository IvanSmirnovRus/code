{
 "metadata": {
  "name": "",
  "signature": "sha256:3b7ad11aac0fb5a6d872ff9364b4180c5e818712619403676adcf2c92be8046d"
 },
 "nbformat": 3,
 "nbformat_minor": 0,
 "worksheets": []
}