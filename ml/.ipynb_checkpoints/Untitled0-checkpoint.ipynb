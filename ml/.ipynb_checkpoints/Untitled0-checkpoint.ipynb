{
 "metadata": {
  "name": "",
  "signature": "sha256:a9e6f2962d0b4ba02c7803d1b4ea0ab34e61a08eb8bce93b00f381fe1cd5c7d9"
 },
 "nbformat": 3,
 "nbformat_minor": 0,
 "worksheets": [
  {
   "cells": [
    {
     "cell_type": "code",
     "collapsed": false,
     "input": [
      "%pylab inline\n",
      "import numpy as np\n",
      "import matplotlib.pyplot as plt"
     ],
     "language": "python",
     "metadata": {},
     "outputs": [
      {
       "output_type": "stream",
       "stream": "stdout",
       "text": [
        "Populating the interactive namespace from numpy and matplotlib\n"
       ]
      }
     ],
     "prompt_number": 2
    },
    {
     "cell_type": "code",
     "collapsed": false,
     "input": [
      "def read_X(filename):\n",
      "    X = list()\n",
      "    with open(filename) as f:\n",
      "        while True:\n",
      "            line = f.readline()\n",
      "            if not line:\n",
      "                break\n",
      "            amplitudes = [int(x) for x in line.strip().split(',')]\n",
      "            intervals = [int(x) for x in f.readline().strip().split(',')]\n",
      "            \n",
      "            f.readline() # skip an empty line\n",
      "            X.append((amplitudes, intervals))\n",
      "    return X"
     ],
     "language": "python",
     "metadata": {},
     "outputs": [],
     "prompt_number": 3
    },
    {
     "cell_type": "code",
     "collapsed": false,
     "input": [
      "X_train_ecg = read_X('X.train.csv')\n",
      "X_test_ecg = read_X('X.test.csv')\n",
      "print len(X_train_ecg), len(X_test_ecg)"
     ],
     "language": "python",
     "metadata": {},
     "outputs": [
      {
       "output_type": "stream",
       "stream": "stdout",
       "text": [
        "900 903\n"
       ]
      }
     ],
     "prompt_number": 4
    },
    {
     "cell_type": "code",
     "collapsed": false,
     "input": [
      "y_train = list()\n",
      "for line in open('y.train.csv'):\n",
      "    y_train.append(int(line))\n",
      "print len(y_train)"
     ],
     "language": "python",
     "metadata": {},
     "outputs": [
      {
       "output_type": "stream",
       "stream": "stdout",
       "text": [
        "900\n"
       ]
      }
     ],
     "prompt_number": 5
    },
    {
     "cell_type": "code",
     "collapsed": false,
     "input": [
      "def discretize(X):\n",
      "    discrete = list()\n",
      "    for amps, ints in X:\n",
      "        amps = np.array(amps).astype(float)\n",
      "        ints = np.array(ints).astype(float)\n",
      "        alphas = np.arctan(amps / ints)\n",
      "\n",
      "        amps = np.diff(amps)\n",
      "        ints = np.diff(ints)\n",
      "        alphas = np.diff(alphas)\n",
      "\n",
      "        s = list()\n",
      "        for ind, r, t, a in zip(range(600), amps, ints, alphas):\n",
      "            c = 'x'\n",
      "            if r > 0 and t > 0 and a > 0:\n",
      "                c = 'a'\n",
      "            if r <= 0 and t <= 0 and a > 0:\n",
      "                c = 'b'\n",
      "            if r > 0 and t <= 0 and a > 0:\n",
      "                c = 'c'\n",
      "            if r <= 0 and t > 0 and a <= 0:\n",
      "                c = 'd'\n",
      "            if r > 0 and t > 0 and a <= 0:\n",
      "                c = 'e'\n",
      "            if r <= 0 and t <= 0 and a <= 0:\n",
      "                c = 'f'\n",
      "            if c == 'x':\n",
      "                print 'Very strange!!!', ind, r, t, a\n",
      "            s.append(c)\n",
      "\n",
      "        discrete.append(s)\n",
      "    return discrete"
     ],
     "language": "python",
     "metadata": {},
     "outputs": [],
     "prompt_number": 6
    },
    {
     "cell_type": "code",
     "collapsed": false,
     "input": [
      "X_train_discrete = discretize(X_train_ecg)\n",
      "X_test_discrete = discretize(X_test_ecg)\n",
      "print len(X_train_discrete), len(X_test_discrete)"
     ],
     "language": "python",
     "metadata": {},
     "outputs": [
      {
       "output_type": "stream",
       "stream": "stdout",
       "text": [
        "900 903\n"
       ]
      },
      {
       "output_type": "stream",
       "stream": "stderr",
       "text": [
        "-c:6: RuntimeWarning: divide by zero encountered in divide\n"
       ]
      }
     ],
     "prompt_number": 7
    },
    {
     "cell_type": "code",
     "collapsed": false,
     "input": [
      "from collections import defaultdict\n",
      "from itertools import product\n",
      "\n",
      "def vectorize(discrete):\n",
      "    vectorized = list()\n",
      "    for element in discrete:\n",
      "        current = defaultdict(int)\n",
      "        for j in range(597):\n",
      "            current[tuple(element[j:j+3])] += 1\n",
      "\n",
      "        vect = list()\n",
      "        for a, b, c in product('abcdef', 'abcdef', 'abcdef'):\n",
      "            vect.append(current[(a, b, c)])\n",
      "        vectorized.append(vect)\n",
      "    return np.array(vectorized).astype(float)"
     ],
     "language": "python",
     "metadata": {},
     "outputs": [],
     "prompt_number": 8
    },
    {
     "cell_type": "code",
     "collapsed": false,
     "input": [
      "X_train = vectorize(X_train_discrete)\n",
      "X_test = vectorize(X_test_discrete)\n",
      "print X_train.shape, X_test.shape"
     ],
     "language": "python",
     "metadata": {},
     "outputs": [
      {
       "output_type": "stream",
       "stream": "stdout",
       "text": [
        "(900, 216) (903, 216)\n"
       ]
      }
     ],
     "prompt_number": 9
    },
    {
     "cell_type": "code",
     "collapsed": false,
     "input": [
      "X = np.zeros((X_train.shape[0] + X_test.shape[0], X_train.shape[1]), dtype='float')\n",
      "X[0:X_train.shape[0]] = X_train\n",
      "X[X_train.shape[0]:] = X_test\n",
      "print X_train.shape, X_test.shape, X.shape"
     ],
     "language": "python",
     "metadata": {},
     "outputs": [
      {
       "output_type": "stream",
       "stream": "stdout",
       "text": [
        "(900, 216) (903, 216) (1803, 216)\n"
       ]
      }
     ],
     "prompt_number": 10
    },
    {
     "cell_type": "code",
     "collapsed": false,
     "input": [
      "from sklearn import preprocessing\n",
      "X_preprocessed = preprocessing.scale(X)\n",
      "print X_preprocessed.shape\n",
      "X_train_preprocessed = X_preprocessed[0:X_train.shape[0]]\n",
      "X_test_preprocessed = X_preprocessed[X_train.shape[0]:]\n",
      "print X_train_preprocessed.shape, X_test_preprocessed.shape"
     ],
     "language": "python",
     "metadata": {},
     "outputs": [
      {
       "output_type": "stream",
       "stream": "stdout",
       "text": [
        "(1803, 216)\n",
        "(900, 216) (903, 216)\n"
       ]
      }
     ],
     "prompt_number": 11
    },
    {
     "cell_type": "code",
     "collapsed": false,
     "input": [
      "from sklearn.grid_search import GridSearchCV\n",
      "from sklearn.neighbors import KNeighborsClassifier as KNN\n",
      "from sklearn.metrics import roc_auc_score\n",
      "\n",
      "import time\n",
      "\n",
      "params = {'n_neighbors': np.arange(1, 200, 5), 'p': [2]}\n",
      "grid_searcher = GridSearchCV(KNN(),\\\n",
      "                             params, cv=5, scoring='roc_auc', n_jobs=4)\n",
      "start = time.time()\n",
      "grid_searcher.fit(X_train_preprocessed, y_train)\n",
      "print \"Fit is completed. Time: %f\" % (time.time() - start)\n",
      "\n",
      "print grid_searcher.best_score_\n",
      "print grid_searcher.best_estimator_"
     ],
     "language": "python",
     "metadata": {},
     "outputs": [
      {
       "output_type": "stream",
       "stream": "stdout",
       "text": [
        "Fit is completed. Time: 5.897437\n",
        "0.955666762867\n",
        "KNeighborsClassifier(algorithm=auto, leaf_size=30, metric=minkowski,\n",
        "           n_neighbors=86, p=2, weights=uniform)\n"
       ]
      }
     ],
     "prompt_number": 12
    },
    {
     "cell_type": "code",
     "collapsed": false,
     "input": [
      "def plot_quality(grid_searcher, param_name):\n",
      "    means = []\n",
      "    stds = []\n",
      "    for elem in grid_searcher.grid_scores_:\n",
      "        means.append(np.mean(elem.cv_validation_scores))\n",
      "        stds.append(np.sqrt(np.var(elem.cv_validation_scores)))\n",
      "    means = np.array(means)\n",
      "    stds = np.array(stds)\n",
      "    \n",
      "    params = grid_searcher.param_grid\n",
      "    \n",
      "    plt.figure(figsize=(8, 6))\n",
      "    plt.plot(params[param_name], means)\n",
      "    fill_between(params[param_name], \\\n",
      "                 means + stds, means - stds, alpha = 0.3, facecolor='blue')\n",
      "    xlabel(param_name)\n",
      "    ylabel('AUC')"
     ],
     "language": "python",
     "metadata": {},
     "outputs": [],
     "prompt_number": 13
    },
    {
     "cell_type": "code",
     "collapsed": false,
     "input": [
      "plot_quality(grid_searcher, 'n_neighbors')"
     ],
     "language": "python",
     "metadata": {},
     "outputs": [
      {
       "metadata": {},
       "output_type": "display_data",
       "png": "[encoded data removed]",
       "text": [
        "<matplotlib.figure.Figure at 0x103a17110>"
       ]
      }
     ],
     "prompt_number": 14
    },
    {
     "cell_type": "code",
     "collapsed": false,
     "input": [
      "params = {'n_neighbors': np.arange(50, 100, 1), 'p': [2]}\n",
      "grid_searcher = GridSearchCV(KNN(),\\\n",
      "                             params, cv=5, scoring='roc_auc', n_jobs=4)\n",
      "start = time.time()\n",
      "grid_searcher.fit(X_train_preprocessed, y_train)\n",
      "print \"Fit is completed. Time: %f\" % (time.time() - start)\n",
      "\n",
      "print grid_searcher.best_score_\n",
      "print grid_searcher.best_estimator_"
     ],
     "language": "python",
     "metadata": {},
     "outputs": [
      {
       "output_type": "stream",
       "stream": "stdout",
       "text": [
        "Fit is completed. Time: 8.565996\n",
        "0.95581525306\n",
        "KNeighborsClassifier(algorithm=auto, leaf_size=30, metric=minkowski,\n",
        "           n_neighbors=88, p=2, weights=uniform)\n"
       ]
      }
     ],
     "prompt_number": 15
    },
    {
     "cell_type": "code",
     "collapsed": false,
     "input": [
      "clf = grid_searcher.best_estimator_.fit(X_train_preprocessed, y_train)\n",
      "results = clf.predict_proba(X_test_preprocessed)[:, 1]\n",
      "f = open('y.test.baseline.scaled.csv', 'w')\n",
      "print >> f, 'Id,Prediction'\n",
      "for i, result in enumerate(results):\n",
      "    print >> f, str(i+1) + ',' + str(result)\n",
      "f.close()"
     ],
     "language": "python",
     "metadata": {},
     "outputs": [],
     "prompt_number": 16
    },
    {
     "cell_type": "markdown",
     "metadata": {},
     "source": [
      "#Data set for Matrixnet"
     ]
    },
    {
     "cell_type": "code",
     "collapsed": false,
     "input": [
      "with open('train_for_matrixnet.txt', 'w') as output:\n",
      "    for ind, obj in enumerate(X_train_preprocessed):\n",
      "        output.write(str(ind) + '\\t' + str(y_train[ind]) + '\\turl\\t' + str(ind) + '\\t' + '\\t'.join(obj.astype(str)) + '\\n')"
     ],
     "language": "python",
     "metadata": {},
     "outputs": [],
     "prompt_number": 44
    },
    {
     "cell_type": "code",
     "collapsed": false,
     "input": [
      "with open('test_for_matrixnet.txt', 'w') as output:\n",
      "    for ind, obj in enumerate(X_test_preprocessed):\n",
      "        output.write(str(ind + X_train_preprocessed.shape[0]) + '\\t0\\turl\\t' + str(ind + X_train_preprocessed.shape[0]) + '\\t' + '\\t'.join(obj.astype(str)) + '\\n')"
     ],
     "language": "python",
     "metadata": {},
     "outputs": [],
     "prompt_number": 46
    },
    {
     "cell_type": "code",
     "collapsed": false,
     "input": [],
     "language": "python",
     "metadata": {},
     "outputs": []
    }
   ],
   "metadata": {}
  }
 ]
}