{
 "cells": [
  {
   "cell_type": "code",
   "execution_count": 49,
   "metadata": {
    "collapsed": false
   },
   "outputs": [],
   "source": [
    "def transpose(container):\n",
    "    result = []\n",
    "    for sub_container_index, sub_container in enumerate(container):\n",
    "        for elem_index, elem in enumerate(sub_container):\n",
    "            if len(result) < elem_index + 1:\n",
    "                result.append([])\n",
    "                result[elem_index].append(elem)\n",
    "            else:\n",
    "                result[elem_index].append(elem)\n",
    "    return [tuple(c) for c in result]"
   ]
  },
  {
   "cell_type": "code",
   "execution_count": 50,
   "metadata": {
    "collapsed": false
   },
   "outputs": [
    {
     "data": {
      "text/plain": [
       "[(1, 3, 5), (2, 4, 6)]"
      ]
     },
     "execution_count": 50,
     "metadata": {},
     "output_type": "execute_result"
    }
   ],
   "source": [
    "transpose([(1, 2), (3, 4), (5, 6)])"
   ]
  },
  {
   "cell_type": "code",
   "execution_count": 59,
   "metadata": {
    "collapsed": false
   },
   "outputs": [],
   "source": [
    "def product(container1, container2):\n",
    "    result = []\n",
    "    for a, b in zip(container1, container2):\n",
    "        result.append(a * b)\n",
    "    return sum(result)"
   ]
  },
  {
   "cell_type": "code",
   "execution_count": 60,
   "metadata": {
    "collapsed": false
   },
   "outputs": [
    {
     "data": {
      "text/plain": [
       "32"
      ]
     },
     "execution_count": 60,
     "metadata": {},
     "output_type": "execute_result"
    }
   ],
   "source": [
    "product([1, 2, 3], [4, 5, 6])"
   ]
  },
  {
   "cell_type": "code",
   "execution_count": 61,
   "metadata": {
    "collapsed": false
   },
   "outputs": [
    {
     "data": {
      "text/plain": [
       "1"
      ]
     },
     "execution_count": 61,
     "metadata": {},
     "output_type": "execute_result"
    }
   ],
   "source": [
    "product([1], [1, 1, 1])"
   ]
  },
  {
   "cell_type": "code",
   "execution_count": 62,
   "metadata": {
    "collapsed": false
   },
   "outputs": [],
   "source": [
    "def uniq(container):\n",
    "    return list(set(container))"
   ]
  },
  {
   "cell_type": "code",
   "execution_count": 63,
   "metadata": {
    "collapsed": false
   },
   "outputs": [
    {
     "data": {
      "text/plain": [
       "[1, 2, 3]"
      ]
     },
     "execution_count": 63,
     "metadata": {},
     "output_type": "execute_result"
    }
   ],
   "source": [
    "uniq([1, 2, 3, 1, 2, 3])"
   ]
  },
  {
   "cell_type": "code",
   "execution_count": 64,
   "metadata": {
    "collapsed": true
   },
   "outputs": [],
   "source": [
    "def dict_merge(*args):\n",
    "    result = {}\n",
    "    for diction in args:\n",
    "        for key, value in diction.iteritems():\n",
    "            result[key] = value\n",
    "    return result"
   ]
  },
  {
   "cell_type": "code",
   "execution_count": 65,
   "metadata": {
    "collapsed": false
   },
   "outputs": [
    {
     "data": {
      "text/plain": [
       "{1: 3, 2: 3, 3: 3}"
      ]
     },
     "execution_count": 65,
     "metadata": {},
     "output_type": "execute_result"
    }
   ],
   "source": [
    "dict_merge({1:3, 2:2}, {2:3, 3:3})"
   ]
  },
  {
   "cell_type": "code",
   "execution_count": 66,
   "metadata": {
    "collapsed": false
   },
   "outputs": [
    {
     "name": "stderr",
     "output_type": "stream",
     "text": [
      ".............\n",
      "----------------------------------------------------------------------\n",
      "Ran 13 tests in 19.734s\n",
      "\n",
      "OK\n"
     ]
    },
    {
     "data": {
      "text/plain": [
       "<unittest.runner.TextTestResult run=13 errors=0 failures=0>"
      ]
     },
     "execution_count": 66,
     "metadata": {},
     "output_type": "execute_result"
    }
   ],
   "source": [
    "# -*- coding: utf-8 -*-\n",
    "\n",
    "import unittest\n",
    "import itertools\n",
    "import operator\n",
    "\n",
    "class TestDictMerge(unittest.TestCase):\n",
    "    def test_trivial(self):\n",
    "        self.assertDictEqual(dict_merge({1:2}), {1:2})\n",
    "        self.assertDictEqual(dict_merge({}), {})\n",
    "\n",
    "    def test_generic(self):\n",
    "        self.assertDictEqual(dict_merge({}, {}, {}, {}), {})\n",
    "        self.assertDictEqual(dict_merge({1:2}, {}, {}, {}), {1:2})\n",
    "        self.assertDictEqual(dict_merge({1:3}, {}, {}, {1:5}), {1:5})\n",
    "        self.assertDictEqual(dict_merge({1:1}, {2:2}, {3:3}, {4:4}), {1:1, 2:2, 3:3, 4:4})\n",
    "        self.assertDictEqual(dict_merge({1:3, 2:2}, {2:3, 3:3}), {1:3, 2:3, 3:3})\n",
    "        self.assertDictEqual(dict_merge({1:3, 2:2}, {2:3, 3:3}), {1:3, 2:3, 3:3})\n",
    "        self.assertDictEqual(dict_merge({1:1}, {1:2}, {1:3}, {1:4}), {1:4})\n",
    "\n",
    "\n",
    "class TestUniq(unittest.TestCase):\n",
    "    def test_trivial(self):\n",
    "        self.assertListEqual(list(uniq([])), [])\n",
    "        self.assertListEqual(list(uniq([1])), [1])\n",
    "\n",
    "    def test_generic(self):\n",
    "        self.assertListEqual(list(uniq([1, 1, 1, 1, 1])), [1])\n",
    "        self.assertListEqual(list(uniq(range(5))), range(5))\n",
    "        self.assertListEqual(list(uniq([1, 2, 3, 1, 2, 3])), [1, 2, 3])\n",
    "\n",
    "    def test_iter(self):\n",
    "        self.assertListEqual(list(uniq(xrange(5))), range(5))\n",
    "        self.assertListEqual(list(uniq(itertools.repeat(1, 1000))), [1])\n",
    "\n",
    "    def test_large(self):\n",
    "        self.assertListEqual(list(uniq(itertools.repeat(1, 10 ** 7))), [1])\n",
    "        self.assertListEqual(\n",
    "            list(uniq(itertools.islice(itertools.cycle([1, 2, 3]), 10 ** 7))),\n",
    "            [1, 2, 3]\n",
    "        )\n",
    "\n",
    "\n",
    "class TestTranspose(unittest.TestCase):\n",
    "    def test_trivial(self):\n",
    "        self.assertListEqual(list(transpose([])), [])\n",
    "        self.assertListEqual(list(transpose([(1,2)])), [(1,), (2,)])\n",
    "\n",
    "    def test_generic(self):\n",
    "        self.assertListEqual(list(transpose([(1, 1), (1, 1)])), [(1, 1), (1, 1)])\n",
    "        self.assertListEqual(\n",
    "            list(transpose([(1, 1), (2, 2), (3, 3)])),\n",
    "            [(1, 2, 3), (1, 2, 3)]\n",
    "        )\n",
    "\n",
    "    def test_large(self):\n",
    "        self.assertListEqual(\n",
    "            list(transpose(itertools.izip(xrange(10 ** 7), xrange(10 ** 7)))),\n",
    "            [tuple(range(10 ** 7)), tuple(range(10 ** 7))]\n",
    "        )\n",
    "\n",
    "class TestProduct(unittest.TestCase):\n",
    "    def test_trivial(self):\n",
    "        self.assertEqual(product([], []), 0)\n",
    "        self.assertEqual(product([1], [1]), 1)\n",
    "\n",
    "    def test_generic(self):\n",
    "        self.assertEqual(product([1, 2, 3], [1, 2, 3]), 14)\n",
    "        self.assertEqual(product([1, 1, 1], [1, 1, 1]), 3)\n",
    "\n",
    "    def test_different_len(self):\n",
    "        self.assertEqual(product([1], [1, 1, 1]), 1)\n",
    "        self.assertEqual(product([1, 1], [1]), 1)\n",
    "\n",
    "    def test_large(self):\n",
    "        self.assertEqual(\n",
    "            product(xrange(10 ** 7), xrange(10 ** 7)),\n",
    "            333333283333335000000L\n",
    "        )\n",
    "        self.assertEqual(\n",
    "            product(itertools.repeat(1, 10 ** 7), itertools.repeat(1, 10 ** 7)),\n",
    "            10 ** 7\n",
    "        )\n",
    "\n",
    "loader = unittest.TestLoader()\n",
    "suite = unittest.TestSuite()\n",
    "for test_class in (TestDictMerge, TestProduct, TestTranspose, TestUniq):\n",
    "    tests = loader.loadTestsFromTestCase(test_class)\n",
    "    suite.addTests(tests)\n",
    "unittest.TextTestRunner().run(suite)"
   ]
  },
  {
   "cell_type": "code",
   "execution_count": null,
   "metadata": {
    "collapsed": true
   },
   "outputs": [],
   "source": []
  }
 ],
 "metadata": {
  "kernelspec": {
   "display_name": "Python 2",
   "language": "python",
   "name": "python2"
  },
  "language_info": {
   "codemirror_mode": {
    "name": "ipython",
    "version": 2
   },
   "file_extension": ".py",
   "mimetype": "text/x-python",
   "name": "python",
   "nbconvert_exporter": "python",
   "pygments_lexer": "ipython2",
   "version": "2.7.10"
  }
 },
 "nbformat": 4,
 "nbformat_minor": 0
}
