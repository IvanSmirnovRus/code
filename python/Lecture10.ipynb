{
 "cells": [
  {
   "cell_type": "code",
   "execution_count": 26,
   "metadata": {
    "collapsed": false
   },
   "outputs": [
    {
     "name": "stderr",
     "output_type": "stream",
     "text": [
      "Bottle v0.12.9 server starting up (using WSGIRefServer())...\n",
      "Listening on http://localhost:8080/\n",
      "Hit Ctrl-C to quit.\n",
      "\n"
     ]
    }
   ],
   "source": [
    "from bottle import route, run, static_file, request\n",
    "import urllib\n",
    "import os\n",
    "\n",
    "author_template = '<h4>{}</h4>'\n",
    "book_tempalte = '<a href={}> {} </a><br/>'\n",
    "url_template = '/lib/book?{}'\n",
    "@route('/hello')\n",
    "def hello():\n",
    "    return 'Hello, World!'\n",
    "\n",
    "@route('/lib/index')\n",
    "def get_index():\n",
    "    result = ''\n",
    "    for author in os.listdir('./homework3/corpus/'):\n",
    "        result += author_template.format(author)\n",
    "        for book in os.listdir('./homework3/corpus/' + author):\n",
    "            args = { 'author' : author, 'book': book}\n",
    "            url = url_template.format(urllib.urlencode(args))\n",
    "            result += book_tempalte.format(url ,book)\n",
    "    return result\n",
    "\n",
    "\n",
    "@route('/lib/book')\n",
    "def get_book():\n",
    "    book = '{}/{}'.format(request.query.author, request.query.book) \n",
    "    return static_file(book, root= './homework3/corpus/')\n",
    "\n",
    "\n",
    "run(host='localhost', port=8080, debug=True)"
   ]
  },
  {
   "cell_type": "code",
   "execution_count": 136,
   "metadata": {
    "collapsed": false
   },
   "outputs": [
    {
     "name": "stdout",
     "output_type": "stream",
     "text": [
      "200 windows-1251\n",
      "Картинки по запросу  <b>banana</b>\n",
      "<b>banana</b> .by - 50 оттенков жёлтого - Новости, приколы, хреновости\n",
      "Гадкий Я -  <b>Банана</b>  - YouTube\n",
      "<b>Banana</b>  - Wikipedia, the free encyclopedia\n",
      "<b>Banana</b>  Republic: Clothes, Shoes, and Accessories for Women and  <b>...</b>\n",
      "<b>Banana</b>  4* (Турция/Аланья). Рейтинг отелей и гостиниц мира  <b>...</b>\n",
      "sale: women's sale |  <b>Banana</b>  Republic\n",
      "<b>Banana</b>  Republic\n",
      "<b>Banana</b>  Republic Online Credit Center - Onlinecreditcenter6.com\n",
      "<b>Банан</b>  - полезные и опасные свойства  <b>банана</b>  - EdaPlus.Info\n",
      "<div class=\"_fce _Qbe\">Банан (Плод)</div> <div class=\"_Vbe\">Банан — название съедобных плодов культивируемых видов ...</div>\n"
     ]
    }
   ],
   "source": [
    "from requests import get, post\n",
    "import urllib\n",
    "from bs4 import BeautifulSoup\n",
    "\n",
    "query_template = 'https://www.google.ru/search?{}'\n",
    "\n",
    "def main(query):\n",
    "\turl = query_template.format(urllib.urlencode({'q' : query}))\n",
    "\treq = get(url)\n",
    "\tprint req.status_code, req.encoding\n",
    "\tsoup = BeautifulSoup(req.content.decode(req.encoding), \"lxml\")\n",
    "\tfor li in soup.findAll('li', attrs={'class' : 'g'}):\n",
    "\t\tlink = li.find('a')\n",
    "\t\tif link:\n",
    "\t\t\tprint u' '.join(map(unicode, link.contents))\t\n",
    "\n",
    "if __name__ == '__main__':\n",
    "\tquery = 'banana'\n",
    "\tmain(query)"
   ]
  }
 ],
 "metadata": {
  "kernelspec": {
   "display_name": "Python 2",
   "language": "python",
   "name": "python2"
  },
  "language_info": {
   "codemirror_mode": {
    "name": "ipython",
    "version": 2
   },
   "file_extension": ".py",
   "mimetype": "text/x-python",
   "name": "python",
   "nbconvert_exporter": "python",
   "pygments_lexer": "ipython2",
   "version": "2.7.10"
  }
 },
 "nbformat": 4,
 "nbformat_minor": 0
}
