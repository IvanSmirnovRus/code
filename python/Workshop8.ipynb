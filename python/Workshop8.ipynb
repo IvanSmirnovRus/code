{
 "cells": [
  {
   "cell_type": "code",
   "execution_count": 1,
   "metadata": {
    "collapsed": true
   },
   "outputs": [],
   "source": [
    "def flatten(x):\n",
    "    for elem in x:\n",
    "        if ('__iter__' in dir(elem)):\n",
    "            for i in flatten(elem):\n",
    "                yield i\n",
    "        elif isinstance(elem, str):\n",
    "            for i in elem:\n",
    "                yield i\n",
    "        else:\n",
    "            yield elem"
   ]
  },
  {
   "cell_type": "code",
   "execution_count": 2,
   "metadata": {
    "collapsed": false
   },
   "outputs": [
    {
     "data": {
      "text/plain": [
       "[1, 2, 5, 6, 2, 't', 'e', 's', 't', 3, -5, -4]"
      ]
     },
     "execution_count": 2,
     "metadata": {},
     "output_type": "execute_result"
    }
   ],
   "source": [
    "list(flatten([[1,[[2,[5,[6,[2,'test']]]],3], range(-5,-3, 1)]]))"
   ]
  },
  {
   "cell_type": "code",
   "execution_count": 3,
   "metadata": {
    "collapsed": false
   },
   "outputs": [],
   "source": [
    "# coding: utf-8\n",
    "\n",
    "class Xrange(object):\n",
    "    def __init__(self, *args):\n",
    "        if len(args) == 1:\n",
    "            self.start = 0\n",
    "            self.stop = args[0]\n",
    "            self.step = 1\n",
    "        elif len(args) == 2:\n",
    "            self.start = args[0]\n",
    "            self.stop = args[1]\n",
    "            self.step = 1\n",
    "        else:\n",
    "            self.start = args[0]\n",
    "            self.stop = args[1]\n",
    "            self.step = args[2]\n",
    "        self.pos = self.start\n",
    "    \n",
    "    def __len__(self):\n",
    "        return (self.stop - self.start) / self.step\n",
    "    \n",
    "    def __repr__(self):\n",
    "        return 'xrange({}, {}, {})'.format(self.start, self.stop + 1, self.step)\n",
    "    \n",
    "    def __iter__(self):\n",
    "        return self\n",
    "        \n",
    "    def next(self):\n",
    "        temp = self.pos\n",
    "        if temp < self.stop:\n",
    "            self.pos += self.step\n",
    "            yield temp\n",
    "        else:\n",
    "            raise StopIteration\n",
    "            \n",
    "    def __getitem__(self, pos):\n",
    "        i = 0\n",
    "        elem = self.start\n",
    "        while (i < pos):\n",
    "            elem += self.step\n",
    "            i += 1\n",
    "        if elem < self.stop:    \n",
    "            return elem\n",
    "        else:\n",
    "            raise IndexError\n",
    "            \n",
    "    def __containse__(self, elem):\n",
    "        if (self.step <=elem < self.stop and not ((elem - self.start) % self.step)) :\n",
    "            return True\n",
    "        return Fasle"
   ]
  },
  {
   "cell_type": "code",
   "execution_count": null,
   "metadata": {
    "collapsed": true
   },
   "outputs": [],
   "source": [
    "assert (list(Xrange(3)) == list(xrange(3)))\n",
    "assert (list(Xrange(1, 4)) == list(xrange(1, 4)))\n",
    "assert (list(Xrange(-1, 100, 2)) == list(range(-1, 100, 2)))\n",
    "assert (list(Xrange(0, 0, 5)) == list(xrange(0, 0, 5)))\n",
    "assert (repr(Xrange(1, 15, 3)) == repr(xrange(1, 15, 3)))\n",
    "assert (Xrange(5)[1] == 1)\n",
    "assert (2 in Xrange(-5, 5))\n",
    "assert not (7 in Xrange(7))\n",
    "assert not (10 ** 18 in Xrange(10 ** 15))"
   ]
  },
  {
   "cell_type": "code",
   "execution_count": null,
   "metadata": {
    "collapsed": true
   },
   "outputs": [],
   "source": []
  }
 ],
 "metadata": {
  "kernelspec": {
   "display_name": "Python 2",
   "language": "python",
   "name": "python2"
  },
  "language_info": {
   "codemirror_mode": {
    "name": "ipython",
    "version": 2
   },
   "file_extension": ".py",
   "mimetype": "text/x-python",
   "name": "python",
   "nbconvert_exporter": "python",
   "pygments_lexer": "ipython2",
   "version": "2.7.10"
  }
 },
 "nbformat": 4,
 "nbformat_minor": 0
}
