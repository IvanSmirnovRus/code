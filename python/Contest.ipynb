{
 "cells": [
  {
   "cell_type": "code",
   "execution_count": null,
   "metadata": {
    "collapsed": true
   },
   "outputs": [],
   "source": [
    "import sys\n",
    "\n",
    "firstLine = True\n",
    "noN = True\n",
    "lines = []\n",
    "for line in sys.stdin:\n",
    "    if firstLine:\n",
    "        if '-n' not in line:\n",
    "            lines.append(line.rstrip())\n",
    "        else:\n",
    "            noN = False\n",
    "            n = int(line.rstrip().split()[1])\n",
    "        firstLine = False\n",
    "    else:\n",
    "        lines.append(line.rstrip())\n",
    "        \n",
    "if not Non:\n",
    "    for i, line in enumerate(lines):\n",
    "        if i >= (len(lines) - n):\n",
    "            print line\n",
    "else:\n",
    "    for line in lines:\n",
    "        print line"
   ]
  },
  {
   "cell_type": "code",
   "execution_count": null,
   "metadata": {
    "collapsed": true
   },
   "outputs": [],
   "source": [
    "import collections \n",
    "langs = {}\n",
    "c = collections.Counter()\n",
    "result = []\n",
    "for line in sys.stdin:\n",
    "    fio, task, time, lang, result = line.rstrip().split('\\t')\n",
    "    if result == 'OK':\n",
    "        if lang not in langs:\n",
    "            langs[lang] = [task]\n",
    "            c[lang] = 1\n",
    "        else:\n",
    "            if task not in langs[lang]:\n",
    "                langs[lang].append(task)\n",
    "                c[lang] += 1\n",
    "\n",
    "for k, v in c.most_common():\n",
    "    result.append((k, v))\n",
    "print result"
   ]
  },
  {
   "cell_type": "code",
   "execution_count": null,
   "metadata": {
    "collapsed": true
   },
   "outputs": [],
   "source": [
    "import itertools\n",
    "for line in sys.stdin:\n",
    "    first, second = line.rstrip().split()\n",
    "A = len(first)\n",
    "B = len(second)\n",
    "res = []\n",
    "for i in xrange(A):\n",
    "    res.append(1)\n",
    "for i in xrange(B):\n",
    "    res.append(2)\n",
    "print res"
   ]
  }
 ],
 "metadata": {
  "kernelspec": {
   "display_name": "Python 2",
   "language": "python",
   "name": "python2"
  },
  "language_info": {
   "codemirror_mode": {
    "name": "ipython",
    "version": 2
   },
   "file_extension": ".py",
   "mimetype": "text/x-python",
   "name": "python",
   "nbconvert_exporter": "python",
   "pygments_lexer": "ipython2",
   "version": "2.7.10"
  }
 },
 "nbformat": 4,
 "nbformat_minor": 0
}
