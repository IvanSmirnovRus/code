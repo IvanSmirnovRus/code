{
 "cells": [
  {
   "cell_type": "markdown",
   "metadata": {},
   "source": [
    "##Семинар 1"
   ]
  },
  {
   "cell_type": "markdown",
   "metadata": {},
   "source": [
    "#####Задача 1 \n",
    "Как уверяет один из людей, занимавшихся раньше собеседованиями на позицию разработчика в Google, треть кандидатов не может написать код для решения такой задачи:  \n",
    "Ваша программа должна выводить числа от 1 до 100, по одному числу на строку, заменяя числа делящиеся на 3 на слово 'Fuzz', числа делящиеся на 5 на слово 'Buzz', и числа делящиеся на 15 на слово 'FizzBuzz'"
   ]
  },
  {
   "cell_type": "code",
   "execution_count": 1,
   "metadata": {
    "collapsed": false
   },
   "outputs": [
    {
     "name": "stdout",
     "output_type": "stream",
     "text": [
      "1\n",
      "2\n",
      "Fuzz\n",
      "4\n",
      "Buzz\n",
      "Fuzz\n",
      "7\n",
      "8\n",
      "Fuzz\n",
      "Buzz\n",
      "11\n",
      "Fuzz\n",
      "13\n",
      "14\n",
      "FizzBuzz\n",
      "16\n",
      "17\n",
      "Fuzz\n",
      "19\n",
      "Buzz\n",
      "Fuzz\n",
      "22\n",
      "23\n",
      "Fuzz\n",
      "Buzz\n",
      "26\n",
      "Fuzz\n",
      "28\n",
      "29\n",
      "FizzBuzz\n",
      "31\n",
      "32\n",
      "Fuzz\n",
      "34\n",
      "Buzz\n",
      "Fuzz\n",
      "37\n",
      "38\n",
      "Fuzz\n",
      "Buzz\n",
      "41\n",
      "Fuzz\n",
      "43\n",
      "44\n",
      "FizzBuzz\n",
      "46\n",
      "47\n",
      "Fuzz\n",
      "49\n",
      "Buzz\n",
      "Fuzz\n",
      "52\n",
      "53\n",
      "Fuzz\n",
      "Buzz\n",
      "56\n",
      "Fuzz\n",
      "58\n",
      "59\n",
      "FizzBuzz\n",
      "61\n",
      "62\n",
      "Fuzz\n",
      "64\n",
      "Buzz\n",
      "Fuzz\n",
      "67\n",
      "68\n",
      "Fuzz\n",
      "Buzz\n",
      "71\n",
      "Fuzz\n",
      "73\n",
      "74\n",
      "FizzBuzz\n",
      "76\n",
      "77\n",
      "Fuzz\n",
      "79\n",
      "Buzz\n",
      "Fuzz\n",
      "82\n",
      "83\n",
      "Fuzz\n",
      "Buzz\n",
      "86\n",
      "Fuzz\n",
      "88\n",
      "89\n",
      "FizzBuzz\n",
      "91\n",
      "92\n",
      "Fuzz\n",
      "94\n",
      "Buzz\n",
      "Fuzz\n",
      "97\n",
      "98\n",
      "Fuzz\n",
      "Buzz\n"
     ]
    }
   ],
   "source": [
    "for i in xrange(1,101):\n",
    "    if not i%3 and i%15:\n",
    "        print 'Fuzz'\n",
    "    elif not i%5 and i%15:\n",
    "        print 'Buzz'\n",
    "    elif not i%15:\n",
    "        print 'FizzBuzz'\n",
    "    else:\n",
    "        print i"
   ]
  },
  {
   "cell_type": "markdown",
   "metadata": {},
   "source": [
    "#####Задача 2\n",
    "Как известно, счастливым билетиком называется такой, у которого сумма первых и последних трех цифр равны. Напишите функцию, которая для данного номера билетика(из шести цифр) найдет ближайший к нему счастливый."
   ]
  },
  {
   "cell_type": "code",
   "execution_count": 2,
   "metadata": {
    "collapsed": false
   },
   "outputs": [],
   "source": [
    "def is_happy(number):\n",
    "    if number > 1000000:\n",
    "        raise Exception\n",
    "    left, right = 0, 0\n",
    "    for i in str(number)[:3]:\n",
    "        left += int(i)\n",
    "    for i in str(number)[3:]:\n",
    "        right += int(i)\n",
    "    return left == right"
   ]
  },
  {
   "cell_type": "code",
   "execution_count": 3,
   "metadata": {
    "collapsed": true
   },
   "outputs": [],
   "source": [
    "def get_happy_ticket(number):\n",
    "    happy = is_happy(number)\n",
    "    left, right = number, number\n",
    "    while not happy:\n",
    "        right += 1\n",
    "        happy = is_happy(right)\n",
    "    happy = False\n",
    "    while not happy:\n",
    "        left -= 1\n",
    "        happy = is_happy(left)\n",
    "    return right if right - number < number - left else left"
   ]
  },
  {
   "cell_type": "markdown",
   "metadata": {},
   "source": [
    "#####Задача 3\n",
    "Напишите функцию реализующую стандартный алгоритм Евклида. Реализация должна занимать две строчки, считая название."
   ]
  },
  {
   "cell_type": "code",
   "execution_count": 4,
   "metadata": {
    "collapsed": true
   },
   "outputs": [],
   "source": [
    "def gcd(a, b):\n",
    "    return gcd(b, a%b) if a%b else b"
   ]
  },
  {
   "cell_type": "code",
   "execution_count": 5,
   "metadata": {
    "collapsed": true
   },
   "outputs": [],
   "source": [
    "def lcm(a ,b):\n",
    "    return a*b/gcd(a, b)"
   ]
  },
  {
   "cell_type": "markdown",
   "metadata": {},
   "source": [
    "#####Задача 4\n",
    "Напишите функцию подсчитывающую количество способов разбить n фантиков на монетки по 1, 5, 10 фантиков. n >= 0 и n<=50"
   ]
  },
  {
   "cell_type": "code",
   "execution_count": 137,
   "metadata": {
    "collapsed": false
   },
   "outputs": [],
   "source": [
    "def reduce_coins(number):\n",
    "    s = 0\n",
    "    for a in xrange(51):\n",
    "        for b in xrange(11):\n",
    "            for c in xrange(6):\n",
    "                if a + b*5 + c*10 == number:\n",
    "                    s += 1\n",
    "    return s"
   ]
  },
  {
   "cell_type": "code",
   "execution_count": 138,
   "metadata": {
    "collapsed": false
   },
   "outputs": [
    {
     "data": {
      "text/plain": [
       "36"
      ]
     },
     "execution_count": 138,
     "metadata": {},
     "output_type": "execute_result"
    }
   ],
   "source": [
    "reduce_coins(50)"
   ]
  },
  {
   "cell_type": "markdown",
   "metadata": {},
   "source": [
    "A - количество способов собрать из 1  \n",
    "B - количество способов собрать из 1 и из 5  \n",
    "С - количество способов собрать из 1 и из 5 и из 10  \n",
    "a[i]=a[i-1]  \n",
    "b[i]=b[i-5]+c[i-1]  \n",
    "c[i]=c[i-10]+b[i-10]+a[i-10]  "
   ]
  },
  {
   "cell_type": "code",
   "execution_count": 145,
   "metadata": {
    "collapsed": false
   },
   "outputs": [],
   "source": [
    "def reduce_coins(number):\n",
    "    a, b, c = [0, 1], [0, 0], [0, 0]\n",
    "    for i in xrange(2, number + 1):\n",
    "        if i-5 < 0:\n",
    "            a.append(a[i-1])\n",
    "            b.append(0)\n",
    "            c.append(0)\n",
    "        elif i-10< 0:\n",
    "            a.append(a[i-1])\n",
    "            b.append(a[i-1] + b[i-5])\n",
    "            c.append(0)\n",
    "        else:\n",
    "            a.append(a[i-1])\n",
    "            b.append(a[i-1] + b[i-5])\n",
    "            c.append(a[i-1] + b[i-10] + c[i-10])\n",
    "    return a[number] + b[number] + c[number]"
   ]
  },
  {
   "cell_type": "code",
   "execution_count": 147,
   "metadata": {
    "collapsed": false
   },
   "outputs": [
    {
     "data": {
      "text/plain": [
       "36"
      ]
     },
     "execution_count": 147,
     "metadata": {},
     "output_type": "execute_result"
    }
   ],
   "source": [
    "reduce_coins(50)"
   ]
  },
  {
   "cell_type": "code",
   "execution_count": null,
   "metadata": {
    "collapsed": true
   },
   "outputs": [],
   "source": []
  }
 ],
 "metadata": {
  "kernelspec": {
   "display_name": "Python 2",
   "language": "python",
   "name": "python2"
  },
  "language_info": {
   "codemirror_mode": {
    "name": "ipython",
    "version": 2
   },
   "file_extension": ".py",
   "mimetype": "text/x-python",
   "name": "python",
   "nbconvert_exporter": "python",
   "pygments_lexer": "ipython2",
   "version": "2.7.10"
  }
 },
 "nbformat": 4,
 "nbformat_minor": 0
}
