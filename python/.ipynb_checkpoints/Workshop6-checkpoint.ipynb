{
 "cells": [
  {
   "cell_type": "code",
   "execution_count": 6,
   "metadata": {
    "collapsed": false
   },
   "outputs": [],
   "source": [
    "a = [1, 2, \"3\", \"test\"]\n",
    "b = []\n",
    "for el in a:\n",
    "    try:\n",
    "        b.append(int(el))\n",
    "    except (ValueError):\n",
    "        pass"
   ]
  },
  {
   "cell_type": "code",
   "execution_count": 7,
   "metadata": {
    "collapsed": false
   },
   "outputs": [
    {
     "name": "stdout",
     "output_type": "stream",
     "text": [
      "[1, 2, 3]\n"
     ]
    }
   ],
   "source": [
    "print b"
   ]
  },
  {
   "cell_type": "code",
   "execution_count": null,
   "metadata": {
    "collapsed": true
   },
   "outputs": [],
   "source": []
  },
  {
   "cell_type": "code",
   "execution_count": 325,
   "metadata": {
    "collapsed": true
   },
   "outputs": [],
   "source": [
    "class Stack(object):\n",
    "    def __init__(self, elements = []):\n",
    "        self.elements = elements[:]\n",
    "    def push(self, el):\n",
    "        self.elements.append(el)\n",
    "    def pop(self):\n",
    "        return self.elements.pop()\n",
    "    def __len__(self):\n",
    "        return len(self.elements)"
   ]
  },
  {
   "cell_type": "code",
   "execution_count": 326,
   "metadata": {
    "collapsed": false
   },
   "outputs": [
    {
     "name": "stdout",
     "output_type": "stream",
     "text": [
      "0\n"
     ]
    }
   ],
   "source": [
    "s = Stack()\n",
    "m = Stack()\n",
    "s.push(1)\n",
    "print len(m)"
   ]
  },
  {
   "cell_type": "code",
   "execution_count": 327,
   "metadata": {
    "collapsed": false
   },
   "outputs": [
    {
     "name": "stdout",
     "output_type": "stream",
     "text": [
      "4594919832\n",
      "4600705464\n"
     ]
    }
   ],
   "source": [
    "k = Stack()\n",
    "n = Stack()\n",
    "print id(k.elements)\n",
    "print id(n.elements)"
   ]
  },
  {
   "cell_type": "code",
   "execution_count": 464,
   "metadata": {
    "collapsed": true
   },
   "outputs": [],
   "source": [
    "import urllib2\n",
    "url = 'https://gist.githubusercontent.com/veronika-i/a957bb492b376c02468e/raw/d69aa240e92a9b1e963f2c585b46bf205a020a8b/buggy_script.py'\n",
    "response = urllib2.urlopen(url)\n",
    "script = response.read()"
   ]
  },
  {
   "cell_type": "code",
   "execution_count": 470,
   "metadata": {
    "collapsed": false
   },
   "outputs": [
    {
     "name": "stdout",
     "output_type": "stream",
     "text": [
      "\n",
      "imprt  this\n",
      "improt that \n",
      "\n",
      "raise SystemError()\n",
      "\n",
      "def popper(data):\n",
      "\treturn data.pop()\n",
      "\n",
      "for \n",
      "\n",
      "def appender(data, x):\n",
      "\tdata.append(x)\n",
      "\n",
      "\n",
      "x = 1 / 0   # HAHAHAHAHA\n",
      "\n",
      "raise Banana('CATCH THAT')\n",
      "\n",
      "def i_am_so_broken:\n",
      "\toh, so broken \n",
      "\n",
      "холодильник\n",
      "\n",
      "\n",
      "\n"
     ]
    }
   ],
   "source": [
    "print script"
   ]
  },
  {
   "cell_type": "code",
   "execution_count": 481,
   "metadata": {
    "collapsed": false
   },
   "outputs": [
    {
     "name": "stdout",
     "output_type": "stream",
     "text": [
      "\n",
      "\n",
      "raise SystemError()\n",
      "\n",
      "def popper(data):\n",
      "\treturn data.pop()\n",
      "\n",
      "\n",
      "def appender(data, x):\n",
      "\tdata.append(x)\n",
      "\n",
      "\n",
      "x = 1 / 0   # HAHAHAHAHA\n",
      "\n",
      "raise Banana('CATCH THAT')\n",
      "\n",
      "\n",
      "\n",
      "\n",
      "\n"
     ]
    }
   ],
   "source": [
    "import traceback\n",
    "import sys\n",
    "lines = []\n",
    "prog = script.split('\\n')\n",
    "ee = False\n",
    "try:\n",
    "    while ee == False:\n",
    "        try:\n",
    "            exec \"\\n\".join(prog)\n",
    "        except SyntaxError as e:\n",
    "            del prog[e.lineno - 1]\n",
    "        else:\n",
    "            ee = True\n",
    "except:\n",
    "    print \"\\n\".join(prog)"
   ]
  },
  {
   "cell_type": "code",
   "execution_count": null,
   "metadata": {
    "collapsed": true
   },
   "outputs": [],
   "source": []
  }
 ],
 "metadata": {
  "kernelspec": {
   "display_name": "Python 2",
   "language": "python",
   "name": "python2"
  },
  "language_info": {
   "codemirror_mode": {
    "name": "ipython",
    "version": 2
   },
   "file_extension": ".py",
   "mimetype": "text/x-python",
   "name": "python",
   "nbconvert_exporter": "python",
   "pygments_lexer": "ipython2",
   "version": "2.7.10"
  }
 },
 "nbformat": 4,
 "nbformat_minor": 0
}
