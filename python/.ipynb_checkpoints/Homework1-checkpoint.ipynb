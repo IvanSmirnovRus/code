{
 "cells": [
  {
   "cell_type": "markdown",
   "metadata": {},
   "source": [
    "##Задача 1. Шифр Цезаря\n",
    "Напишите программу шифрующую переданную ей строку из латинских символов алго- ритмом Цезаря с ключем n, сдвигая каждый символ на n позиций по алфавиту. (При ключе 4: A переходит в E, L в P, Z в D итд). Не забудьте правильно обработать строчные и прописные буквы. (про шифр Цезаря подробнее можете почитать на википедии)  \n",
    "**Формат ввода**  \n",
    "В первой строке ключ шифра – целое число, которое может быть и отрицательным. Во второй – строка которую надо зашифровать  \n",
    "**Формат вывода**  \n",
    "Строка с зашифрованным текстом"
   ]
  },
  {
   "cell_type": "code",
   "execution_count": 217,
   "metadata": {
    "collapsed": true
   },
   "outputs": [],
   "source": [
    "import sys\n",
    "import string"
   ]
  },
  {
   "cell_type": "code",
   "execution_count": 218,
   "metadata": {
    "collapsed": true
   },
   "outputs": [],
   "source": [
    "def get_coded_letter(letter, shift):\n",
    "    if letter.islower():\n",
    "        alphabet = list(string.lowercase)\n",
    "        index = ord(letter) - ord('a')\n",
    "    elif letter.isupper():\n",
    "        alphabet = list(string.uppercase)\n",
    "        index = ord(letter) - ord('A')\n",
    "    else:\n",
    "        return 0\n",
    "    \n",
    "    shift = shift%len(alphabet)\n",
    "\n",
    "    while shift > 0:\n",
    "        shift -= 1\n",
    "        if index == len(alphabet) - 1:\n",
    "            index = 0\n",
    "        else:\n",
    "            index += 1\n",
    "    return chr(ord(alphabet[0]) + index)"
   ]
  },
  {
   "cell_type": "code",
   "execution_count": 219,
   "metadata": {
    "collapsed": false
   },
   "outputs": [
    {
     "ename": "ValueError",
     "evalue": "need more than 0 values to unpack",
     "output_type": "error",
     "traceback": [
      "\u001b[0;31m---------------------------------------------------------------------------\u001b[0m",
      "\u001b[0;31mValueError\u001b[0m                                Traceback (most recent call last)",
      "\u001b[0;32m<ipython-input-219-b1cebb1c694c>\u001b[0m in \u001b[0;36m<module>\u001b[0;34m()\u001b[0m\n\u001b[0;32m----> 1\u001b[0;31m \u001b[0mshift\u001b[0m\u001b[0;34m,\u001b[0m \u001b[0mtext\u001b[0m \u001b[0;34m=\u001b[0m \u001b[0msys\u001b[0m\u001b[0;34m.\u001b[0m\u001b[0mstdin\u001b[0m\u001b[0;34m.\u001b[0m\u001b[0mreadlines\u001b[0m\u001b[0;34m(\u001b[0m\u001b[0;34m)\u001b[0m\u001b[0;34m\u001b[0m\u001b[0m\n\u001b[0m\u001b[1;32m      2\u001b[0m \u001b[0mcoded_stroka\u001b[0m \u001b[0;34m=\u001b[0m \u001b[0;34m[\u001b[0m\u001b[0;34m]\u001b[0m\u001b[0;34m\u001b[0m\u001b[0m\n\u001b[1;32m      3\u001b[0m \u001b[0;32mfor\u001b[0m \u001b[0mletter\u001b[0m \u001b[0;32min\u001b[0m \u001b[0mtext\u001b[0m\u001b[0;34m:\u001b[0m\u001b[0;34m\u001b[0m\u001b[0m\n\u001b[1;32m      4\u001b[0m     \u001b[0mcoded_letter\u001b[0m \u001b[0;34m=\u001b[0m \u001b[0mget_coded_letter\u001b[0m\u001b[0;34m(\u001b[0m\u001b[0mletter\u001b[0m\u001b[0;34m,\u001b[0m \u001b[0mint\u001b[0m\u001b[0;34m(\u001b[0m\u001b[0mshift\u001b[0m\u001b[0;34m)\u001b[0m\u001b[0;34m)\u001b[0m\u001b[0;34m\u001b[0m\u001b[0m\n\u001b[1;32m      5\u001b[0m     \u001b[0;32mif\u001b[0m \u001b[0mcoded_letter\u001b[0m\u001b[0;34m:\u001b[0m\u001b[0;34m\u001b[0m\u001b[0m\n",
      "\u001b[0;31mValueError\u001b[0m: need more than 0 values to unpack"
     ]
    }
   ],
   "source": [
    "shift, text = sys.stdin.readlines()\n",
    "coded_stroka = []\n",
    "for letter in text:\n",
    "    coded_letter = get_coded_letter(letter, int(shift))\n",
    "    if coded_letter:\n",
    "        coded_stroka.append(coded_letter)\n",
    "    else:\n",
    "        coded_stroka.append(letter)\n",
    "        \n",
    "print \"\".join(coded_stroka)"
   ]
  },
  {
   "cell_type": "markdown",
   "metadata": {},
   "source": [
    "##Задача 2. Британские учёные\n",
    "Согласно одной, старой как интернет шутке, британские учёные доказали, что “Не ие- емт занчнеия, в кокам пряокде рсапожолены бкувы в солве” и “Галвоне, чотбы преавя и пслоендяя бквуы блыи на мсете.” , и, по их мнению, текст испорченный таким образом, читается без проблем. Напишите скрипт, который будет случайно перемешивать буквы в каждом слове поданного на вход английского текста, оставляя на месте первую и по- следнюю, и выводить результат на экран. Так как результат задания не детерминирован – обойдёмся в нём без тестов (кроме, конечно же, проверки стиля.). При выполнении при- годится функция random.shuffle  \n",
    "**Формат ввода**  \n",
    "Строка с текстом на английском языке.  \n",
    "**Формат вывода**  \n",
    "Преобразованная строка (по условию задачи изменяться должны только слова длиннее трёх букв)"
   ]
  },
  {
   "cell_type": "code",
   "execution_count": 147,
   "metadata": {
    "collapsed": true
   },
   "outputs": [],
   "source": [
    "import string\n",
    "import random\n",
    "import sys"
   ]
  },
  {
   "cell_type": "code",
   "execution_count": 174,
   "metadata": {
    "collapsed": true
   },
   "outputs": [],
   "source": [
    "class Queue(object):\n",
    "    \n",
    "    def __init__(self):\n",
    "        self.queue = []\n",
    "    \n",
    "    def __str__(self):\n",
    "        return str(self.queue)\n",
    "    \n",
    "    def empty(self):\n",
    "        if len(self.queue) > 0:\n",
    "            return 0\n",
    "        else:\n",
    "            return 1       \n",
    "    \n",
    "    def head(self):\n",
    "        if not self.empty():\n",
    "            return self.queue[0]\n",
    "        else:\n",
    "            return \"Queue is Empty!\"\n",
    "        \n",
    "    def tail(self):\n",
    "        if not self.empty():\n",
    "            return self.queue[-1]\n",
    "        else:\n",
    "            return \"Queue is Empty!\"\n",
    "        \n",
    "    def enqueue(self, value):\n",
    "        self.queue.append(value)\n",
    "        return value  \n",
    "    \n",
    "    def dequeue(self):\n",
    "        if not self.empty():\n",
    "            head = self.head()\n",
    "            self.queue = self.queue[1:]\n",
    "            return head\n",
    "        else:\n",
    "            return \"Queue is Empty!\"   "
   ]
  },
  {
   "cell_type": "code",
   "execution_count": 196,
   "metadata": {
    "collapsed": false
   },
   "outputs": [],
   "source": [
    "text = sys.stdin.readline()"
   ]
  },
  {
   "cell_type": "code",
   "execution_count": 197,
   "metadata": {
    "collapsed": false
   },
   "outputs": [],
   "source": [
    "shuffled_text = []\n",
    "for word in text.split():\n",
    "    letters = [symbol for symbol in word if symbol not in string.punctuation]    \n",
    "    if len(letters) > 3:\n",
    "        middle_word = letters[1:-1]\n",
    "        random.shuffle(middle_word)\n",
    "        shuffled_word = letters[0] + ''.join(middle_word) + letters[-1] \n",
    "    else:\n",
    "        shuffled_word = ''.join(letters)\n",
    "    queue = Queue()\n",
    "    for letter in shuffled_word:\n",
    "        queue.enqueue(letter)\n",
    "    shuffled_text.append(''.join([symbol if symbol in string.punctuation  else queue.dequeue() for symbol in word]))"
   ]
  },
  {
   "cell_type": "code",
   "execution_count": 198,
   "metadata": {
    "collapsed": false
   },
   "outputs": [
    {
     "name": "stdout",
     "output_type": "stream",
     "text": [
      "\n"
     ]
    }
   ],
   "source": [
    "print (' '.join(shuffled_text))"
   ]
  },
  {
   "cell_type": "markdown",
   "metadata": {},
   "source": [
    "##Задача 3. Интерпретатор арифметики\n",
    "Напишите код интерпретатора арифметических выражений. Он должен поддерживать ра- боту с операциями +, −, ∗, /, ∗∗ и скобками (любой вложенности) для целых и дробных чисел. Числа могут быть отрицательными. Унарный минус для скобок поддерживать не нужно. Функцией eval пользоваться нельзя. Приоритет операторов такой же как в python.  \n",
    "**Формат ввода**  \n",
    "Строка – корректное арифметическое выражение содержащее до 200 элементов разделён- ных пробелами. Возможные элементы: +, -, \\*, /, \\*\\*, (, ), целые и дробные числа. Если число отрицательное, то минус с ним пишется слитно.  \n",
    "**Формат вывода**  \n",
    "Число – результат выполнения операции"
   ]
  },
  {
   "cell_type": "code",
   "execution_count": 123,
   "metadata": {
    "collapsed": false
   },
   "outputs": [],
   "source": [
    "class Operator(object):\n",
    "    def __init__(self, symbol):\n",
    "        self.symbol = symbol\n",
    "        self.priority = {'+': 1, '-': 1, '*': 2, '/': 2, '%': 2, '**': 3}[symbol]\n",
    "        self.associativity = {'+': 'l', '-': 'l', '*': 'l', '/': 'l', '%': 'l', '**': 'r'}[symbol]\n",
    "    \n",
    "    def __call__(self, first_operand, second_operand):\n",
    "        if self.symbol == '/':\n",
    "            return first_operand / second_operand\n",
    "        elif self.symbol == '*':\n",
    "            return first_operand * second_operand\n",
    "        elif self.symbol == '-':\n",
    "            return first_operand - second_operand\n",
    "        elif self.symbol == '+':\n",
    "            return first_operand + second_operand\n",
    "        elif self.symbol == '**':\n",
    "            return first_operand ** second_operand\n",
    "        \n",
    "    def __str__(self):\n",
    "        return self.symbol"
   ]
  },
  {
   "cell_type": "code",
   "execution_count": 124,
   "metadata": {
    "collapsed": true
   },
   "outputs": [],
   "source": [
    "class Stack(object):\n",
    "    \n",
    "    def __init__(self):\n",
    "        self.stack = []\n",
    "        \n",
    "    def __str__(self):\n",
    "        return str(self.stack)\n",
    "    \n",
    "    def empty(self):\n",
    "        if len(self.stack) > 0:\n",
    "            return 0\n",
    "        else:\n",
    "            return 1\n",
    "        \n",
    "    def top(self):\n",
    "        if not self.empty():\n",
    "            return self.stack[-1]\n",
    "        else:\n",
    "            return \"Stack is Empty!\"\n",
    "    \n",
    "    def push(self, value):\n",
    "        self.stack.append(value)\n",
    "        return value\n",
    "    \n",
    "    def pop(self):\n",
    "        if not self.empty():\n",
    "            top = self.top()\n",
    "            self.stack = self.stack[:-1]\n",
    "            return top\n",
    "        else:\n",
    "            return \"Stack is Empty!\"   "
   ]
  },
  {
   "cell_type": "code",
   "execution_count": 125,
   "metadata": {
    "collapsed": true
   },
   "outputs": [],
   "source": [
    "def isoperator(symbol):\n",
    "    if symbol in ['+','-','*','/','**']:\n",
    "        return True\n",
    "    else:\n",
    "        return False"
   ]
  },
  {
   "cell_type": "code",
   "execution_count": 141,
   "metadata": {
    "collapsed": true
   },
   "outputs": [],
   "source": [
    "class RPN(object):\n",
    "    def __init__(self, expression):\n",
    "        self.rpn = []\n",
    "        stack = Stack()\n",
    "        for symbol in text.split(' '):\n",
    "            if symbol.isdigit():\n",
    "                self.rpn.append(symbol)\n",
    "            if symbol not in priority and symbol.startswith('-'):\n",
    "                self.rpn.append('!' + symbol[1:])\n",
    "            if '.' in symbol:\n",
    "                self.rpn.append(symbol)\n",
    "            elif isoperator(symbol):\n",
    "                operator = Operator(symbol)\n",
    "                while not stack.empty() and isinstance(stack.top(), Operator) and (operator.associativity == 'l' and operator.priority <= stack.top().priority or operator.associativity == 'r' and operator.priority < stack.top().priority):\n",
    "                    self.rpn.append(stack.pop())\n",
    "                stack.push(operator)\n",
    "            elif symbol == '(':\n",
    "                stack.push(symbol)\n",
    "            elif symbol == ')':\n",
    "                while not stack.empty() and stack.top() != '(':\n",
    "                    self.rpn.append(stack.pop())\n",
    "                if stack.top() == '(':\n",
    "                    stack.pop()\n",
    "                else:\n",
    "                    print 'Incorrect expression!'\n",
    "        while not stack.empty():\n",
    "            self.rpn.append(stack.pop())\n",
    "            \n",
    "    def __str__(self):\n",
    "        return ''.join([str(x) for x in self.rpn])\n",
    "    \n",
    "    def calc(self):\n",
    "        stack = Stack()\n",
    "        for symbol in self.rpn:\n",
    "            if isinstance(symbol, Operator):\n",
    "                b = stack.pop()\n",
    "                a = stack.pop()\n",
    "                stack.push(symbol(float(a),float(b)))\n",
    "            elif symbol.isdigit():\n",
    "                stack.push(symbol)\n",
    "            elif symbol.startswith('!'):\n",
    "                stack.push('-' + symbol[1:])\n",
    "            elif '.' in symbol:\n",
    "                stack.push(symbol)\n",
    "        return stack.pop()"
   ]
  },
  {
   "cell_type": "code",
   "execution_count": 143,
   "metadata": {
    "collapsed": false
   },
   "outputs": [
    {
     "data": {
      "text/plain": [
       "31.0"
      ]
     },
     "execution_count": 143,
     "metadata": {},
     "output_type": "execute_result"
    }
   ],
   "source": [
    "a = RPN(\"1 + 2 * ( 1 + 2 * ( 1 + 2 * ( 1 + 2 ) ) )\")\n",
    "a.calc()"
   ]
  }
 ],
 "metadata": {
  "kernelspec": {
   "display_name": "Python 2",
   "language": "python",
   "name": "python2"
  },
  "language_info": {
   "codemirror_mode": {
    "name": "ipython",
    "version": 2
   },
   "file_extension": ".py",
   "mimetype": "text/x-python",
   "name": "python",
   "nbconvert_exporter": "python",
   "pygments_lexer": "ipython2",
   "version": "2.7.10"
  }
 },
 "nbformat": 4,
 "nbformat_minor": 0
}
