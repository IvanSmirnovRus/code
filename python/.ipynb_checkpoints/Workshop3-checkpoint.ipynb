{
 "cells": [
  {
   "cell_type": "markdown",
   "metadata": {},
   "source": [
    "## Задача1"
   ]
  },
  {
   "cell_type": "markdown",
   "metadata": {},
   "source": [
    "Создайте класс SortedDict, унаследовав его от dict. \n",
    "При печати с помощью print его элементы должны быть упорядочены по ключам."
   ]
  },
  {
   "cell_type": "code",
   "execution_count": 13,
   "metadata": {
    "collapsed": false
   },
   "outputs": [],
   "source": [
    "class SortedDict(dict):\n",
    "    def __str__(self):\n",
    "        return str(sorted(self.items()))"
   ]
  },
  {
   "cell_type": "code",
   "execution_count": 14,
   "metadata": {
    "collapsed": true
   },
   "outputs": [],
   "source": [
    "d ={ 'c': 0,'a': 1, 'b': 3}"
   ]
  },
  {
   "cell_type": "code",
   "execution_count": 18,
   "metadata": {
    "collapsed": true
   },
   "outputs": [],
   "source": [
    "a = SortedDict(d)"
   ]
  },
  {
   "cell_type": "code",
   "execution_count": 19,
   "metadata": {
    "collapsed": false
   },
   "outputs": [
    {
     "name": "stdout",
     "output_type": "stream",
     "text": [
      "[('a', 1), ('b', 3), ('c', 0)]\n"
     ]
    }
   ],
   "source": [
    "print a"
   ]
  },
  {
   "cell_type": "markdown",
   "metadata": {},
   "source": [
    "##Задача2"
   ]
  },
  {
   "cell_type": "code",
   "execution_count": 303,
   "metadata": {
    "collapsed": false
   },
   "outputs": [],
   "source": [
    "class Matrix(object):\n",
    "    def __init__(self, array2d):\n",
    "        self.array2d = array2d\n",
    "    \n",
    "    def __str__(self):\n",
    "        return str(self.array2d)\n",
    "    \n",
    "    def __sub__(self, other):\n",
    "        l = []\n",
    "        for i in xrange(len(self.array2d)):\n",
    "            for j in xrange(len(self.array2d[0])):\n",
    "                if j==0:\n",
    "                    l.append([])\n",
    "                    l[i]=[self.array2d[i][j] - other.array2d[i][j]]\n",
    "                else:\n",
    "                    l[i].append(self.array2d[i][j] - other.array2d[i][j])\n",
    "        return Matrix(l)\n",
    "    \n",
    "    def __add__(self, other):\n",
    "        l = []\n",
    "        for i in xrange(len(self.array2d)):\n",
    "            for j in xrange(len(self.array2d[0])):\n",
    "                if j==0:\n",
    "                    l.append([])\n",
    "                    l[i]=[self.array2d[i][j] + other.array2d[i][j]]\n",
    "                else:\n",
    "                    l[i].append(self.array2d[i][j] + other.array2d[i][j])\n",
    "        return Matrix(l)\n",
    "    \n",
    "    def __mul__(self, other):\n",
    "        l = []\n",
    "        for i in xrange(len(self.array2d)):\n",
    "            for j in xrange(len(self.array2d[0])):\n",
    "                s = 0\n",
    "                for k in xrange(len(other.array2d[0])):\n",
    "                    s += self.array2d[i][k]*other.array2d[k][j]\n",
    "                if j==0:\n",
    "                    l.append([])\n",
    "                    l[i]=[s]\n",
    "                else:\n",
    "                    l[i].append(s)\n",
    "        return Matrix(l)\n",
    "    \n",
    "    def __pow__(self, other):\n",
    "        m = Matrix(self.array2d)\n",
    "        for i in xrange(other-1):\n",
    "            m *= Matrix(self.array2d)\n",
    "        return m    \n",
    "    \n",
    "    def __getitem__(self, key):\n",
    "        return self.array2d[key]\n",
    "    \n",
    "    def transpose(self):\n",
    "        l = []\n",
    "        for i in xrange(len(self.array2d)):\n",
    "            for j in xrange(len(self.array2d[0])):\n",
    "                if j==0:\n",
    "                    l.append([])\n",
    "                    l[i]=[self.array2d[j][i]]\n",
    "                else:\n",
    "                    l[i].append(self.array2d[j][i])\n",
    "        return Matrix(l)  "
   ]
  },
  {
   "cell_type": "code",
   "execution_count": 304,
   "metadata": {
    "collapsed": true
   },
   "outputs": [],
   "source": [
    "a = Matrix([[1, 2], [3, 4]])\n",
    "b = Matrix([[1, 0], [0, 1]])"
   ]
  },
  {
   "cell_type": "code",
   "execution_count": 305,
   "metadata": {
    "collapsed": false
   },
   "outputs": [
    {
     "name": "stdout",
     "output_type": "stream",
     "text": [
      "[[1, 2], [3, 4]]\n"
     ]
    }
   ],
   "source": [
    "print a"
   ]
  },
  {
   "cell_type": "code",
   "execution_count": 306,
   "metadata": {
    "collapsed": false
   },
   "outputs": [
    {
     "name": "stdout",
     "output_type": "stream",
     "text": [
      "[[0, 2], [3, 3]]\n"
     ]
    }
   ],
   "source": [
    "print a - b"
   ]
  },
  {
   "cell_type": "code",
   "execution_count": 307,
   "metadata": {
    "collapsed": false
   },
   "outputs": [
    {
     "name": "stdout",
     "output_type": "stream",
     "text": [
      "[[2, 2], [3, 5]]\n"
     ]
    }
   ],
   "source": [
    "print a + b"
   ]
  },
  {
   "cell_type": "code",
   "execution_count": 308,
   "metadata": {
    "collapsed": false
   },
   "outputs": [
    {
     "name": "stdout",
     "output_type": "stream",
     "text": [
      "[[1, 2], [3, 4]]\n"
     ]
    }
   ],
   "source": [
    "print a*b"
   ]
  },
  {
   "cell_type": "code",
   "execution_count": 309,
   "metadata": {
    "collapsed": false
   },
   "outputs": [
    {
     "name": "stdout",
     "output_type": "stream",
     "text": [
      "[[7, 10], [15, 22]]\n"
     ]
    }
   ],
   "source": [
    "print a**2"
   ]
  },
  {
   "cell_type": "code",
   "execution_count": 310,
   "metadata": {
    "collapsed": false
   },
   "outputs": [
    {
     "name": "stdout",
     "output_type": "stream",
     "text": [
      "4\n"
     ]
    }
   ],
   "source": [
    "print a[1][1]"
   ]
  },
  {
   "cell_type": "code",
   "execution_count": 311,
   "metadata": {
    "collapsed": false
   },
   "outputs": [
    {
     "name": "stdout",
     "output_type": "stream",
     "text": [
      "[[1, 3], [2, 4]]\n"
     ]
    }
   ],
   "source": [
    "print a.transpose()"
   ]
  },
  {
   "cell_type": "code",
   "execution_count": 108,
   "metadata": {
    "collapsed": false
   },
   "outputs": [
    {
     "data": {
      "text/plain": [
       "['__class__',\n",
       " '__delattr__',\n",
       " '__dict__',\n",
       " '__doc__',\n",
       " '__format__',\n",
       " '__getattribute__',\n",
       " '__hash__',\n",
       " '__init__',\n",
       " '__module__',\n",
       " '__new__',\n",
       " '__reduce__',\n",
       " '__reduce_ex__',\n",
       " '__repr__',\n",
       " '__setattr__',\n",
       " '__sizeof__',\n",
       " '__str__',\n",
       " '__sub__',\n",
       " '__subclasshook__',\n",
       " '__weakref__']"
      ]
     },
     "execution_count": 108,
     "metadata": {},
     "output_type": "execute_result"
    }
   ],
   "source": [
    "dir(Matrix)"
   ]
  },
  {
   "cell_type": "code",
   "execution_count": null,
   "metadata": {
    "collapsed": true
   },
   "outputs": [],
   "source": []
  }
 ],
 "metadata": {
  "kernelspec": {
   "display_name": "Python 2",
   "language": "python",
   "name": "python2"
  },
  "language_info": {
   "codemirror_mode": {
    "name": "ipython",
    "version": 2
   },
   "file_extension": ".py",
   "mimetype": "text/x-python",
   "name": "python",
   "nbconvert_exporter": "python",
   "pygments_lexer": "ipython2",
   "version": "2.7.10"
  }
 },
 "nbformat": 4,
 "nbformat_minor": 0
}
