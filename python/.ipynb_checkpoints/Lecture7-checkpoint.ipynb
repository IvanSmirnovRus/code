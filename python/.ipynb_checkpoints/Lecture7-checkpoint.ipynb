{
 "cells": [
  {
   "cell_type": "code",
   "execution_count": 1,
   "metadata": {
    "collapsed": true
   },
   "outputs": [],
   "source": [
    "def idempotent(x):\n",
    "    '''Dicription'''\n",
    "    return 1"
   ]
  },
  {
   "cell_type": "code",
   "execution_count": 5,
   "metadata": {
    "collapsed": false
   },
   "outputs": [
    {
     "data": {
      "text/plain": [
       "'Dicription'"
      ]
     },
     "execution_count": 5,
     "metadata": {},
     "output_type": "execute_result"
    }
   ],
   "source": [
    "idempotent.__doc__"
   ]
  },
  {
   "cell_type": "code",
   "execution_count": 6,
   "metadata": {
    "collapsed": true
   },
   "outputs": [],
   "source": [
    "def mean(*args):\n",
    "    return 1. * sum(args) / len(args)"
   ]
  },
  {
   "cell_type": "code",
   "execution_count": 7,
   "metadata": {
    "collapsed": false
   },
   "outputs": [
    {
     "data": {
      "text/plain": [
       "3.0"
      ]
     },
     "execution_count": 7,
     "metadata": {},
     "output_type": "execute_result"
    }
   ],
   "source": [
    "mean(1, 2, 3, 4, 5)"
   ]
  },
  {
   "cell_type": "code",
   "execution_count": 9,
   "metadata": {
    "collapsed": false
   },
   "outputs": [
    {
     "data": {
      "text/plain": [
       "4.5"
      ]
     },
     "execution_count": 9,
     "metadata": {},
     "output_type": "execute_result"
    }
   ],
   "source": [
    "mean(*range(10))"
   ]
  },
  {
   "cell_type": "code",
   "execution_count": 10,
   "metadata": {
    "collapsed": false
   },
   "outputs": [
    {
     "ename": "ZeroDivisionError",
     "evalue": "float division by zero",
     "output_type": "error",
     "traceback": [
      "\u001b[0;31m---------------------------------------------------------------------------\u001b[0m",
      "\u001b[0;31mZeroDivisionError\u001b[0m                         Traceback (most recent call last)",
      "\u001b[0;32m<ipython-input-10-5540e8a2325b>\u001b[0m in \u001b[0;36m<module>\u001b[0;34m()\u001b[0m\n\u001b[0;32m----> 1\u001b[0;31m \u001b[0mmean\u001b[0m\u001b[0;34m(\u001b[0m\u001b[0;34m)\u001b[0m\u001b[0;34m\u001b[0m\u001b[0m\n\u001b[0m",
      "\u001b[0;32m<ipython-input-6-12ce3e5736f8>\u001b[0m in \u001b[0;36mmean\u001b[0;34m(*args)\u001b[0m\n\u001b[1;32m      1\u001b[0m \u001b[0;32mdef\u001b[0m \u001b[0mmean\u001b[0m\u001b[0;34m(\u001b[0m\u001b[0;34m*\u001b[0m\u001b[0margs\u001b[0m\u001b[0;34m)\u001b[0m\u001b[0;34m:\u001b[0m\u001b[0;34m\u001b[0m\u001b[0m\n\u001b[0;32m----> 2\u001b[0;31m     \u001b[0;32mreturn\u001b[0m \u001b[0;36m1.\u001b[0m \u001b[0;34m*\u001b[0m \u001b[0msum\u001b[0m\u001b[0;34m(\u001b[0m\u001b[0margs\u001b[0m\u001b[0;34m)\u001b[0m \u001b[0;34m/\u001b[0m \u001b[0mlen\u001b[0m\u001b[0;34m(\u001b[0m\u001b[0margs\u001b[0m\u001b[0;34m)\u001b[0m\u001b[0;34m\u001b[0m\u001b[0m\n\u001b[0m",
      "\u001b[0;31mZeroDivisionError\u001b[0m: float division by zero"
     ]
    }
   ],
   "source": [
    "mean()"
   ]
  },
  {
   "cell_type": "code",
   "execution_count": 12,
   "metadata": {
    "collapsed": false
   },
   "outputs": [],
   "source": [
    "def mean(first, *args, **kwargs):\n",
    "    max_el = kwargs.get('max_el', float('inf'))\n",
    "    args = (first, ) + args\n",
    "    capped = [min(elem, max_el) for elem in args]\n",
    "    return 1. * sum(capped) / len(capped)"
   ]
  },
  {
   "cell_type": "code",
   "execution_count": 13,
   "metadata": {
    "collapsed": false
   },
   "outputs": [
    {
     "ename": "TypeError",
     "evalue": "mean() takes at least 1 argument (0 given)",
     "output_type": "error",
     "traceback": [
      "\u001b[0;31m---------------------------------------------------------------------------\u001b[0m",
      "\u001b[0;31mTypeError\u001b[0m                                 Traceback (most recent call last)",
      "\u001b[0;32m<ipython-input-13-5540e8a2325b>\u001b[0m in \u001b[0;36m<module>\u001b[0;34m()\u001b[0m\n\u001b[0;32m----> 1\u001b[0;31m \u001b[0mmean\u001b[0m\u001b[0;34m(\u001b[0m\u001b[0;34m)\u001b[0m\u001b[0;34m\u001b[0m\u001b[0m\n\u001b[0m",
      "\u001b[0;31mTypeError\u001b[0m: mean() takes at least 1 argument (0 given)"
     ]
    }
   ],
   "source": [
    "mean()"
   ]
  },
  {
   "cell_type": "code",
   "execution_count": 14,
   "metadata": {
    "collapsed": true
   },
   "outputs": [],
   "source": [
    "(x, y), (a, b) = [1, 2], \"AB\""
   ]
  },
  {
   "cell_type": "code",
   "execution_count": 15,
   "metadata": {
    "collapsed": false
   },
   "outputs": [
    {
     "name": "stdout",
     "output_type": "stream",
     "text": [
      "1 2 A B\n"
     ]
    }
   ],
   "source": [
    "print x, y, a, b"
   ]
  },
  {
   "cell_type": "code",
   "execution_count": 16,
   "metadata": {
    "collapsed": true
   },
   "outputs": [],
   "source": [
    "def f():\n",
    "    return 1, 2"
   ]
  },
  {
   "cell_type": "code",
   "execution_count": 18,
   "metadata": {
    "collapsed": true
   },
   "outputs": [],
   "source": [
    "_, x = f()"
   ]
  },
  {
   "cell_type": "code",
   "execution_count": 19,
   "metadata": {
    "collapsed": false
   },
   "outputs": [
    {
     "name": "stdout",
     "output_type": "stream",
     "text": [
      "2\n"
     ]
    }
   ],
   "source": [
    "print x"
   ]
  },
  {
   "cell_type": "code",
   "execution_count": 20,
   "metadata": {
    "collapsed": true
   },
   "outputs": [],
   "source": [
    "def f():\n",
    "    print i"
   ]
  },
  {
   "cell_type": "code",
   "execution_count": 21,
   "metadata": {
    "collapsed": false
   },
   "outputs": [
    {
     "name": "stdout",
     "output_type": "stream",
     "text": [
      "0\n",
      "1\n",
      "2\n"
     ]
    }
   ],
   "source": [
    "for i in range(3):\n",
    "    f()"
   ]
  },
  {
   "cell_type": "code",
   "execution_count": 22,
   "metadata": {
    "collapsed": true
   },
   "outputs": [],
   "source": [
    "#Local Enclosing Global Build-In"
   ]
  },
  {
   "cell_type": "code",
   "execution_count": 23,
   "metadata": {
    "collapsed": true
   },
   "outputs": [],
   "source": [
    "sum([1, 2, 3]) #Build-In\n",
    "sum = 2 #Global\n",
    "def f():\n",
    "    sum = 4 #Enclosing\n",
    "    def g():\n",
    "        sum = 5 #Local\n",
    "    return g"
   ]
  },
  {
   "cell_type": "code",
   "execution_count": 25,
   "metadata": {
    "collapsed": false
   },
   "outputs": [],
   "source": [
    "#Closure"
   ]
  },
  {
   "cell_type": "code",
   "execution_count": 26,
   "metadata": {
    "collapsed": true
   },
   "outputs": [],
   "source": [
    "def make_adder(x):\n",
    "    def adder(y):\n",
    "        return x + y\n",
    "    return adder"
   ]
  },
  {
   "cell_type": "code",
   "execution_count": 27,
   "metadata": {
    "collapsed": true
   },
   "outputs": [],
   "source": [
    "add_five = make_adder(5)"
   ]
  },
  {
   "cell_type": "code",
   "execution_count": 28,
   "metadata": {
    "collapsed": false
   },
   "outputs": [
    {
     "data": {
      "text/plain": [
       "15"
      ]
     },
     "execution_count": 28,
     "metadata": {},
     "output_type": "execute_result"
    }
   ],
   "source": [
    "add_five(10)"
   ]
  },
  {
   "cell_type": "code",
   "execution_count": 29,
   "metadata": {
    "collapsed": true
   },
   "outputs": [],
   "source": [
    "def make_adder(x):\n",
    "    def adder(y):\n",
    "        return adder.x + y\n",
    "    adder.x = x\n",
    "    \n",
    "    def update(x):\n",
    "        adder.x = x\n",
    "    adder.update = update\n",
    "    return adder"
   ]
  },
  {
   "cell_type": "code",
   "execution_count": 30,
   "metadata": {
    "collapsed": true
   },
   "outputs": [],
   "source": [
    "f = make_adder(5)"
   ]
  },
  {
   "cell_type": "code",
   "execution_count": 31,
   "metadata": {
    "collapsed": false
   },
   "outputs": [
    {
     "name": "stdout",
     "output_type": "stream",
     "text": [
      "10\n"
     ]
    }
   ],
   "source": [
    "print f(5)"
   ]
  },
  {
   "cell_type": "code",
   "execution_count": 32,
   "metadata": {
    "collapsed": false
   },
   "outputs": [
    {
     "name": "stdout",
     "output_type": "stream",
     "text": [
      "15\n"
     ]
    }
   ],
   "source": [
    "f.update(10)\n",
    "print f(5)"
   ]
  },
  {
   "cell_type": "code",
   "execution_count": 33,
   "metadata": {
    "collapsed": true
   },
   "outputs": [],
   "source": [
    "#global\n",
    "a = 1\n",
    "def add_global():\n",
    "    global a\n",
    "    a += 2"
   ]
  },
  {
   "cell_type": "code",
   "execution_count": 34,
   "metadata": {
    "collapsed": true
   },
   "outputs": [],
   "source": [
    "add_global()"
   ]
  },
  {
   "cell_type": "code",
   "execution_count": 35,
   "metadata": {
    "collapsed": false
   },
   "outputs": [
    {
     "name": "stdout",
     "output_type": "stream",
     "text": [
      "3\n"
     ]
    }
   ],
   "source": [
    "print a"
   ]
  },
  {
   "cell_type": "code",
   "execution_count": 36,
   "metadata": {
    "collapsed": false
   },
   "outputs": [
    {
     "data": {
      "text/plain": [
       "{'In': ['',\n",
       "  u\"def idempotent(x):\\n    '''Dicription'''\\n    return 1\",\n",
       "  u'dir(idempotent)',\n",
       "  u'idempotent.__name__',\n",
       "  u'dir(idempotent)',\n",
       "  u'idempotent.__doc__',\n",
       "  u'def mean(*args):\\n    return 1. * sum(args) / len(args)',\n",
       "  u'mean(1, 2, 3, 4, 5)',\n",
       "  u'mean(*renge(10))',\n",
       "  u'mean(*range(10))',\n",
       "  u'mean()',\n",
       "  u\"def mean(first, *args, **args):\\n    max_el = kwargs.get('max_el', float('inf'))\\n    args = (first, ) + args\\n    capped = [min(elem, max_el) for elem in args]\\n    return 1. * sum(capped) / len(capped)\",\n",
       "  u\"def mean(first, *args, **kwargs):\\n    max_el = kwargs.get('max_el', float('inf'))\\n    args = (first, ) + args\\n    capped = [min(elem, max_el) for elem in args]\\n    return 1. * sum(capped) / len(capped)\",\n",
       "  u'mean()',\n",
       "  u'(x, y), (a, b) = [1, 2], \"AB\"',\n",
       "  u'print x, y, a, b',\n",
       "  u'def f():\\n    return 1, 2',\n",
       "  u'_, x = 1, 2',\n",
       "  u'_, x = f()',\n",
       "  u'print x',\n",
       "  u'def f():\\n    print i',\n",
       "  u'for i in range(3):\\n    f()',\n",
       "  u'#Local Enclosing Global Build-In',\n",
       "  u'sum([1, 2, 3]) #Build-In\\nsum = 2 #Global\\ndef f():\\n    sum = 4 #Enclosing\\n    def g():\\n        sum = 5 #Local\\n    return g',\n",
       "  u'Closure',\n",
       "  u'#Closure',\n",
       "  u'def make_adder(x):\\n    def adder(y):\\n        return x + y\\n    return adder',\n",
       "  u'add_five = make_adder(5)',\n",
       "  u'add_five(10)',\n",
       "  u'def make_adder(x):\\n    def adder(y):\\n        return adder.x + y\\n    adder.x = x\\n    \\n    def update(x):\\n        adder.x = x\\n    adder.update = update\\n    return adder',\n",
       "  u'f = make_adder(5)',\n",
       "  u'print f(5)',\n",
       "  u'f.update(10)\\nprint f(5)',\n",
       "  u'#global\\na = 1\\ndef add_global():\\n    global a\\n    a += 2',\n",
       "  u'add_global()',\n",
       "  u'print a',\n",
       "  u'globals()'],\n",
       " 'Out': {2: ['__call__',\n",
       "   '__class__',\n",
       "   '__closure__',\n",
       "   '__code__',\n",
       "   '__defaults__',\n",
       "   '__delattr__',\n",
       "   '__dict__',\n",
       "   '__doc__',\n",
       "   '__format__',\n",
       "   '__get__',\n",
       "   '__getattribute__',\n",
       "   '__globals__',\n",
       "   '__hash__',\n",
       "   '__init__',\n",
       "   '__module__',\n",
       "   '__name__',\n",
       "   '__new__',\n",
       "   '__reduce__',\n",
       "   '__reduce_ex__',\n",
       "   '__repr__',\n",
       "   '__setattr__',\n",
       "   '__sizeof__',\n",
       "   '__str__',\n",
       "   '__subclasshook__',\n",
       "   'func_closure',\n",
       "   'func_code',\n",
       "   'func_defaults',\n",
       "   'func_dict',\n",
       "   'func_doc',\n",
       "   'func_globals',\n",
       "   'func_name'],\n",
       "  3: 'idempotent',\n",
       "  4: ['__call__',\n",
       "   '__class__',\n",
       "   '__closure__',\n",
       "   '__code__',\n",
       "   '__defaults__',\n",
       "   '__delattr__',\n",
       "   '__dict__',\n",
       "   '__doc__',\n",
       "   '__format__',\n",
       "   '__get__',\n",
       "   '__getattribute__',\n",
       "   '__globals__',\n",
       "   '__hash__',\n",
       "   '__init__',\n",
       "   '__module__',\n",
       "   '__name__',\n",
       "   '__new__',\n",
       "   '__reduce__',\n",
       "   '__reduce_ex__',\n",
       "   '__repr__',\n",
       "   '__setattr__',\n",
       "   '__sizeof__',\n",
       "   '__str__',\n",
       "   '__subclasshook__',\n",
       "   'func_closure',\n",
       "   'func_code',\n",
       "   'func_defaults',\n",
       "   'func_dict',\n",
       "   'func_doc',\n",
       "   'func_globals',\n",
       "   'func_name'],\n",
       "  5: 'Dicription',\n",
       "  7: 3.0,\n",
       "  9: 4.5,\n",
       "  28: 15},\n",
       " '_': 15,\n",
       " '_2': ['__call__',\n",
       "  '__class__',\n",
       "  '__closure__',\n",
       "  '__code__',\n",
       "  '__defaults__',\n",
       "  '__delattr__',\n",
       "  '__dict__',\n",
       "  '__doc__',\n",
       "  '__format__',\n",
       "  '__get__',\n",
       "  '__getattribute__',\n",
       "  '__globals__',\n",
       "  '__hash__',\n",
       "  '__init__',\n",
       "  '__module__',\n",
       "  '__name__',\n",
       "  '__new__',\n",
       "  '__reduce__',\n",
       "  '__reduce_ex__',\n",
       "  '__repr__',\n",
       "  '__setattr__',\n",
       "  '__sizeof__',\n",
       "  '__str__',\n",
       "  '__subclasshook__',\n",
       "  'func_closure',\n",
       "  'func_code',\n",
       "  'func_defaults',\n",
       "  'func_dict',\n",
       "  'func_doc',\n",
       "  'func_globals',\n",
       "  'func_name'],\n",
       " '_28': 15,\n",
       " '_3': 'idempotent',\n",
       " '_4': ['__call__',\n",
       "  '__class__',\n",
       "  '__closure__',\n",
       "  '__code__',\n",
       "  '__defaults__',\n",
       "  '__delattr__',\n",
       "  '__dict__',\n",
       "  '__doc__',\n",
       "  '__format__',\n",
       "  '__get__',\n",
       "  '__getattribute__',\n",
       "  '__globals__',\n",
       "  '__hash__',\n",
       "  '__init__',\n",
       "  '__module__',\n",
       "  '__name__',\n",
       "  '__new__',\n",
       "  '__reduce__',\n",
       "  '__reduce_ex__',\n",
       "  '__repr__',\n",
       "  '__setattr__',\n",
       "  '__sizeof__',\n",
       "  '__str__',\n",
       "  '__subclasshook__',\n",
       "  'func_closure',\n",
       "  'func_code',\n",
       "  'func_defaults',\n",
       "  'func_dict',\n",
       "  'func_doc',\n",
       "  'func_globals',\n",
       "  'func_name'],\n",
       " '_5': 'Dicription',\n",
       " '_7': 3.0,\n",
       " '_9': 4.5,\n",
       " '__': 4.5,\n",
       " '___': 3.0,\n",
       " '__builtin__': <module '__builtin__' (built-in)>,\n",
       " '__builtins__': <module '__builtin__' (built-in)>,\n",
       " '__doc__': 'Automatically created module for IPython interactive environment',\n",
       " '__name__': '__main__',\n",
       " '_dh': [u'/Users/ivansmirn/Documents/code/python'],\n",
       " '_i': u'print a',\n",
       " '_i1': u\"def idempotent(x):\\n    '''Dicription'''\\n    return 1\",\n",
       " '_i10': u'mean()',\n",
       " '_i11': u\"def mean(first, *args, **args):\\n    max_el = kwargs.get('max_el', float('inf'))\\n    args = (first, ) + args\\n    capped = [min(elem, max_el) for elem in args]\\n    return 1. * sum(capped) / len(capped)\",\n",
       " '_i12': u\"def mean(first, *args, **kwargs):\\n    max_el = kwargs.get('max_el', float('inf'))\\n    args = (first, ) + args\\n    capped = [min(elem, max_el) for elem in args]\\n    return 1. * sum(capped) / len(capped)\",\n",
       " '_i13': u'mean()',\n",
       " '_i14': u'(x, y), (a, b) = [1, 2], \"AB\"',\n",
       " '_i15': u'print x, y, a, b',\n",
       " '_i16': u'def f():\\n    return 1, 2',\n",
       " '_i17': u'_, x = 1, 2',\n",
       " '_i18': u'_, x = f()',\n",
       " '_i19': u'print x',\n",
       " '_i2': u'dir(idempotent)',\n",
       " '_i20': u'def f():\\n    print i',\n",
       " '_i21': u'for i in range(3):\\n    f()',\n",
       " '_i22': u'#Local Enclosing Global Build-In',\n",
       " '_i23': u'sum([1, 2, 3]) #Build-In\\nsum = 2 #Global\\ndef f():\\n    sum = 4 #Enclosing\\n    def g():\\n        sum = 5 #Local\\n    return g',\n",
       " '_i24': u'Closure',\n",
       " '_i25': u'#Closure',\n",
       " '_i26': u'def make_adder(x):\\n    def adder(y):\\n        return x + y\\n    return adder',\n",
       " '_i27': u'add_five = make_adder(5)',\n",
       " '_i28': u'add_five(10)',\n",
       " '_i29': u'def make_adder(x):\\n    def adder(y):\\n        return adder.x + y\\n    adder.x = x\\n    \\n    def update(x):\\n        adder.x = x\\n    adder.update = update\\n    return adder',\n",
       " '_i3': u'idempotent.__name__',\n",
       " '_i30': u'f = make_adder(5)',\n",
       " '_i31': u'print f(5)',\n",
       " '_i32': u'f.update(10)\\nprint f(5)',\n",
       " '_i33': u'#global\\na = 1\\ndef add_global():\\n    global a\\n    a += 2',\n",
       " '_i34': u'add_global()',\n",
       " '_i35': u'print a',\n",
       " '_i36': u'globals()',\n",
       " '_i4': u'dir(idempotent)',\n",
       " '_i5': u'idempotent.__doc__',\n",
       " '_i6': u'def mean(*args):\\n    return 1. * sum(args) / len(args)',\n",
       " '_i7': u'mean(1, 2, 3, 4, 5)',\n",
       " '_i8': u'mean(*renge(10))',\n",
       " '_i9': u'mean(*range(10))',\n",
       " '_ih': ['',\n",
       "  u\"def idempotent(x):\\n    '''Dicription'''\\n    return 1\",\n",
       "  u'dir(idempotent)',\n",
       "  u'idempotent.__name__',\n",
       "  u'dir(idempotent)',\n",
       "  u'idempotent.__doc__',\n",
       "  u'def mean(*args):\\n    return 1. * sum(args) / len(args)',\n",
       "  u'mean(1, 2, 3, 4, 5)',\n",
       "  u'mean(*renge(10))',\n",
       "  u'mean(*range(10))',\n",
       "  u'mean()',\n",
       "  u\"def mean(first, *args, **args):\\n    max_el = kwargs.get('max_el', float('inf'))\\n    args = (first, ) + args\\n    capped = [min(elem, max_el) for elem in args]\\n    return 1. * sum(capped) / len(capped)\",\n",
       "  u\"def mean(first, *args, **kwargs):\\n    max_el = kwargs.get('max_el', float('inf'))\\n    args = (first, ) + args\\n    capped = [min(elem, max_el) for elem in args]\\n    return 1. * sum(capped) / len(capped)\",\n",
       "  u'mean()',\n",
       "  u'(x, y), (a, b) = [1, 2], \"AB\"',\n",
       "  u'print x, y, a, b',\n",
       "  u'def f():\\n    return 1, 2',\n",
       "  u'_, x = 1, 2',\n",
       "  u'_, x = f()',\n",
       "  u'print x',\n",
       "  u'def f():\\n    print i',\n",
       "  u'for i in range(3):\\n    f()',\n",
       "  u'#Local Enclosing Global Build-In',\n",
       "  u'sum([1, 2, 3]) #Build-In\\nsum = 2 #Global\\ndef f():\\n    sum = 4 #Enclosing\\n    def g():\\n        sum = 5 #Local\\n    return g',\n",
       "  u'Closure',\n",
       "  u'#Closure',\n",
       "  u'def make_adder(x):\\n    def adder(y):\\n        return x + y\\n    return adder',\n",
       "  u'add_five = make_adder(5)',\n",
       "  u'add_five(10)',\n",
       "  u'def make_adder(x):\\n    def adder(y):\\n        return adder.x + y\\n    adder.x = x\\n    \\n    def update(x):\\n        adder.x = x\\n    adder.update = update\\n    return adder',\n",
       "  u'f = make_adder(5)',\n",
       "  u'print f(5)',\n",
       "  u'f.update(10)\\nprint f(5)',\n",
       "  u'#global\\na = 1\\ndef add_global():\\n    global a\\n    a += 2',\n",
       "  u'add_global()',\n",
       "  u'print a',\n",
       "  u'globals()'],\n",
       " '_ii': u'add_global()',\n",
       " '_iii': u'#global\\na = 1\\ndef add_global():\\n    global a\\n    a += 2',\n",
       " '_oh': {2: ['__call__',\n",
       "   '__class__',\n",
       "   '__closure__',\n",
       "   '__code__',\n",
       "   '__defaults__',\n",
       "   '__delattr__',\n",
       "   '__dict__',\n",
       "   '__doc__',\n",
       "   '__format__',\n",
       "   '__get__',\n",
       "   '__getattribute__',\n",
       "   '__globals__',\n",
       "   '__hash__',\n",
       "   '__init__',\n",
       "   '__module__',\n",
       "   '__name__',\n",
       "   '__new__',\n",
       "   '__reduce__',\n",
       "   '__reduce_ex__',\n",
       "   '__repr__',\n",
       "   '__setattr__',\n",
       "   '__sizeof__',\n",
       "   '__str__',\n",
       "   '__subclasshook__',\n",
       "   'func_closure',\n",
       "   'func_code',\n",
       "   'func_defaults',\n",
       "   'func_dict',\n",
       "   'func_doc',\n",
       "   'func_globals',\n",
       "   'func_name'],\n",
       "  3: 'idempotent',\n",
       "  4: ['__call__',\n",
       "   '__class__',\n",
       "   '__closure__',\n",
       "   '__code__',\n",
       "   '__defaults__',\n",
       "   '__delattr__',\n",
       "   '__dict__',\n",
       "   '__doc__',\n",
       "   '__format__',\n",
       "   '__get__',\n",
       "   '__getattribute__',\n",
       "   '__globals__',\n",
       "   '__hash__',\n",
       "   '__init__',\n",
       "   '__module__',\n",
       "   '__name__',\n",
       "   '__new__',\n",
       "   '__reduce__',\n",
       "   '__reduce_ex__',\n",
       "   '__repr__',\n",
       "   '__setattr__',\n",
       "   '__sizeof__',\n",
       "   '__str__',\n",
       "   '__subclasshook__',\n",
       "   'func_closure',\n",
       "   'func_code',\n",
       "   'func_defaults',\n",
       "   'func_dict',\n",
       "   'func_doc',\n",
       "   'func_globals',\n",
       "   'func_name'],\n",
       "  5: 'Dicription',\n",
       "  7: 3.0,\n",
       "  9: 4.5,\n",
       "  28: 15},\n",
       " '_sh': <module 'IPython.core.shadowns' from '/Library/Python/2.7/site-packages/IPython/core/shadowns.pyc'>,\n",
       " 'a': 3,\n",
       " 'add_five': <function __main__.adder>,\n",
       " 'add_global': <function __main__.add_global>,\n",
       " 'b': 'B',\n",
       " 'exit': <IPython.core.autocall.ZMQExitAutocall at 0x10246f810>,\n",
       " 'f': <function __main__.adder>,\n",
       " 'get_ipython': <bound method ZMQInteractiveShell.get_ipython of <IPython.kernel.zmq.zmqshell.ZMQInteractiveShell object at 0x101d4cc10>>,\n",
       " 'i': 2,\n",
       " 'idempotent': <function __main__.idempotent>,\n",
       " 'make_adder': <function __main__.make_adder>,\n",
       " 'mean': <function __main__.mean>,\n",
       " 'quit': <IPython.core.autocall.ZMQExitAutocall at 0x10246f810>,\n",
       " 'sum': 2,\n",
       " 'x': 2,\n",
       " 'y': 2}"
      ]
     },
     "execution_count": 36,
     "metadata": {},
     "output_type": "execute_result"
    }
   ],
   "source": [
    "globals() #глобальная область видимости"
   ]
  },
  {
   "cell_type": "code",
   "execution_count": 37,
   "metadata": {
    "collapsed": false
   },
   "outputs": [
    {
     "data": {
      "text/plain": [
       "{'In': ['',\n",
       "  u\"def idempotent(x):\\n    '''Dicription'''\\n    return 1\",\n",
       "  u'dir(idempotent)',\n",
       "  u'idempotent.__name__',\n",
       "  u'dir(idempotent)',\n",
       "  u'idempotent.__doc__',\n",
       "  u'def mean(*args):\\n    return 1. * sum(args) / len(args)',\n",
       "  u'mean(1, 2, 3, 4, 5)',\n",
       "  u'mean(*renge(10))',\n",
       "  u'mean(*range(10))',\n",
       "  u'mean()',\n",
       "  u\"def mean(first, *args, **args):\\n    max_el = kwargs.get('max_el', float('inf'))\\n    args = (first, ) + args\\n    capped = [min(elem, max_el) for elem in args]\\n    return 1. * sum(capped) / len(capped)\",\n",
       "  u\"def mean(first, *args, **kwargs):\\n    max_el = kwargs.get('max_el', float('inf'))\\n    args = (first, ) + args\\n    capped = [min(elem, max_el) for elem in args]\\n    return 1. * sum(capped) / len(capped)\",\n",
       "  u'mean()',\n",
       "  u'(x, y), (a, b) = [1, 2], \"AB\"',\n",
       "  u'print x, y, a, b',\n",
       "  u'def f():\\n    return 1, 2',\n",
       "  u'_, x = 1, 2',\n",
       "  u'_, x = f()',\n",
       "  u'print x',\n",
       "  u'def f():\\n    print i',\n",
       "  u'for i in range(3):\\n    f()',\n",
       "  u'#Local Enclosing Global Build-In',\n",
       "  u'sum([1, 2, 3]) #Build-In\\nsum = 2 #Global\\ndef f():\\n    sum = 4 #Enclosing\\n    def g():\\n        sum = 5 #Local\\n    return g',\n",
       "  u'Closure',\n",
       "  u'#Closure',\n",
       "  u'def make_adder(x):\\n    def adder(y):\\n        return x + y\\n    return adder',\n",
       "  u'add_five = make_adder(5)',\n",
       "  u'add_five(10)',\n",
       "  u'def make_adder(x):\\n    def adder(y):\\n        return adder.x + y\\n    adder.x = x\\n    \\n    def update(x):\\n        adder.x = x\\n    adder.update = update\\n    return adder',\n",
       "  u'f = make_adder(5)',\n",
       "  u'print f(5)',\n",
       "  u'f.update(10)\\nprint f(5)',\n",
       "  u'#global\\na = 1\\ndef add_global():\\n    global a\\n    a += 2',\n",
       "  u'add_global()',\n",
       "  u'print a',\n",
       "  u'globals()',\n",
       "  u'locals()'],\n",
       " 'Out': {2: ['__call__',\n",
       "   '__class__',\n",
       "   '__closure__',\n",
       "   '__code__',\n",
       "   '__defaults__',\n",
       "   '__delattr__',\n",
       "   '__dict__',\n",
       "   '__doc__',\n",
       "   '__format__',\n",
       "   '__get__',\n",
       "   '__getattribute__',\n",
       "   '__globals__',\n",
       "   '__hash__',\n",
       "   '__init__',\n",
       "   '__module__',\n",
       "   '__name__',\n",
       "   '__new__',\n",
       "   '__reduce__',\n",
       "   '__reduce_ex__',\n",
       "   '__repr__',\n",
       "   '__setattr__',\n",
       "   '__sizeof__',\n",
       "   '__str__',\n",
       "   '__subclasshook__',\n",
       "   'func_closure',\n",
       "   'func_code',\n",
       "   'func_defaults',\n",
       "   'func_dict',\n",
       "   'func_doc',\n",
       "   'func_globals',\n",
       "   'func_name'],\n",
       "  3: 'idempotent',\n",
       "  4: ['__call__',\n",
       "   '__class__',\n",
       "   '__closure__',\n",
       "   '__code__',\n",
       "   '__defaults__',\n",
       "   '__delattr__',\n",
       "   '__dict__',\n",
       "   '__doc__',\n",
       "   '__format__',\n",
       "   '__get__',\n",
       "   '__getattribute__',\n",
       "   '__globals__',\n",
       "   '__hash__',\n",
       "   '__init__',\n",
       "   '__module__',\n",
       "   '__name__',\n",
       "   '__new__',\n",
       "   '__reduce__',\n",
       "   '__reduce_ex__',\n",
       "   '__repr__',\n",
       "   '__setattr__',\n",
       "   '__sizeof__',\n",
       "   '__str__',\n",
       "   '__subclasshook__',\n",
       "   'func_closure',\n",
       "   'func_code',\n",
       "   'func_defaults',\n",
       "   'func_dict',\n",
       "   'func_doc',\n",
       "   'func_globals',\n",
       "   'func_name'],\n",
       "  5: 'Dicription',\n",
       "  7: 3.0,\n",
       "  9: 4.5,\n",
       "  28: 15,\n",
       "  36: {...}},\n",
       " '_': {...},\n",
       " '_2': ['__call__',\n",
       "  '__class__',\n",
       "  '__closure__',\n",
       "  '__code__',\n",
       "  '__defaults__',\n",
       "  '__delattr__',\n",
       "  '__dict__',\n",
       "  '__doc__',\n",
       "  '__format__',\n",
       "  '__get__',\n",
       "  '__getattribute__',\n",
       "  '__globals__',\n",
       "  '__hash__',\n",
       "  '__init__',\n",
       "  '__module__',\n",
       "  '__name__',\n",
       "  '__new__',\n",
       "  '__reduce__',\n",
       "  '__reduce_ex__',\n",
       "  '__repr__',\n",
       "  '__setattr__',\n",
       "  '__sizeof__',\n",
       "  '__str__',\n",
       "  '__subclasshook__',\n",
       "  'func_closure',\n",
       "  'func_code',\n",
       "  'func_defaults',\n",
       "  'func_dict',\n",
       "  'func_doc',\n",
       "  'func_globals',\n",
       "  'func_name'],\n",
       " '_28': 15,\n",
       " '_3': 'idempotent',\n",
       " '_36': {...},\n",
       " '_4': ['__call__',\n",
       "  '__class__',\n",
       "  '__closure__',\n",
       "  '__code__',\n",
       "  '__defaults__',\n",
       "  '__delattr__',\n",
       "  '__dict__',\n",
       "  '__doc__',\n",
       "  '__format__',\n",
       "  '__get__',\n",
       "  '__getattribute__',\n",
       "  '__globals__',\n",
       "  '__hash__',\n",
       "  '__init__',\n",
       "  '__module__',\n",
       "  '__name__',\n",
       "  '__new__',\n",
       "  '__reduce__',\n",
       "  '__reduce_ex__',\n",
       "  '__repr__',\n",
       "  '__setattr__',\n",
       "  '__sizeof__',\n",
       "  '__str__',\n",
       "  '__subclasshook__',\n",
       "  'func_closure',\n",
       "  'func_code',\n",
       "  'func_defaults',\n",
       "  'func_dict',\n",
       "  'func_doc',\n",
       "  'func_globals',\n",
       "  'func_name'],\n",
       " '_5': 'Dicription',\n",
       " '_7': 3.0,\n",
       " '_9': 4.5,\n",
       " '__': 15,\n",
       " '___': 4.5,\n",
       " '__builtin__': <module '__builtin__' (built-in)>,\n",
       " '__builtins__': <module '__builtin__' (built-in)>,\n",
       " '__doc__': 'Automatically created module for IPython interactive environment',\n",
       " '__name__': '__main__',\n",
       " '_dh': [u'/Users/ivansmirn/Documents/code/python'],\n",
       " '_i': u'globals()',\n",
       " '_i1': u\"def idempotent(x):\\n    '''Dicription'''\\n    return 1\",\n",
       " '_i10': u'mean()',\n",
       " '_i11': u\"def mean(first, *args, **args):\\n    max_el = kwargs.get('max_el', float('inf'))\\n    args = (first, ) + args\\n    capped = [min(elem, max_el) for elem in args]\\n    return 1. * sum(capped) / len(capped)\",\n",
       " '_i12': u\"def mean(first, *args, **kwargs):\\n    max_el = kwargs.get('max_el', float('inf'))\\n    args = (first, ) + args\\n    capped = [min(elem, max_el) for elem in args]\\n    return 1. * sum(capped) / len(capped)\",\n",
       " '_i13': u'mean()',\n",
       " '_i14': u'(x, y), (a, b) = [1, 2], \"AB\"',\n",
       " '_i15': u'print x, y, a, b',\n",
       " '_i16': u'def f():\\n    return 1, 2',\n",
       " '_i17': u'_, x = 1, 2',\n",
       " '_i18': u'_, x = f()',\n",
       " '_i19': u'print x',\n",
       " '_i2': u'dir(idempotent)',\n",
       " '_i20': u'def f():\\n    print i',\n",
       " '_i21': u'for i in range(3):\\n    f()',\n",
       " '_i22': u'#Local Enclosing Global Build-In',\n",
       " '_i23': u'sum([1, 2, 3]) #Build-In\\nsum = 2 #Global\\ndef f():\\n    sum = 4 #Enclosing\\n    def g():\\n        sum = 5 #Local\\n    return g',\n",
       " '_i24': u'Closure',\n",
       " '_i25': u'#Closure',\n",
       " '_i26': u'def make_adder(x):\\n    def adder(y):\\n        return x + y\\n    return adder',\n",
       " '_i27': u'add_five = make_adder(5)',\n",
       " '_i28': u'add_five(10)',\n",
       " '_i29': u'def make_adder(x):\\n    def adder(y):\\n        return adder.x + y\\n    adder.x = x\\n    \\n    def update(x):\\n        adder.x = x\\n    adder.update = update\\n    return adder',\n",
       " '_i3': u'idempotent.__name__',\n",
       " '_i30': u'f = make_adder(5)',\n",
       " '_i31': u'print f(5)',\n",
       " '_i32': u'f.update(10)\\nprint f(5)',\n",
       " '_i33': u'#global\\na = 1\\ndef add_global():\\n    global a\\n    a += 2',\n",
       " '_i34': u'add_global()',\n",
       " '_i35': u'print a',\n",
       " '_i36': u'globals()',\n",
       " '_i37': u'locals()',\n",
       " '_i4': u'dir(idempotent)',\n",
       " '_i5': u'idempotent.__doc__',\n",
       " '_i6': u'def mean(*args):\\n    return 1. * sum(args) / len(args)',\n",
       " '_i7': u'mean(1, 2, 3, 4, 5)',\n",
       " '_i8': u'mean(*renge(10))',\n",
       " '_i9': u'mean(*range(10))',\n",
       " '_ih': ['',\n",
       "  u\"def idempotent(x):\\n    '''Dicription'''\\n    return 1\",\n",
       "  u'dir(idempotent)',\n",
       "  u'idempotent.__name__',\n",
       "  u'dir(idempotent)',\n",
       "  u'idempotent.__doc__',\n",
       "  u'def mean(*args):\\n    return 1. * sum(args) / len(args)',\n",
       "  u'mean(1, 2, 3, 4, 5)',\n",
       "  u'mean(*renge(10))',\n",
       "  u'mean(*range(10))',\n",
       "  u'mean()',\n",
       "  u\"def mean(first, *args, **args):\\n    max_el = kwargs.get('max_el', float('inf'))\\n    args = (first, ) + args\\n    capped = [min(elem, max_el) for elem in args]\\n    return 1. * sum(capped) / len(capped)\",\n",
       "  u\"def mean(first, *args, **kwargs):\\n    max_el = kwargs.get('max_el', float('inf'))\\n    args = (first, ) + args\\n    capped = [min(elem, max_el) for elem in args]\\n    return 1. * sum(capped) / len(capped)\",\n",
       "  u'mean()',\n",
       "  u'(x, y), (a, b) = [1, 2], \"AB\"',\n",
       "  u'print x, y, a, b',\n",
       "  u'def f():\\n    return 1, 2',\n",
       "  u'_, x = 1, 2',\n",
       "  u'_, x = f()',\n",
       "  u'print x',\n",
       "  u'def f():\\n    print i',\n",
       "  u'for i in range(3):\\n    f()',\n",
       "  u'#Local Enclosing Global Build-In',\n",
       "  u'sum([1, 2, 3]) #Build-In\\nsum = 2 #Global\\ndef f():\\n    sum = 4 #Enclosing\\n    def g():\\n        sum = 5 #Local\\n    return g',\n",
       "  u'Closure',\n",
       "  u'#Closure',\n",
       "  u'def make_adder(x):\\n    def adder(y):\\n        return x + y\\n    return adder',\n",
       "  u'add_five = make_adder(5)',\n",
       "  u'add_five(10)',\n",
       "  u'def make_adder(x):\\n    def adder(y):\\n        return adder.x + y\\n    adder.x = x\\n    \\n    def update(x):\\n        adder.x = x\\n    adder.update = update\\n    return adder',\n",
       "  u'f = make_adder(5)',\n",
       "  u'print f(5)',\n",
       "  u'f.update(10)\\nprint f(5)',\n",
       "  u'#global\\na = 1\\ndef add_global():\\n    global a\\n    a += 2',\n",
       "  u'add_global()',\n",
       "  u'print a',\n",
       "  u'globals()',\n",
       "  u'locals()'],\n",
       " '_ii': u'print a',\n",
       " '_iii': u'add_global()',\n",
       " '_oh': {2: ['__call__',\n",
       "   '__class__',\n",
       "   '__closure__',\n",
       "   '__code__',\n",
       "   '__defaults__',\n",
       "   '__delattr__',\n",
       "   '__dict__',\n",
       "   '__doc__',\n",
       "   '__format__',\n",
       "   '__get__',\n",
       "   '__getattribute__',\n",
       "   '__globals__',\n",
       "   '__hash__',\n",
       "   '__init__',\n",
       "   '__module__',\n",
       "   '__name__',\n",
       "   '__new__',\n",
       "   '__reduce__',\n",
       "   '__reduce_ex__',\n",
       "   '__repr__',\n",
       "   '__setattr__',\n",
       "   '__sizeof__',\n",
       "   '__str__',\n",
       "   '__subclasshook__',\n",
       "   'func_closure',\n",
       "   'func_code',\n",
       "   'func_defaults',\n",
       "   'func_dict',\n",
       "   'func_doc',\n",
       "   'func_globals',\n",
       "   'func_name'],\n",
       "  3: 'idempotent',\n",
       "  4: ['__call__',\n",
       "   '__class__',\n",
       "   '__closure__',\n",
       "   '__code__',\n",
       "   '__defaults__',\n",
       "   '__delattr__',\n",
       "   '__dict__',\n",
       "   '__doc__',\n",
       "   '__format__',\n",
       "   '__get__',\n",
       "   '__getattribute__',\n",
       "   '__globals__',\n",
       "   '__hash__',\n",
       "   '__init__',\n",
       "   '__module__',\n",
       "   '__name__',\n",
       "   '__new__',\n",
       "   '__reduce__',\n",
       "   '__reduce_ex__',\n",
       "   '__repr__',\n",
       "   '__setattr__',\n",
       "   '__sizeof__',\n",
       "   '__str__',\n",
       "   '__subclasshook__',\n",
       "   'func_closure',\n",
       "   'func_code',\n",
       "   'func_defaults',\n",
       "   'func_dict',\n",
       "   'func_doc',\n",
       "   'func_globals',\n",
       "   'func_name'],\n",
       "  5: 'Dicription',\n",
       "  7: 3.0,\n",
       "  9: 4.5,\n",
       "  28: 15,\n",
       "  36: {...}},\n",
       " '_sh': <module 'IPython.core.shadowns' from '/Library/Python/2.7/site-packages/IPython/core/shadowns.pyc'>,\n",
       " 'a': 3,\n",
       " 'add_five': <function __main__.adder>,\n",
       " 'add_global': <function __main__.add_global>,\n",
       " 'b': 'B',\n",
       " 'exit': <IPython.core.autocall.ZMQExitAutocall at 0x10246f810>,\n",
       " 'f': <function __main__.adder>,\n",
       " 'get_ipython': <bound method ZMQInteractiveShell.get_ipython of <IPython.kernel.zmq.zmqshell.ZMQInteractiveShell object at 0x101d4cc10>>,\n",
       " 'i': 2,\n",
       " 'idempotent': <function __main__.idempotent>,\n",
       " 'make_adder': <function __main__.make_adder>,\n",
       " 'mean': <function __main__.mean>,\n",
       " 'quit': <IPython.core.autocall.ZMQExitAutocall at 0x10246f810>,\n",
       " 'sum': 2,\n",
       " 'x': 2,\n",
       " 'y': 2}"
      ]
     },
     "execution_count": 37,
     "metadata": {},
     "output_type": "execute_result"
    }
   ],
   "source": [
    "locals() #локальная область видимости"
   ]
  },
  {
   "cell_type": "code",
   "execution_count": 38,
   "metadata": {
    "collapsed": false
   },
   "outputs": [
    {
     "data": {
      "text/plain": [
       "<function __main__.<lambda>>"
      ]
     },
     "execution_count": 38,
     "metadata": {},
     "output_type": "execute_result"
    }
   ],
   "source": [
    "lambda x, y: (x * y) ** 0.5"
   ]
  },
  {
   "cell_type": "code",
   "execution_count": 42,
   "metadata": {
    "collapsed": false
   },
   "outputs": [
    {
     "data": {
      "text/plain": [
       "100"
      ]
     },
     "execution_count": 42,
     "metadata": {},
     "output_type": "execute_result"
    }
   ],
   "source": [
    "def apply(f, *args):\n",
    "    return f(*args)\n",
    "\n",
    "apply(lambda x: x ** 2, 10)"
   ]
  },
  {
   "cell_type": "code",
   "execution_count": 51,
   "metadata": {
    "collapsed": false
   },
   "outputs": [
    {
     "name": "stdout",
     "output_type": "stream",
     "text": [
      "[0, 1, 4, 9, 16]\n"
     ]
    }
   ],
   "source": [
    "print map(lambda x: x ** 2, range(5))"
   ]
  },
  {
   "cell_type": "code",
   "execution_count": 54,
   "metadata": {
    "collapsed": false
   },
   "outputs": [
    {
     "name": "stdout",
     "output_type": "stream",
     "text": [
      "[0, 2, 4, 6, 8]\n"
     ]
    }
   ],
   "source": [
    "print filter(lambda x: (x + 1) % 2, range(10))"
   ]
  },
  {
   "cell_type": "code",
   "execution_count": 72,
   "metadata": {
    "collapsed": true
   },
   "outputs": [],
   "source": [
    "def deprecated(func):\n",
    "    def wrapper(*args, **kwargs):\n",
    "        print '{} is deprecated!'.format(func.__name__)\n",
    "        return func(*args, **kwargs)\n",
    "    return wrapper"
   ]
  },
  {
   "cell_type": "code",
   "execution_count": 73,
   "metadata": {
    "collapsed": true
   },
   "outputs": [],
   "source": [
    "def f(x):\n",
    "    return x"
   ]
  },
  {
   "cell_type": "code",
   "execution_count": 74,
   "metadata": {
    "collapsed": true
   },
   "outputs": [],
   "source": [
    "k = deprecated(f)"
   ]
  },
  {
   "cell_type": "code",
   "execution_count": 75,
   "metadata": {
    "collapsed": false
   },
   "outputs": [
    {
     "name": "stdout",
     "output_type": "stream",
     "text": [
      "f is deprecated!\n"
     ]
    },
    {
     "data": {
      "text/plain": [
       "1"
      ]
     },
     "execution_count": 75,
     "metadata": {},
     "output_type": "execute_result"
    }
   ],
   "source": [
    "k(1)"
   ]
  },
  {
   "cell_type": "code",
   "execution_count": 76,
   "metadata": {
    "collapsed": true
   },
   "outputs": [],
   "source": [
    "@deprecated\n",
    "def f(x):\n",
    "    return x"
   ]
  },
  {
   "cell_type": "code",
   "execution_count": 77,
   "metadata": {
    "collapsed": false
   },
   "outputs": [
    {
     "name": "stdout",
     "output_type": "stream",
     "text": [
      "f is deprecated!\n"
     ]
    },
    {
     "data": {
      "text/plain": [
       "1"
      ]
     },
     "execution_count": 77,
     "metadata": {},
     "output_type": "execute_result"
    }
   ],
   "source": [
    "f(1)"
   ]
  },
  {
   "cell_type": "code",
   "execution_count": 78,
   "metadata": {
    "collapsed": false
   },
   "outputs": [
    {
     "data": {
      "text/plain": [
       "'wrapper'"
      ]
     },
     "execution_count": 78,
     "metadata": {},
     "output_type": "execute_result"
    }
   ],
   "source": [
    "f.__name__"
   ]
  },
  {
   "cell_type": "code",
   "execution_count": 79,
   "metadata": {
    "collapsed": true
   },
   "outputs": [],
   "source": [
    "import functools"
   ]
  },
  {
   "cell_type": "code",
   "execution_count": 80,
   "metadata": {
    "collapsed": true
   },
   "outputs": [],
   "source": [
    "def deprecated(func):\n",
    "    @functools.wraps(func)\n",
    "    def wrapper(*args, **kwargs):\n",
    "        print '{} is deprecated!'.format(func.__name__)\n",
    "        return func(*args, **kwargs)\n",
    "    return wrapper"
   ]
  },
  {
   "cell_type": "code",
   "execution_count": 83,
   "metadata": {
    "collapsed": true
   },
   "outputs": [],
   "source": [
    "@deprecated\n",
    "def f(x):\n",
    "    return x"
   ]
  },
  {
   "cell_type": "code",
   "execution_count": 84,
   "metadata": {
    "collapsed": false
   },
   "outputs": [
    {
     "data": {
      "text/plain": [
       "'f'"
      ]
     },
     "execution_count": 84,
     "metadata": {},
     "output_type": "execute_result"
    }
   ],
   "source": [
    "f.__name__"
   ]
  },
  {
   "cell_type": "code",
   "execution_count": null,
   "metadata": {
    "collapsed": true
   },
   "outputs": [],
   "source": []
  }
 ],
 "metadata": {
  "kernelspec": {
   "display_name": "Python 2",
   "language": "python",
   "name": "python2"
  },
  "language_info": {
   "codemirror_mode": {
    "name": "ipython",
    "version": 2
   },
   "file_extension": ".py",
   "mimetype": "text/x-python",
   "name": "python",
   "nbconvert_exporter": "python",
   "pygments_lexer": "ipython2",
   "version": "2.7.10"
  }
 },
 "nbformat": 4,
 "nbformat_minor": 0
}
