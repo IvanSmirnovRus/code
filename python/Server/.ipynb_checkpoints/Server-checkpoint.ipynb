{
 "cells": [
  {
   "cell_type": "code",
   "execution_count": 4,
   "metadata": {
    "collapsed": true
   },
   "outputs": [],
   "source": [
    "from bottle import run, route"
   ]
  },
  {
   "cell_type": "code",
   "execution_count": 5,
   "metadata": {
    "collapsed": true
   },
   "outputs": [],
   "source": [
    "@route('/')\n",
    "def main():\n",
    "    result = \"\"\n",
    "    with open('index.html', 'r') as main_page:\n",
    "        for line in main_page:\n",
    "            result += line\n",
    "    return result"
   ]
  },
  {
   "cell_type": "code",
   "execution_count": null,
   "metadata": {
    "collapsed": false
   },
   "outputs": [
    {
     "name": "stderr",
     "output_type": "stream",
     "text": [
      "Bottle v0.12.9 server starting up (using WSGIRefServer())...\n",
      "Listening on http://localhost:8080/\n",
      "Hit Ctrl-C to quit.\n",
      "\n",
      "127.0.0.1 - - [18/Nov/2015 23:52:46] \"GET / HTTP/1.1\" 200 1181\n",
      "127.0.0.1 - - [18/Nov/2015 23:52:47] \"GET /css/bootstrap.min.css HTTP/1.1\" 404 762\n",
      "127.0.0.1 - - [18/Nov/2015 23:52:47] \"GET /js/bootstrap.min.js HTTP/1.1\" 404 758\n",
      "127.0.0.1 - - [18/Nov/2015 23:54:18] \"GET / HTTP/1.1\" 200 1181\n"
     ]
    }
   ],
   "source": [
    "run(host='localhost', port=8080, debug=True)"
   ]
  },
  {
   "cell_type": "code",
   "execution_count": null,
   "metadata": {
    "collapsed": true
   },
   "outputs": [],
   "source": []
  }
 ],
 "metadata": {
  "kernelspec": {
   "display_name": "Python 2",
   "language": "python",
   "name": "python2"
  },
  "language_info": {
   "codemirror_mode": {
    "name": "ipython",
    "version": 2
   },
   "file_extension": ".py",
   "mimetype": "text/x-python",
   "name": "python",
   "nbconvert_exporter": "python",
   "pygments_lexer": "ipython2",
   "version": "2.7.10"
  }
 },
 "nbformat": 4,
 "nbformat_minor": 0
}
