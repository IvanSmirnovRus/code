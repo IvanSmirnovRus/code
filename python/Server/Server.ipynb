{
 "cells": [
  {
   "cell_type": "code",
   "execution_count": 25,
   "metadata": {
    "collapsed": true
   },
   "outputs": [],
   "source": [
    "from bottle import run, route, static_file\n",
    "import datetime\n",
    "import time"
   ]
  },
  {
   "cell_type": "code",
   "execution_count": 41,
   "metadata": {
    "collapsed": true
   },
   "outputs": [],
   "source": [
    "@route('/')\n",
    "def main():\n",
    "    result = \"\"\n",
    "    with open('index.html', 'r') as main_page:\n",
    "        for line in main_page:\n",
    "            result += line\n",
    "    tm = datetime.datetime.today()\n",
    "    return '<h3>{}:{}</h3>'.format(str(tm.hour), str(tm.minute))\n",
    "\n",
    "@route('/css/bootstrap.min.css')\n",
    "def css():\n",
    "    return static_file('css/bootstrap.min.css', root = '.')"
   ]
  },
  {
   "cell_type": "code",
   "execution_count": null,
   "metadata": {
    "collapsed": false
   },
   "outputs": [
    {
     "name": "stderr",
     "output_type": "stream",
     "text": [
      "Bottle v0.12.9 server starting up (using WSGIRefServer())...\n",
      "Listening on http://localhost:8080/\n",
      "Hit Ctrl-C to quit.\n",
      "\n",
      "127.0.0.1 - - [19/Nov/2015 00:25:07] \"GET / HTTP/1.1\" 200 13\n",
      "127.0.0.1 - - [19/Nov/2015 00:25:14] \"GET / HTTP/1.1\" 200 13\n",
      "127.0.0.1 - - [19/Nov/2015 00:25:16] \"GET / HTTP/1.1\" 200 13\n"
     ]
    }
   ],
   "source": [
    "run(host='localhost', port=8080, debug=True)"
   ]
  },
  {
   "cell_type": "code",
   "execution_count": null,
   "metadata": {
    "collapsed": true
   },
   "outputs": [],
   "source": []
  }
 ],
 "metadata": {
  "kernelspec": {
   "display_name": "Python 2",
   "language": "python",
   "name": "python2"
  },
  "language_info": {
   "codemirror_mode": {
    "name": "ipython",
    "version": 2
   },
   "file_extension": ".py",
   "mimetype": "text/x-python",
   "name": "python",
   "nbconvert_exporter": "python",
   "pygments_lexer": "ipython2",
   "version": "2.7.10"
  }
 },
 "nbformat": 4,
 "nbformat_minor": 0
}
