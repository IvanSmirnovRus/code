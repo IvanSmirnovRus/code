{
 "cells": [
  {
   "cell_type": "code",
   "execution_count": 1,
   "metadata": {
    "collapsed": false
   },
   "outputs": [],
   "source": [
    "import sys\n",
    "import collections"
   ]
  },
  {
   "cell_type": "code",
   "execution_count": 2,
   "metadata": {
    "collapsed": false
   },
   "outputs": [],
   "source": [
    "class Ocean(object):\n",
    "    def __init__(self, length, width, steps):\n",
    "        self.length = length\n",
    "        self.width = width\n",
    "        self.steps = steps\n",
    "        self.ocean = [[0 for i in xrange(width)] for i in xrange(length)]\n",
    "        \n",
    "    def fill(self, y, x, obj):\n",
    "        self.ocean[y][x] = obj\n",
    "        \n",
    "    def get_neighbors(self, y, x):\n",
    "        neighbors =  collections.Counter()\n",
    "        for i in range(-1, 2):\n",
    "            for j in range(-1, 2):\n",
    "                if 0 <= y + i < self.length and 0 <= x + j < self.width and (i != 0 or j != 0):\n",
    "                    neighbors[self.ocean[y + i][x + j]] += 1\n",
    "        return neighbors\n",
    "    \n",
    "    def get_object(self, y, x):\n",
    "        return self.ocean[y][x]\n",
    "    \n",
    "    def print_ocean(self):\n",
    "        for i in xrange(self.length):\n",
    "            line = []\n",
    "            for j in xrange(self.width):\n",
    "                line.append(str(self.get_object(i, j)))\n",
    "            print ' '.join(line)"
   ]
  },
  {
   "cell_type": "code",
   "execution_count": 3,
   "metadata": {
    "collapsed": false
   },
   "outputs": [],
   "source": [
    "def read_input():\n",
    "    with open('homework2/test', 'r') as f:\n",
    "        steps = int(f.readline().rstrip('\\n'))\n",
    "        y, x = map(int, f.readline().rstrip('\\n').split())\n",
    "        my_ocean = Ocean(y, x, steps)\n",
    "        for i, line in enumerate(f):\n",
    "            for j, column in enumerate(line.rstrip('\\n').split()):\n",
    "                my_ocean.fill(i, j, int(column))\n",
    "        return my_ocean"
   ]
  },
  {
   "cell_type": "code",
   "execution_count": 4,
   "metadata": {
    "collapsed": false
   },
   "outputs": [],
   "source": [
    "my_ocean = read_input()"
   ]
  },
  {
   "cell_type": "code",
   "execution_count": 5,
   "metadata": {
    "collapsed": false
   },
   "outputs": [],
   "source": [
    "def make_step(ocean):\n",
    "    new_ocean = Ocean(ocean.length, ocean.width, ocean.steps - 1)\n",
    "    for i in xrange(ocean.length):\n",
    "        for j in xrange(ocean.width):\n",
    "            neighbors = ocean.get_neighbors(i, j)\n",
    "            obj = ocean.get_object(i, j)\n",
    "            if obj == 1:\n",
    "                new_ocean.fill(i, j, 1)\n",
    "            elif obj == 0:\n",
    "                if neighbors[2] == 3:\n",
    "                    new_ocean.fill(i, j, 2)\n",
    "                elif neighbors[2] != 3 and neighbors[3] == 3:\n",
    "                    new_ocean.fill(i, j, 3)\n",
    "            else:\n",
    "                if neighbors[obj] > 3 or neighbors[obj] < 2:\n",
    "                    new_ocean.fill(i, j, 0)\n",
    "                else:\n",
    "                    new_ocean.fill(i, j, obj)\n",
    "    return new_ocean"
   ]
  },
  {
   "cell_type": "code",
   "execution_count": 6,
   "metadata": {
    "collapsed": false
   },
   "outputs": [],
   "source": [
    "while(my_ocean.steps > 0):\n",
    "    my_ocean = make_step(my_ocean)"
   ]
  },
  {
   "cell_type": "code",
   "execution_count": 7,
   "metadata": {
    "collapsed": false
   },
   "outputs": [
    {
     "name": "stdout",
     "output_type": "stream",
     "text": [
      "0 0 0 0\n",
      "0 3 3 0\n",
      "0 3 3 0\n",
      "0 1 0 1\n"
     ]
    }
   ],
   "source": [
    "my_ocean.print_ocean()"
   ]
  },
  {
   "cell_type": "code",
   "execution_count": null,
   "metadata": {
    "collapsed": true
   },
   "outputs": [],
   "source": []
  }
 ],
 "metadata": {
  "kernelspec": {
   "display_name": "Python 2",
   "language": "python",
   "name": "python2"
  },
  "language_info": {
   "codemirror_mode": {
    "name": "ipython",
    "version": 2
   },
   "file_extension": ".py",
   "mimetype": "text/x-python",
   "name": "python",
   "nbconvert_exporter": "python",
   "pygments_lexer": "ipython2",
   "version": "2.7.10"
  }
 },
 "nbformat": 4,
 "nbformat_minor": 0
}
